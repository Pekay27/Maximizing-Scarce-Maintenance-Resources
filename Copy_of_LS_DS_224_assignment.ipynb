{
  "nbformat": 4,
  "nbformat_minor": 0,
  "metadata": {
    "kernelspec": {
      "display_name": "Python 3",
      "language": "python",
      "name": "python3"
    },
    "language_info": {
      "codemirror_mode": {
        "name": "ipython",
        "version": 3
      },
      "file_extension": ".py",
      "mimetype": "text/x-python",
      "name": "python",
      "nbconvert_exporter": "python",
      "pygments_lexer": "ipython3",
      "version": "3.7.3"
    },
    "colab": {
      "name": "Copy of LS_DS_224_assignment.ipynb",
      "provenance": [],
      "include_colab_link": true
    },
    "widgets": {
      "application/vnd.jupyter.widget-state+json": {
        "4da37bb01d9941e1ad6ff40ec570c30f": {
          "model_module": "@jupyter-widgets/controls",
          "model_name": "VBoxModel",
          "state": {
            "_view_name": "VBoxView",
            "_dom_classes": [
              "widget-interact"
            ],
            "_model_name": "VBoxModel",
            "_view_module": "@jupyter-widgets/controls",
            "_model_module_version": "1.5.0",
            "_view_count": null,
            "_view_module_version": "1.5.0",
            "box_style": "",
            "layout": "IPY_MODEL_f3fa4700b1ac43ac895de7084a58aa05",
            "_model_module": "@jupyter-widgets/controls",
            "children": [
              "IPY_MODEL_9378110d5235426283766ffe1c716efb",
              "IPY_MODEL_d5f20ca324d94ace82f7f7993a77b3b6"
            ]
          }
        },
        "f3fa4700b1ac43ac895de7084a58aa05": {
          "model_module": "@jupyter-widgets/base",
          "model_name": "LayoutModel",
          "state": {
            "_view_name": "LayoutView",
            "grid_template_rows": null,
            "right": null,
            "justify_content": null,
            "_view_module": "@jupyter-widgets/base",
            "overflow": null,
            "_model_module_version": "1.2.0",
            "_view_count": null,
            "flex_flow": null,
            "width": null,
            "min_width": null,
            "border": null,
            "align_items": null,
            "bottom": null,
            "_model_module": "@jupyter-widgets/base",
            "top": null,
            "grid_column": null,
            "overflow_y": null,
            "overflow_x": null,
            "grid_auto_flow": null,
            "grid_area": null,
            "grid_template_columns": null,
            "flex": null,
            "_model_name": "LayoutModel",
            "justify_items": null,
            "grid_row": null,
            "max_height": null,
            "align_content": null,
            "visibility": null,
            "align_self": null,
            "height": null,
            "min_height": null,
            "padding": null,
            "grid_auto_rows": null,
            "grid_gap": null,
            "max_width": null,
            "order": null,
            "_view_module_version": "1.2.0",
            "grid_template_areas": null,
            "object_position": null,
            "object_fit": null,
            "grid_auto_columns": null,
            "margin": null,
            "display": null,
            "left": null
          }
        },
        "9378110d5235426283766ffe1c716efb": {
          "model_module": "@jupyter-widgets/controls",
          "model_name": "FloatSliderModel",
          "state": {
            "_view_name": "FloatSliderView",
            "style": "IPY_MODEL_b2ff298a637a45129d5fe42620366ca3",
            "_dom_classes": [],
            "description": "threshold",
            "step": 0.02,
            "_model_name": "FloatSliderModel",
            "orientation": "horizontal",
            "max": 1,
            "_view_module": "@jupyter-widgets/controls",
            "_model_module_version": "1.5.0",
            "value": 0.94,
            "_view_count": null,
            "disabled": false,
            "_view_module_version": "1.5.0",
            "min": 0,
            "continuous_update": true,
            "readout_format": ".2f",
            "description_tooltip": null,
            "readout": true,
            "_model_module": "@jupyter-widgets/controls",
            "layout": "IPY_MODEL_dec5afcdc57241dc9730761fefc8f323"
          }
        },
        "d5f20ca324d94ace82f7f7993a77b3b6": {
          "model_module": "@jupyter-widgets/output",
          "model_name": "OutputModel",
          "state": {
            "_view_name": "OutputView",
            "msg_id": "",
            "_dom_classes": [],
            "_model_name": "OutputModel",
            "outputs": [
              {
                "output_type": "stream",
                "metadata": {
                  "tags": []
                },
                "text": "/usr/local/lib/python3.6/dist-packages/seaborn/distributions.py:2557: FutureWarning: `distplot` is a deprecated function and will be removed in a future version. Please adapt your code to use either `displot` (a figure-level function with similar flexibility) or `histplot` (an axes-level function for histograms).\n  warnings.warn(msg, FutureWarning)\n",
                "stream": "stderr"
              },
              {
                "output_type": "display_data",
                "metadata": {
                  "tags": [],
                  "needs_background": "light"
                },
                "image/png": "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\n",
                "text/plain": "<Figure size 432x288 with 1 Axes>"
              },
              {
                "output_type": "stream",
                "metadata": {
                  "tags": []
                },
                "text": "              precision    recall  f1-score   support\n\n           0       0.62      1.00      0.77      6457\n           1       0.99      0.28      0.44      5423\n\n    accuracy                           0.67     11880\n   macro avg       0.81      0.64      0.60     11880\nweighted avg       0.79      0.67      0.62     11880\n\n",
                "stream": "stdout"
              },
              {
                "output_type": "display_data",
                "metadata": {
                  "tags": [],
                  "needs_background": "light"
                },
                "image/png": "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\n",
                "text/plain": "<Figure size 432x288 with 2 Axes>"
              }
            ],
            "_view_module": "@jupyter-widgets/output",
            "_model_module_version": "1.0.0",
            "_view_count": null,
            "_view_module_version": "1.0.0",
            "layout": "IPY_MODEL_e8998a0c339147f3bfb3bb2fc6e57a24",
            "_model_module": "@jupyter-widgets/output"
          }
        },
        "b2ff298a637a45129d5fe42620366ca3": {
          "model_module": "@jupyter-widgets/controls",
          "model_name": "SliderStyleModel",
          "state": {
            "_view_name": "StyleView",
            "handle_color": null,
            "_model_name": "SliderStyleModel",
            "description_width": "",
            "_view_module": "@jupyter-widgets/base",
            "_model_module_version": "1.5.0",
            "_view_count": null,
            "_view_module_version": "1.2.0",
            "_model_module": "@jupyter-widgets/controls"
          }
        },
        "dec5afcdc57241dc9730761fefc8f323": {
          "model_module": "@jupyter-widgets/base",
          "model_name": "LayoutModel",
          "state": {
            "_view_name": "LayoutView",
            "grid_template_rows": null,
            "right": null,
            "justify_content": null,
            "_view_module": "@jupyter-widgets/base",
            "overflow": null,
            "_model_module_version": "1.2.0",
            "_view_count": null,
            "flex_flow": null,
            "width": null,
            "min_width": null,
            "border": null,
            "align_items": null,
            "bottom": null,
            "_model_module": "@jupyter-widgets/base",
            "top": null,
            "grid_column": null,
            "overflow_y": null,
            "overflow_x": null,
            "grid_auto_flow": null,
            "grid_area": null,
            "grid_template_columns": null,
            "flex": null,
            "_model_name": "LayoutModel",
            "justify_items": null,
            "grid_row": null,
            "max_height": null,
            "align_content": null,
            "visibility": null,
            "align_self": null,
            "height": null,
            "min_height": null,
            "padding": null,
            "grid_auto_rows": null,
            "grid_gap": null,
            "max_width": null,
            "order": null,
            "_view_module_version": "1.2.0",
            "grid_template_areas": null,
            "object_position": null,
            "object_fit": null,
            "grid_auto_columns": null,
            "margin": null,
            "display": null,
            "left": null
          }
        },
        "e8998a0c339147f3bfb3bb2fc6e57a24": {
          "model_module": "@jupyter-widgets/base",
          "model_name": "LayoutModel",
          "state": {
            "_view_name": "LayoutView",
            "grid_template_rows": null,
            "right": null,
            "justify_content": null,
            "_view_module": "@jupyter-widgets/base",
            "overflow": null,
            "_model_module_version": "1.2.0",
            "_view_count": null,
            "flex_flow": null,
            "width": null,
            "min_width": null,
            "border": null,
            "align_items": null,
            "bottom": null,
            "_model_module": "@jupyter-widgets/base",
            "top": null,
            "grid_column": null,
            "overflow_y": null,
            "overflow_x": null,
            "grid_auto_flow": null,
            "grid_area": null,
            "grid_template_columns": null,
            "flex": null,
            "_model_name": "LayoutModel",
            "justify_items": null,
            "grid_row": null,
            "max_height": null,
            "align_content": null,
            "visibility": null,
            "align_self": null,
            "height": null,
            "min_height": null,
            "padding": null,
            "grid_auto_rows": null,
            "grid_gap": null,
            "max_width": null,
            "order": null,
            "_view_module_version": "1.2.0",
            "grid_template_areas": null,
            "object_position": null,
            "object_fit": null,
            "grid_auto_columns": null,
            "margin": null,
            "display": null,
            "left": null
          }
        }
      }
    }
  },
  "cells": [
    {
      "cell_type": "markdown",
      "metadata": {
        "id": "view-in-github",
        "colab_type": "text"
      },
      "source": [
        "<a href=\"https://colab.research.google.com/github/Pekay27/Maximizing-Scarce-Maintenance-Resources/blob/master/Copy_of_LS_DS_224_assignment.ipynb\" target=\"_parent\"><img src=\"https://colab.research.google.com/assets/colab-badge.svg\" alt=\"Open In Colab\"/></a>"
      ]
    },
    {
      "cell_type": "markdown",
      "metadata": {
        "id": "tKMxCIXNENeQ"
      },
      "source": [
        ".0Lambda School Data Science\n",
        "\n",
        "*Unit 2, Sprint 2, Module 4*\n",
        "\n",
        "---"
      ]
    },
    {
      "cell_type": "markdown",
      "metadata": {
        "id": "nCc3XZEyG3XV"
      },
      "source": [
        "# Classification Metrics\n",
        "\n",
        "## Assignment\n",
        "- [ ] If you haven't yet, [review requirements for your portfolio project](https://lambdaschool.github.io/ds/unit2), then submit your dataset.\n",
        "- [ ] Plot a confusion matrix for your Tanzania Waterpumps model.\n",
        "- [ ] Continue to participate in our Kaggle challenge. Every student should have made at least one submission that scores at least 70% accuracy (well above the majority class baseline).\n",
        "- [ ] Submit your final predictions to our Kaggle competition. Optionally, go to **My Submissions**, and _\"you may select up to 1 submission to be used to count towards your final leaderboard score.\"_\n",
        "- [ ] Commit your notebook to your fork of the GitHub repo.\n",
        "- [ ] Read [Maximizing Scarce Maintenance Resources with Data: Applying predictive modeling, precision at k, and clustering to optimize impact](http://archive.is/DelgE), by Lambda DS3 student Michael Brady. His blog post extends the Tanzania Waterpumps scenario, far beyond what's in the lecture notebook.\n",
        "\n",
        "\n",
        "## Stretch Goals\n",
        "\n",
        "### Reading\n",
        "\n",
        "- [Attacking discrimination with smarter machine learning](https://research.google.com/bigpicture/attacking-discrimination-in-ml/), by Google Research, with  interactive visualizations. _\"A threshold classifier essentially makes a yes/no decision, putting things in one category or another. We look at how these classifiers work, ways they can potentially be unfair, and how you might turn an unfair classifier into a fairer one. As an illustrative example, we focus on loan granting scenarios where a bank may grant or deny a loan based on a single, automatically computed number such as a credit score.\"_\n",
        "- [Notebook about how to calculate expected value from a confusion matrix by treating it as a cost-benefit matrix](https://github.com/podopie/DAT18NYC/blob/master/classes/13-expected_value_cost_benefit_analysis.ipynb)\n",
        "- [Visualizing Machine Learning Thresholds to Make Better Business Decisions](https://blog.insightdatascience.com/visualizing-machine-learning-thresholds-to-make-better-business-decisions-4ab07f823415)\n",
        "\n",
        "\n",
        "### Doing\n",
        "- [ ] Share visualizations in our Slack channel!\n",
        "- [ ] RandomizedSearchCV / GridSearchCV, for model selection. (See module 3 assignment notebook)\n",
        "- [ ] Stacking Ensemble. (See module 3 assignment notebook)\n",
        "- [ ] More Categorical Encoding. (See module 2 assignment notebook)"
      ]
    },
    {
      "cell_type": "code",
      "metadata": {
        "id": "1I3F8lrZCCfW"
      },
      "source": [
        ""
      ],
      "execution_count": null,
      "outputs": []
    },
    {
      "cell_type": "code",
      "metadata": {
        "id": "lsbRiKBoB5RE"
      },
      "source": [
        "%%capture\n",
        "import sys\n",
        "\n",
        "# If you're on Colab:\n",
        "if 'google.colab' in sys.modules:\n",
        "    DATA_PATH = 'https://raw.githubusercontent.com/LambdaSchool/DS-Unit-2-Kaggle-Challenge/master/data/'\n",
        "    !pip install category_encoders==2.*\n",
        "\n",
        "# If you're working locally:\n",
        "else:\n",
        "    DATA_PATH = '../data/'"
      ],
      "execution_count": 1,
      "outputs": []
    },
    {
      "cell_type": "code",
      "metadata": {
        "id": "pDs7dYsrFyjZ",
        "colab": {
          "base_uri": "https://localhost:8080/"
        },
        "outputId": "9a942a2e-8a75-45f9-f486-001a983879c5"
      },
      "source": [
        "%matplotlib inline\r\n",
        "import category_encoders as ce\r\n",
        "import matplotlib.pyplot as plt\r\n",
        "import numpy as np\r\n",
        "import pandas as pd\r\n",
        "import seaborn as sns\r\n",
        "from sklearn.impute import SimpleImputer\r\n",
        "from sklearn.metrics import accuracy_score\r\n",
        "from sklearn.model_selection import train_test_split\r\n",
        "from sklearn.pipeline import make_pipeline\r\n",
        "from sklearn.preprocessing import FunctionTransformer\r\n",
        "from sklearn.ensemble import RandomForestClassifier\r\n",
        "from sklearn.metrics import plot_confusion_matrix"
      ],
      "execution_count": 2,
      "outputs": [
        {
          "output_type": "stream",
          "text": [
            "/usr/local/lib/python3.6/dist-packages/statsmodels/tools/_testing.py:19: FutureWarning: pandas.util.testing is deprecated. Use the functions in the public API at pandas.testing instead.\n",
            "  import pandas.util.testing as tm\n"
          ],
          "name": "stderr"
        }
      ]
    },
    {
      "cell_type": "code",
      "metadata": {
        "id": "wmPXGHU2ENeT"
      },
      "source": [
        "def wrangle(X):\r\n",
        "    \"\"\"Wrangles train, validate, and test sets in the same way\"\"\"\r\n",
        "    X = X.copy()\r\n",
        "\r\n",
        "    # Convert date_recorded to datetime\r\n",
        "    X['date_recorded'] = pd.to_datetime(X['date_recorded'], infer_datetime_format=True)\r\n",
        "    \r\n",
        "    # Extract components from date_recorded, then drop the original column\r\n",
        "    X['year_recorded'] = X['date_recorded'].dt.year\r\n",
        "    X['month_recorded'] = X['date_recorded'].dt.month\r\n",
        "    X['day_recorded'] = X['date_recorded'].dt.day\r\n",
        "    X = X.drop(columns='date_recorded')\r\n",
        "    \r\n",
        "    # Engineer feature: how many years from construction_year to date_recorded\r\n",
        "    X['years'] = X['year_recorded'] - X['construction_year']    \r\n",
        "    \r\n",
        "    # Drop recorded_by (never varies) and id (always varies, random)\r\n",
        "    unusable_variance = ['recorded_by', 'id']\r\n",
        "    X = X.drop(columns=unusable_variance)\r\n",
        "    \r\n",
        "    # Drop duplicate columns\r\n",
        "    duplicate_columns = ['quantity_group']\r\n",
        "    X = X.drop(columns=duplicate_columns)\r\n",
        "    \r\n",
        "    # About 3% of the time, latitude has small values near zero,\r\n",
        "    # outside Tanzania, so we'll treat these like null values\r\n",
        "    X['latitude'] = X['latitude'].replace(-2e-08, np.nan)\r\n",
        "    \r\n",
        "    # When columns have zeros and shouldn't, they are like null values\r\n",
        "    cols_with_zeros = ['construction_year', 'longitude', 'latitude', 'gps_height', 'population']\r\n",
        "    for col in cols_with_zeros:\r\n",
        "        X[col] = X[col].replace(0, np.nan)\r\n",
        "        \r\n",
        "    return X\r\n"
      ],
      "execution_count": 6,
      "outputs": []
    },
    {
      "cell_type": "code",
      "metadata": {
        "id": "b2-sVYvXGAbo"
      },
      "source": [
        "# Merge train_features.csv & train_labels.csv\r\n",
        "df = pd.merge(pd.read_csv(DATA_PATH+'waterpumps/train_features.csv'), \r\n",
        "                 pd.read_csv(DATA_PATH+'waterpumps/train_labels.csv'))\r\n",
        "\r\n",
        "# Read test_features.csv & sample_submission.csv\r\n",
        "test = pd.read_csv(DATA_PATH+'waterpumps/test_features.csv')\r\n",
        "sample_submission = pd.read_csv(DATA_PATH+'waterpumps/sample_submission.csv')\r\n"
      ],
      "execution_count": 7,
      "outputs": []
    },
    {
      "cell_type": "code",
      "metadata": {
        "id": "YiUEQTwIK_9f"
      },
      "source": [
        "# transform status group into binary encoding 'functional' and 'non functional' \r\n",
        "df['needs_to_repair'] = df['status_group'].apply(lambda x : 0 if x == 'functional' else 1)\r\n",
        "X = df.drop(['needs_to_repair', 'status_group'], axis=1)\r\n",
        "y = df['needs_to_repair']"
      ],
      "execution_count": 9,
      "outputs": []
    },
    {
      "cell_type": "code",
      "metadata": {
        "id": "mxoYm2TJLH4-"
      },
      "source": [
        "# split data\r\n",
        "X_train, X_val, y_train, y_val = train_test_split(X, y, test_size=0.2, random_state=42)"
      ],
      "execution_count": 10,
      "outputs": []
    },
    {
      "cell_type": "code",
      "metadata": {
        "id": "9D-2R9tJGHX3",
        "colab": {
          "base_uri": "https://localhost:8080/"
        },
        "outputId": "cb36c7d7-b9af-498d-ee1c-20860ca41983"
      },
      "source": [
        "# Make pipeline!\r\n",
        "pipeline = make_pipeline(\r\n",
        "    FunctionTransformer(wrangle, validate=False), \r\n",
        "    ce.OrdinalEncoder(), \r\n",
        "    SimpleImputer(strategy='mean'), \r\n",
        "    RandomForestClassifier(n_estimators=90, max_depth=25, max_features='auto', random_state=42, n_jobs=-1)\r\n",
        ")\r\n",
        "\r\n",
        "# Fit on train, score on val\r\n",
        "pipeline.fit(X_train, y_train)\r\n",
        "y_pred = pipeline.predict(X_val)\r\n",
        "print('Validation Accuracy', accuracy_score(y_val, y_pred))"
      ],
      "execution_count": 14,
      "outputs": [
        {
          "output_type": "stream",
          "text": [
            "Validation Accuracy 0.8262626262626263\n"
          ],
          "name": "stdout"
        }
      ]
    },
    {
      "cell_type": "code",
      "metadata": {
        "id": "vZQAXJP_g-k7"
      },
      "source": [
        "# ran the cell below in another notebook, ran for 60mins, \r\n",
        "# decided to hard code best params from the gridsearch \r\n",
        "# now lets tune model by using GridSearchCV\r\n",
        "# first create a dictionary of hyperparameters that\r\n",
        "# I want to tune in the GridSearch, and the values/increments in which to do it\r\n",
        "\r\n",
        "#params = {'randomforestclassifier__n_estimators': np.arange(90,131,20),\r\n",
        "          'randomforestclassifier__max_depth': np.arange(15,35,10),\r\n",
        "          'randomforestclassifier__max_features': np.arange(13,23,3),\r\n",
        "          'randomforestclassifier__max_samples': np.arange(0.3, 0.51, 0.1)}\r\n",
        "# create model using rf & gs\r\n",
        "\r\n",
        "# rf_gs= GridSearchCV(rf, params, cv=5, n_jobs=-1, verbose=1)"
      ],
      "execution_count": null,
      "outputs": []
    },
    {
      "cell_type": "code",
      "metadata": {
        "id": "2IazEzCTHV6d",
        "colab": {
          "base_uri": "https://localhost:8080/",
          "height": 297
        },
        "outputId": "25d9391f-74d8-4473-eeaa-cd1ee84ba434"
      },
      "source": [
        "# Plot a confusion matrix for your Tanzania Waterpumps model\r\n",
        "from sklearn.metrics import plot_confusion_matrix\r\n",
        "plot_confusion_matrix(pipeline, X_val, y_val, values_format='.0f')"
      ],
      "execution_count": 15,
      "outputs": [
        {
          "output_type": "execute_result",
          "data": {
            "text/plain": [
              "<sklearn.metrics._plot.confusion_matrix.ConfusionMatrixDisplay at 0x7fdbe32709e8>"
            ]
          },
          "metadata": {
            "tags": []
          },
          "execution_count": 15
        },
        {
          "output_type": "display_data",
          "data": {
            "image/png": "[encoded data removed]",
            "text/plain": [
              "<Figure size 432x288 with 2 Axes>"
            ]
          },
          "metadata": {
            "tags": [],
            "needs_background": "light"
          }
        }
      ]
    },
    {
      "cell_type": "code",
      "metadata": {
        "id": "P6IEcfFTHdxd",
        "colab": {
          "base_uri": "https://localhost:8080/"
        },
        "outputId": "184a036a-5aa5-42e8-b6d6-4746f8f9fd5e"
      },
      "source": [
        "# check all scores\r\n",
        "from sklearn.metrics import classification_report\r\n",
        "print(classification_report(y_val, y_pred, digits=6))"
      ],
      "execution_count": 17,
      "outputs": [
        {
          "output_type": "stream",
          "text": [
            "              precision    recall  f1-score   support\n",
            "\n",
            "           0   0.816910  0.876878  0.845832      6457\n",
            "           1   0.839361  0.765997  0.801003      5423\n",
            "\n",
            "    accuracy                       0.826263     11880\n",
            "   macro avg   0.828136  0.821437  0.823417     11880\n",
            "weighted avg   0.827158  0.826263  0.825368     11880\n",
            "\n"
          ],
          "name": "stdout"
        }
      ]
    },
    {
      "cell_type": "code",
      "metadata": {
        "id": "ogIQH3f6NAdL"
      },
      "source": [
        "# create PR curve and PR Score\r\n",
        "# predicted probabilities \r\n",
        "pipeline.predict_proba(X_val)\r\n",
        "# predicted probs for positive class\r\n",
        "y_pred_prob = pipeline.predict_proba(X_val)[:,1]"
      ],
      "execution_count": 19,
      "outputs": []
    },
    {
      "cell_type": "code",
      "metadata": {
        "colab": {
          "base_uri": "https://localhost:8080/",
          "height": 759,
          "referenced_widgets": [
            "4da37bb01d9941e1ad6ff40ec570c30f",
            "f3fa4700b1ac43ac895de7084a58aa05",
            "9378110d5235426283766ffe1c716efb",
            "d5f20ca324d94ace82f7f7993a77b3b6",
            "b2ff298a637a45129d5fe42620366ca3",
            "dec5afcdc57241dc9730761fefc8f323",
            "e8998a0c339147f3bfb3bb2fc6e57a24"
          ]
        },
        "id": "XhCeo9vHeF1r",
        "outputId": "d11d82cc-dcc2-4eca-d527-dbdc233897b6"
      },
      "source": [
        "from ipywidgets import interact, fixed\r\n",
        "import seaborn as sns\r\n",
        "from sklearn.metrics import confusion_matrix\r\n",
        "from sklearn.utils.multiclass import unique_labels\r\n",
        "\r\n",
        "def my_confusion_matrix(y_true, y_pred):\r\n",
        "    labels = unique_labels(y_true)\r\n",
        "    columns = [f'Predicted {label}' for label in labels]\r\n",
        "    index = [f'Actual {label}' for label in labels]\r\n",
        "    table = pd.DataFrame(confusion_matrix(y_true, y_pred), \r\n",
        "                         columns=columns, index=index)\r\n",
        "    return sns.heatmap(table, annot=True, fmt='d', cmap='viridis')\r\n",
        "\r\n",
        "def set_threshold(y_true, y_pred_proba, threshold=0.5):\r\n",
        "    y_pred = y_pred_proba > threshold\r\n",
        "    ax = sns.distplot(y_pred_proba)\r\n",
        "    ax.axvline(threshold, color='red')\r\n",
        "    plt.show()\r\n",
        "    print(classification_report(y_true, y_pred))\r\n",
        "    my_confusion_matrix(y_true, y_pred)\r\n",
        "\r\n",
        "interact(set_threshold, \r\n",
        "         y_true=fixed(y_val), \r\n",
        "         y_pred_proba=fixed(y_pred_prob), \r\n",
        "         threshold=(0, 1, 0.02));"
      ],
      "execution_count": 21,
      "outputs": [
        {
          "output_type": "display_data",
          "data": {
            "application/vnd.jupyter.widget-view+json": {
              "model_id": "4da37bb01d9941e1ad6ff40ec570c30f",
              "version_minor": 0,
              "version_major": 2
            },
            "text/plain": [
              "interactive(children=(FloatSlider(value=0.5, description='threshold', max=1.0, step=0.02), Output()), _dom_cla…"
            ]
          },
          "metadata": {
            "tags": []
          }
        }
      ]
    },
    {
      "cell_type": "code",
      "metadata": {
        "id": "TIKzgjZVe2Nx"
      },
      "source": [
        "from sklearn.metrics import precision_recall_curve\r\n",
        "from sklearn.metrics import plot_precision_recall_curve\r\n",
        "\r\n",
        "precision, recall, thresholds = precision_recall_curve(y_val, y_pred_prob)"
      ],
      "execution_count": 23,
      "outputs": []
    },
    {
      "cell_type": "code",
      "metadata": {
        "id": "qDWNTxetfn3i"
      },
      "source": [
        "recall_remove_last = recall[:-1]\r\n",
        "precision_remove_last = precision[:-1]"
      ],
      "execution_count": 24,
      "outputs": []
    },
    {
      "cell_type": "code",
      "metadata": {
        "colab": {
          "base_uri": "https://localhost:8080/",
          "height": 399
        },
        "id": "j9Iyaj-7f0H9",
        "outputId": "fa2671d3-f27c-4873-86c5-161fd05d4877"
      },
      "source": [
        "# See the results in a table\r\n",
        "pd.DataFrame({\r\n",
        "    'Precision': precision_remove_last, \r\n",
        "    'Recall': recall_remove_last, \r\n",
        "    'Threshold': thresholds\r\n",
        "\r\n",
        "})"
      ],
      "execution_count": 25,
      "outputs": [
        {
          "output_type": "execute_result",
          "data": {
            "text/html": [
              "<div>\n",
              "<style scoped>\n",
              "    .dataframe tbody tr th:only-of-type {\n",
              "        vertical-align: middle;\n",
              "    }\n",
              "\n",
              "    .dataframe tbody tr th {\n",
              "        vertical-align: top;\n",
              "    }\n",
              "\n",
              "    .dataframe thead th {\n",
              "        text-align: right;\n",
              "    }\n",
              "</style>\n",
              "<table border=\"1\" class=\"dataframe\">\n",
              "  <thead>\n",
              "    <tr style=\"text-align: right;\">\n",
              "      <th></th>\n",
              "      <th>Precision</th>\n",
              "      <th>Recall</th>\n",
              "      <th>Threshold</th>\n",
              "    </tr>\n",
              "  </thead>\n",
              "  <tbody>\n",
              "    <tr>\n",
              "      <th>0</th>\n",
              "      <td>0.456481</td>\n",
              "      <td>1.000000</td>\n",
              "      <td>0.000000</td>\n",
              "    </tr>\n",
              "    <tr>\n",
              "      <th>1</th>\n",
              "      <td>0.461591</td>\n",
              "      <td>0.999447</td>\n",
              "      <td>0.000048</td>\n",
              "    </tr>\n",
              "    <tr>\n",
              "      <th>2</th>\n",
              "      <td>0.461630</td>\n",
              "      <td>0.999447</td>\n",
              "      <td>0.000066</td>\n",
              "    </tr>\n",
              "    <tr>\n",
              "      <th>3</th>\n",
              "      <td>0.461984</td>\n",
              "      <td>0.999447</td>\n",
              "      <td>0.000096</td>\n",
              "    </tr>\n",
              "    <tr>\n",
              "      <th>4</th>\n",
              "      <td>0.462063</td>\n",
              "      <td>0.999447</td>\n",
              "      <td>0.000122</td>\n",
              "    </tr>\n",
              "    <tr>\n",
              "      <th>...</th>\n",
              "      <td>...</td>\n",
              "      <td>...</td>\n",
              "      <td>...</td>\n",
              "    </tr>\n",
              "    <tr>\n",
              "      <th>7688</th>\n",
              "      <td>0.984334</td>\n",
              "      <td>0.069519</td>\n",
              "      <td>0.999790</td>\n",
              "    </tr>\n",
              "    <tr>\n",
              "      <th>7689</th>\n",
              "      <td>0.986877</td>\n",
              "      <td>0.069334</td>\n",
              "      <td>0.999882</td>\n",
              "    </tr>\n",
              "    <tr>\n",
              "      <th>7690</th>\n",
              "      <td>0.986702</td>\n",
              "      <td>0.068412</td>\n",
              "      <td>0.999918</td>\n",
              "    </tr>\n",
              "    <tr>\n",
              "      <th>7691</th>\n",
              "      <td>0.986595</td>\n",
              "      <td>0.067859</td>\n",
              "      <td>0.999978</td>\n",
              "    </tr>\n",
              "    <tr>\n",
              "      <th>7692</th>\n",
              "      <td>0.986450</td>\n",
              "      <td>0.067122</td>\n",
              "      <td>1.000000</td>\n",
              "    </tr>\n",
              "  </tbody>\n",
              "</table>\n",
              "<p>7693 rows × 3 columns</p>\n",
              "</div>"
            ],
            "text/plain": [
              "      Precision    Recall  Threshold\n",
              "0      0.456481  1.000000   0.000000\n",
              "1      0.461591  0.999447   0.000048\n",
              "2      0.461630  0.999447   0.000066\n",
              "3      0.461984  0.999447   0.000096\n",
              "4      0.462063  0.999447   0.000122\n",
              "...         ...       ...        ...\n",
              "7688   0.984334  0.069519   0.999790\n",
              "7689   0.986877  0.069334   0.999882\n",
              "7690   0.986702  0.068412   0.999918\n",
              "7691   0.986595  0.067859   0.999978\n",
              "7692   0.986450  0.067122   1.000000\n",
              "\n",
              "[7693 rows x 3 columns]"
            ]
          },
          "metadata": {
            "tags": []
          },
          "execution_count": 25
        }
      ]
    },
    {
      "cell_type": "code",
      "metadata": {
        "colab": {
          "base_uri": "https://localhost:8080/",
          "height": 297
        },
        "id": "kbMyj3Cxf27L",
        "outputId": "8868b986-bb4e-4dd5-b9a0-59677d4ad265"
      },
      "source": [
        "plot_precision_recall_curve(pipeline, X_val, y_val)"
      ],
      "execution_count": 27,
      "outputs": [
        {
          "output_type": "execute_result",
          "data": {
            "text/plain": [
              "<sklearn.metrics._plot.precision_recall_curve.PrecisionRecallDisplay at 0x7fdbd0207278>"
            ]
          },
          "metadata": {
            "tags": []
          },
          "execution_count": 27
        },
        {
          "output_type": "display_data",
          "data": {
            "image/png": "[encoded data removed]",
            "text/plain": [
              "<Figure size 432x288 with 1 Axes>"
            ]
          },
          "metadata": {
            "tags": [],
            "needs_background": "light"
          }
        }
      ]
    },
    {
      "cell_type": "code",
      "metadata": {
        "colab": {
          "base_uri": "https://localhost:8080/"
        },
        "id": "BPRdUqP4f5K1",
        "outputId": "bd9a8bd1-04d0-4f1a-9445-0049163da05d"
      },
      "source": [
        "# Use AUC function to calculate the area under the curve of precision recall curve\r\n",
        "from sklearn.metrics import auc\r\n",
        "auc_precision_recall = auc(recall, precision)\r\n",
        "print(auc_precision_recall)"
      ],
      "execution_count": 28,
      "outputs": [
        {
          "output_type": "stream",
          "text": [
            "0.902350832353638\n"
          ],
          "name": "stdout"
        }
      ]
    }
  ]
}