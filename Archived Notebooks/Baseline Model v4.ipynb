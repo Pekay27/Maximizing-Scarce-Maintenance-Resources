{
 "cells": [
  {
   "cell_type": "markdown",
   "metadata": {},
   "source": [
    "# Load Dependencies "
   ]
  },
  {
   "cell_type": "code",
   "execution_count": 1,
   "metadata": {},
   "outputs": [],
   "source": [
    "import pandas as pd\n",
    "import matplotlib.pyplot as plt\n",
    "import seaborn as sns\n",
    "import numpy as np"
   ]
  },
  {
   "cell_type": "markdown",
   "metadata": {},
   "source": [
    "# Import Data"
   ]
  },
  {
   "cell_type": "code",
   "execution_count": 2,
   "metadata": {},
   "outputs": [
    {
     "data": {
      "text/plain": [
       "((59400, 40), (14358, 40))"
      ]
     },
     "execution_count": 2,
     "metadata": {},
     "output_type": "execute_result"
    }
   ],
   "source": [
    "train = pd.read_csv('Data/train_features.csv')\n",
    "test = pd.read_csv('Data/test_features.csv')\n",
    "target = pd.read_csv('Data/train_labels.csv')\n",
    "train.shape, test.shape"
   ]
  },
  {
   "cell_type": "markdown",
   "metadata": {},
   "source": [
    "# Select Features"
   ]
  },
  {
   "cell_type": "code",
   "execution_count": 3,
   "metadata": {},
   "outputs": [],
   "source": [
    "selected_features = ['amount_tsh',\n",
    "    'date_recorded',\n",
    "    'gps_height',\n",
    "    'basin',\n",
    "    'region',\n",
    "    'population',\n",
    "    'public_meeting',\n",
    "    'scheme_management',\n",
    "    'permit',\n",
    "    'construction_year',\n",
    "    'extraction_type_class',\n",
    "    'management_group',\n",
    "    'payment',\n",
    "    'quality_group',\n",
    "    'quantity',\n",
    "    'source_type',\n",
    "    'source_class', \n",
    "    'waterpoint_type',\n",
    "    'funder',\n",
    "    'installer', \n",
    "    'latitude',\n",
    "    'longitude']\n",
    "\n",
    "def select_features(df, features):\n",
    "    '''\n",
    "    Subsets dataframe based on list of columns names accepted \n",
    "    as a parameter.\n",
    "    '''\n",
    "    return df[features]"
   ]
  },
  {
   "cell_type": "code",
   "execution_count": 4,
   "metadata": {},
   "outputs": [
    {
     "data": {
      "text/plain": [
       "((59400, 22), (14358, 22))"
      ]
     },
     "execution_count": 4,
     "metadata": {},
     "output_type": "execute_result"
    }
   ],
   "source": [
    "train = select_features(train, features=selected_features)\n",
    "test = select_features(test, features=selected_features)\n",
    "train.shape, test.shape"
   ]
  },
  {
   "cell_type": "markdown",
   "metadata": {},
   "source": [
    "# Process Features "
   ]
  },
  {
   "cell_type": "code",
   "execution_count": 5,
   "metadata": {},
   "outputs": [],
   "source": [
    "def wrangle_features(X):\n",
    "    X = X.copy()\n",
    "    \n",
    "    # Create month and year features from the recorded data feature\n",
    "    X['date_recorded'] = pd.to_datetime(X['date_recorded'])\n",
    "    X['date_recorded_month'] = X['date_recorded'].dt.month\n",
    "    X['date_recorded_year'] = X['date_recorded'].dt.year\n",
    "    \n",
    "    # Bin low freq. categories into 'other'\n",
    "    X['scheme_management'] = X['scheme_management'].replace({\n",
    "        'SWC':'Other',\n",
    "        'Trust':'Other',\n",
    "        'None':'Other'\n",
    "    })\n",
    "    \n",
    "    # Create age category out of construction_year\n",
    "    # Bin 0 values as -1\n",
    "    X['pump_age'] = ( 2014 - X['construction_year'] )\n",
    "    X['pump_age'].replace({2014:-1}).value_counts()\n",
    "    \n",
    "    # Alter longitude values so all points are reasonable\n",
    "    X['longitude'] = X['longitude'].replace({\n",
    "        0.000000:train['longitude'].median()\n",
    "    })\n",
    "    \n",
    "    # Create Installer Features\n",
    "    X['DWE_Installer'] = (X['installer'] == 'DWE')\n",
    "\n",
    "    one_time_install = train['installer'].value_counts()[train['installer'].value_counts() == 1]\n",
    "    X['One_Time_Installer'] = X['installer'].isin(one_time_install.index)\n",
    "\n",
    "    small_install = train['installer'].value_counts()[ (train['installer'].value_counts() < 10) & (train['installer'].value_counts() > 1) ]\n",
    "    X['Small_Installer'] = X['installer'].isin(small_install.index)\n",
    "\n",
    "    big_install = (( train['installer'].value_counts() >= 10 ) == True)\n",
    "    X['Big_Installer'] = X['installer'].isin(big_install.index)\n",
    "    \n",
    "    # Create Funder Features\n",
    "    X['Tanzania_Gov_Funder'] = (X['funder'] == 'Government Of Tanzania')\n",
    "\n",
    "    one_time_funder = train['funder'].value_counts()[train['funder'].value_counts() == 1]\n",
    "    X['One_Time_Funder'] = X['funder'].isin(one_time_funder.index)\n",
    "\n",
    "    small_funder = train['funder'].value_counts()[ (train['funder'].value_counts() < 10) & (train['funder'].value_counts() > 1) ]\n",
    "    X['Small_Funder'] = X['funder'].isin(small_funder.index)\n",
    "\n",
    "    big_funder = (( train['funder'].value_counts() >= 10 ) == True)\n",
    "    X['Big_Funder'] = X['funder'].isin(big_funder.index)\n",
    "    \n",
    "    # Drop unecessary columns\n",
    "    drop_cols = ['date_recorded', 'funder', 'installer', 'construction_year']\n",
    "    X = X.drop(columns=drop_cols)\n",
    "    \n",
    "    # Replace population 0 with median population of Train\n",
    "    median_pop = train['population'].median()\n",
    "    X['population'] = X['population'].replace(0, median_pop)\n",
    "    \n",
    "    return X"
   ]
  },
  {
   "cell_type": "code",
   "execution_count": 6,
   "metadata": {},
   "outputs": [
    {
     "data": {
      "text/plain": [
       "((59400, 29), (14358, 29))"
      ]
     },
     "execution_count": 6,
     "metadata": {},
     "output_type": "execute_result"
    }
   ],
   "source": [
    "test = wrangle_features(test)\n",
    "train = wrangle_features(train)\n",
    "\n",
    "train.shape, test.shape"
   ]
  },
  {
   "cell_type": "code",
   "execution_count": 7,
   "metadata": {},
   "outputs": [],
   "source": [
    "from sklearn.preprocessing import StandardScaler\n",
    "def standardize(X):\n",
    "    # Features to standardize\n",
    "    standardize_cols = ['amount_tsh', 'gps_height', 'longitude', \n",
    "                        'latitude', 'population', ]\n",
    "    \n",
    "    # Silence Data Conversion warning\n",
    "    X[standardize_cols] = X[standardize_cols].astype(float)\n",
    "    \n",
    "    # Fit and transform scaler\n",
    "    scaler = StandardScaler()\n",
    "    scaler.fit(train[standardize_cols])\n",
    "    scaled = pd.DataFrame( scaler.transform(X[standardize_cols]) )\n",
    "    \n",
    "    # Add back column names\n",
    "    for i in range(len(standardize_cols)):\n",
    "        scaled = scaled.rename(columns={i:standardize_cols[i]})\n",
    "        \n",
    "    # Drop non-standardized columns\n",
    "    X = X.drop(columns=standardize_cols)\n",
    "    \n",
    "    # Concat scaled features with rest of features\n",
    "    X = pd.concat([X, scaled], axis=1)\n",
    "    \n",
    "    return X"
   ]
  },
  {
   "cell_type": "code",
   "execution_count": 8,
   "metadata": {},
   "outputs": [
    {
     "data": {
      "text/plain": [
       "((59400, 29), (14358, 29))"
      ]
     },
     "execution_count": 8,
     "metadata": {},
     "output_type": "execute_result"
    }
   ],
   "source": [
    "train = standardize(train)\n",
    "test = standardize(test)\n",
    "\n",
    "train.shape, test.shape"
   ]
  },
  {
   "cell_type": "code",
   "execution_count": 9,
   "metadata": {},
   "outputs": [],
   "source": [
    "import category_encoders as ce\n",
    "\n",
    "def one_hot(X):\n",
    "    # Features to one hot encode\n",
    "    one_hot_cols = ['date_recorded_month', 'date_recorded_year', \n",
    "                    'basin', 'region', 'extraction_type_class', \n",
    "                    'management_group', 'payment', 'quality_group', \n",
    "                    'quantity', 'source_type', 'source_class', \n",
    "                    'waterpoint_type']\n",
    "    \n",
    "    # Convert all relevant cols to category datatype (for encoder)\n",
    "    X[one_hot_cols] = X[one_hot_cols].astype('category')\n",
    "    \n",
    "    # Initialize and transform relevant features\n",
    "    encoder = ce.OneHotEncoder(use_cat_names=True)\n",
    "    \n",
    "    # Note, train hardcoded to avoid overfitting test data\n",
    "    encoder.fit(train[one_hot_cols])\n",
    "    X = encoder.transform(X[one_hot_cols])\n",
    "    \n",
    "    return X"
   ]
  },
  {
   "cell_type": "code",
   "execution_count": 10,
   "metadata": {},
   "outputs": [
    {
     "data": {
      "text/plain": [
       "((59400, 94), (14358, 94))"
      ]
     },
     "execution_count": 10,
     "metadata": {},
     "output_type": "execute_result"
    }
   ],
   "source": [
    "processed_train = one_hot(train)\n",
    "processed_test = one_hot(test)\n",
    "processed_train.shape, processed_test.shape"
   ]
  },
  {
   "cell_type": "code",
   "execution_count": 33,
   "metadata": {},
   "outputs": [],
   "source": [
    "processed_train.to_csv(f'processed_train.csv', index=False)\n",
    "processed_test.to_csv(f'processed_test.csv', index=False)"
   ]
  },
  {
   "cell_type": "markdown",
   "metadata": {},
   "source": [
    "# Modeling "
   ]
  },
  {
   "cell_type": "code",
   "execution_count": 11,
   "metadata": {},
   "outputs": [],
   "source": [
    "target = pd.read_csv('Data/train_labels.csv')"
   ]
  },
  {
   "cell_type": "code",
   "execution_count": 35,
   "metadata": {},
   "outputs": [],
   "source": [
    "from sklearn.ensemble import RandomForestClassifier\n",
    "from sklearn.model_selection import cross_validate\n",
    "\n",
    "model = RandomForestClassifier(n_estimators=250,\n",
    "                              max_depth=None, n_jobs=-1)"
   ]
  },
  {
   "cell_type": "code",
   "execution_count": 15,
   "metadata": {},
   "outputs": [],
   "source": [
    "scores = cross_validate(model, \n",
    "                        processed_train, \n",
    "                        target['status_group'], \n",
    "                        return_train_score=True,\n",
    "                        return_estimator=True,\n",
    "                        scoring='accuracy', \n",
    "                        n_jobs=-1,\n",
    "                        cv=5)"
   ]
  },
  {
   "cell_type": "code",
   "execution_count": 16,
   "metadata": {},
   "outputs": [
    {
     "data": {
      "text/html": [
       "<div>\n",
       "<style scoped>\n",
       "    .dataframe tbody tr th:only-of-type {\n",
       "        vertical-align: middle;\n",
       "    }\n",
       "\n",
       "    .dataframe tbody tr th {\n",
       "        vertical-align: top;\n",
       "    }\n",
       "\n",
       "    .dataframe thead th {\n",
       "        text-align: right;\n",
       "    }\n",
       "</style>\n",
       "<table border=\"1\" class=\"dataframe\">\n",
       "  <thead>\n",
       "    <tr style=\"text-align: right;\">\n",
       "      <th></th>\n",
       "      <th>fit_time</th>\n",
       "      <th>score_time</th>\n",
       "      <th>estimator</th>\n",
       "      <th>test_score</th>\n",
       "      <th>train_score</th>\n",
       "    </tr>\n",
       "  </thead>\n",
       "  <tbody>\n",
       "    <tr>\n",
       "      <th>0</th>\n",
       "      <td>53.434053</td>\n",
       "      <td>2.533386</td>\n",
       "      <td>(DecisionTreeClassifier(class_weight=None, cri...</td>\n",
       "      <td>0.776618</td>\n",
       "      <td>0.821692</td>\n",
       "    </tr>\n",
       "    <tr>\n",
       "      <th>1</th>\n",
       "      <td>52.876106</td>\n",
       "      <td>2.407986</td>\n",
       "      <td>(DecisionTreeClassifier(class_weight=None, cri...</td>\n",
       "      <td>0.772241</td>\n",
       "      <td>0.823165</td>\n",
       "    </tr>\n",
       "    <tr>\n",
       "      <th>2</th>\n",
       "      <td>52.955242</td>\n",
       "      <td>2.416070</td>\n",
       "      <td>(DecisionTreeClassifier(class_weight=None, cri...</td>\n",
       "      <td>0.775758</td>\n",
       "      <td>0.822727</td>\n",
       "    </tr>\n",
       "    <tr>\n",
       "      <th>3</th>\n",
       "      <td>53.371311</td>\n",
       "      <td>2.609932</td>\n",
       "      <td>(DecisionTreeClassifier(class_weight=None, cri...</td>\n",
       "      <td>0.770539</td>\n",
       "      <td>0.823506</td>\n",
       "    </tr>\n",
       "    <tr>\n",
       "      <th>4</th>\n",
       "      <td>14.549729</td>\n",
       "      <td>0.640088</td>\n",
       "      <td>(DecisionTreeClassifier(class_weight=None, cri...</td>\n",
       "      <td>0.771005</td>\n",
       "      <td>0.823366</td>\n",
       "    </tr>\n",
       "  </tbody>\n",
       "</table>\n",
       "</div>"
      ],
      "text/plain": [
       "    fit_time  score_time                                          estimator  \\\n",
       "0  53.434053    2.533386  (DecisionTreeClassifier(class_weight=None, cri...   \n",
       "1  52.876106    2.407986  (DecisionTreeClassifier(class_weight=None, cri...   \n",
       "2  52.955242    2.416070  (DecisionTreeClassifier(class_weight=None, cri...   \n",
       "3  53.371311    2.609932  (DecisionTreeClassifier(class_weight=None, cri...   \n",
       "4  14.549729    0.640088  (DecisionTreeClassifier(class_weight=None, cri...   \n",
       "\n",
       "   test_score  train_score  \n",
       "0    0.776618     0.821692  \n",
       "1    0.772241     0.823165  \n",
       "2    0.775758     0.822727  \n",
       "3    0.770539     0.823506  \n",
       "4    0.771005     0.823366  "
      ]
     },
     "execution_count": 16,
     "metadata": {},
     "output_type": "execute_result"
    }
   ],
   "source": [
    "pd.DataFrame(scores)"
   ]
  },
  {
   "cell_type": "code",
   "execution_count": 36,
   "metadata": {},
   "outputs": [
    {
     "name": "stdout",
     "output_type": "stream",
     "text": [
      "Train Accuracy Score: 0.8197474747474748\n"
     ]
    }
   ],
   "source": [
    "from sklearn.metrics import accuracy_score\n",
    "\n",
    "model.fit(processed_train, target['status_group'])\n",
    "\n",
    "y_train_pred = model.predict(processed_train)\n",
    "y_test_pred = model.predict(processed_test)\n",
    "\n",
    "score = accuracy_score(target['status_group'], y_train_pred)\n",
    "print(f'Train Accuracy Score: {score}')"
   ]
  },
  {
   "cell_type": "code",
   "execution_count": 49,
   "metadata": {},
   "outputs": [
    {
     "data": {
      "text/plain": [
       "array([[0.52279365, 0.0156567 , 0.46154965],\n",
       "       [0.77573171, 0.18619308, 0.03807521],\n",
       "       [0.64390107, 0.01346719, 0.34263175],\n",
       "       ...,\n",
       "       [0.59555961, 0.20672332, 0.19771707],\n",
       "       [0.97013932, 0.0125254 , 0.01733529],\n",
       "       [0.        , 0.        , 1.        ]])"
      ]
     },
     "execution_count": 49,
     "metadata": {},
     "output_type": "execute_result"
    }
   ],
   "source": [
    "y_test_proba_forest = model.predict_proba(processed_test)\n",
    "y_test_proba_forest"
   ]
  },
  {
   "cell_type": "markdown",
   "metadata": {},
   "source": [
    "# With Boosting"
   ]
  },
  {
   "cell_type": "code",
   "execution_count": 37,
   "metadata": {},
   "outputs": [],
   "source": [
    "from xgboost import XGBClassifier\n",
    "import os\n",
    "os.environ['KMP_DUPLICATE_LIB_OK']='True'"
   ]
  },
  {
   "cell_type": "code",
   "execution_count": 46,
   "metadata": {},
   "outputs": [],
   "source": [
    "grboost = XGBClassifier(n_estimators=300,\n",
    "                        max_depth=5, \n",
    "                        silent=False,\n",
    "                        n_jobs=-1,\n",
    ")"
   ]
  },
  {
   "cell_type": "code",
   "execution_count": 47,
   "metadata": {},
   "outputs": [
    {
     "name": "stdout",
     "output_type": "stream",
     "text": [
      "Train Accuracy Score: 0.7773232323232323\n"
     ]
    }
   ],
   "source": [
    "from sklearn.metrics import accuracy_score\n",
    "\n",
    "grboost.fit(processed_train, target['status_group'])\n",
    "\n",
    "y_train_pred = grboost.predict(processed_train)\n",
    "y_test_pred = grboost.predict(processed_test)\n",
    "\n",
    "score = accuracy_score(target['status_group'], y_train_pred)\n",
    "print(f'Train Accuracy Score: {score}')"
   ]
  },
  {
   "cell_type": "code",
   "execution_count": 50,
   "metadata": {},
   "outputs": [
    {
     "data": {
      "text/plain": [
       "array([[0.32216203, 0.07620762, 0.6016304 ],\n",
       "       [0.56379443, 0.1118653 , 0.32434025],\n",
       "       [0.6980914 , 0.13228773, 0.16962093],\n",
       "       ...,\n",
       "       [0.630112  , 0.16593882, 0.20394914],\n",
       "       [0.72117835, 0.14865604, 0.13016562],\n",
       "       [0.01904117, 0.00215739, 0.9788014 ]], dtype=float32)"
      ]
     },
     "execution_count": 50,
     "metadata": {},
     "output_type": "execute_result"
    }
   ],
   "source": [
    "y_test_proba_boost = grboost.predict_proba(processed_test)\n",
    "y_test_proba_boost"
   ]
  },
  {
   "cell_type": "code",
   "execution_count": 51,
   "metadata": {},
   "outputs": [
    {
     "data": {
      "text/plain": [
       "array([[0.42247784, 0.04593216, 0.53159002],\n",
       "       [0.66976307, 0.14902919, 0.18120773],\n",
       "       [0.67099623, 0.07287746, 0.25612634],\n",
       "       ...,\n",
       "       [0.6128358 , 0.18633107, 0.2008331 ],\n",
       "       [0.84565883, 0.08059072, 0.07375045],\n",
       "       [0.00952058, 0.0010787 , 0.98940071]])"
      ]
     },
     "execution_count": 51,
     "metadata": {},
     "output_type": "execute_result"
    }
   ],
   "source": [
    "avg = (y_test_proba_forest + y_test_proba_boost) / 2"
   ]
  },
  {
   "cell_type": "markdown",
   "metadata": {},
   "source": [
    "# Create Submission "
   ]
  },
  {
   "cell_type": "code",
   "execution_count": 28,
   "metadata": {},
   "outputs": [],
   "source": [
    "def create_submission(y_test_pred):\n",
    "    sample_submission = pd.read_csv('Data/sample_submission.csv')\n",
    "    submission = sample_submission.copy()\n",
    "    submission['status_group'] = y_test_pred\n",
    "    \n",
    "    now = pd.to_datetime('now')\n",
    "    filename = 'MB_' + str(now).replace(' ','_')[0:-7] \n",
    "    \n",
    "    submission.to_csv(f'Submissions/{filename}.csv', index=False)"
   ]
  },
  {
   "cell_type": "code",
   "execution_count": 41,
   "metadata": {},
   "outputs": [],
   "source": [
    "create_submission(y_test_pred)"
   ]
  },
  {
   "cell_type": "markdown",
   "metadata": {},
   "source": [
    "# Review Feature Importances"
   ]
  },
  {
   "cell_type": "code",
   "execution_count": 19,
   "metadata": {},
   "outputs": [],
   "source": [
    "def plot_feature_importances(model):\n",
    "    '''\n",
    "    Assumes at least 15 features, model must be fitted\n",
    "    '''\n",
    "    fi_values = model.feature_importances_\n",
    "    fi = pd.DataFrame({\n",
    "        'feature':processed_train.columns,\n",
    "        'importance':fi_values\n",
    "    })\n",
    "    fi['normalized'] = fi['importance'] / fi['importance'].sum()\n",
    "    fi = fi.sort_values('normalized', ascending=False).reset_index()\n",
    "    plt.figure(figsize=(10,6))\n",
    "    ax = plt.subplot()\n",
    "    ax.barh(list(reversed(list(fi.index[:15]))),\n",
    "           fi['normalized'].head(15),\n",
    "           align='center', edgecolor='k')\n",
    "    ax.set_yticks( list(reversed(list(fi.index[:15]))) )\n",
    "    ax.set_yticklabels(fi['feature'].head(15))\n",
    "    ax.set_title('Top 15 Feature Importances')\n",
    "    plt.show()"
   ]
  },
  {
   "cell_type": "code",
   "execution_count": 22,
   "metadata": {},
   "outputs": [
    {
     "data": {
      "image/png": "[encoded data removed]",
      "text/plain": [
       "<Figure size 720x432 with 1 Axes>"
      ]
     },
     "metadata": {
      "needs_background": "light"
     },
     "output_type": "display_data"
    }
   ],
   "source": [
    "plot_feature_importances(model)"
   ]
  },
  {
   "cell_type": "markdown",
   "metadata": {},
   "source": [
    "# Max Voting"
   ]
  },
  {
   "cell_type": "code",
   "execution_count": 12,
   "metadata": {},
   "outputs": [
    {
     "data": {
      "text/plain": [
       "KNeighborsClassifier(algorithm='auto', leaf_size=30, metric='minkowski',\n",
       "                     metric_params=None, n_jobs=-1, n_neighbors=5, p=2,\n",
       "                     weights='uniform')"
      ]
     },
     "execution_count": 12,
     "metadata": {},
     "output_type": "execute_result"
    }
   ],
   "source": [
    "from sklearn.neighbors import KNeighborsClassifier\n",
    "\n",
    "km = KNeighborsClassifier(n_jobs=-1, )\n",
    "\n",
    "km.fit(processed_train, target['status_group'])\n"
   ]
  },
  {
   "cell_type": "code",
   "execution_count": 32,
   "metadata": {},
   "outputs": [
    {
     "name": "stdout",
     "output_type": "stream",
     "text": [
      "Fitting 3 folds for each of 10 candidates, totalling 30 fits\n"
     ]
    },
    {
     "name": "stderr",
     "output_type": "stream",
     "text": [
      "[Parallel(n_jobs=-1)]: Using backend LokyBackend with 4 concurrent workers.\n"
     ]
    },
    {
     "ename": "KeyboardInterrupt",
     "evalue": "",
     "output_type": "error",
     "traceback": [
      "\u001b[0;31m---------------------------------------------------------------------------\u001b[0m",
      "\u001b[0;31mKeyboardInterrupt\u001b[0m                         Traceback (most recent call last)",
      "\u001b[0;32m<ipython-input-32-78d220c3a19e>\u001b[0m in \u001b[0;36m<module>\u001b[0;34m\u001b[0m\n\u001b[1;32m     17\u001b[0m                            return_train_score=True)\n\u001b[1;32m     18\u001b[0m \u001b[0;34m\u001b[0m\u001b[0m\n\u001b[0;32m---> 19\u001b[0;31m \u001b[0msearch\u001b[0m\u001b[0;34m.\u001b[0m\u001b[0mfit\u001b[0m\u001b[0;34m(\u001b[0m\u001b[0mprocessed_train\u001b[0m\u001b[0;34m,\u001b[0m \u001b[0mtarget\u001b[0m\u001b[0;34m[\u001b[0m\u001b[0;34m'status_group'\u001b[0m\u001b[0;34m]\u001b[0m\u001b[0;34m)\u001b[0m\u001b[0;34m\u001b[0m\u001b[0;34m\u001b[0m\u001b[0m\n\u001b[0m",
      "\u001b[0;32m/anaconda3/lib/python3.6/site-packages/sklearn/model_selection/_search.py\u001b[0m in \u001b[0;36mfit\u001b[0;34m(self, X, y, groups, **fit_params)\u001b[0m\n\u001b[1;32m    685\u001b[0m                 \u001b[0;32mreturn\u001b[0m \u001b[0mresults\u001b[0m\u001b[0;34m\u001b[0m\u001b[0;34m\u001b[0m\u001b[0m\n\u001b[1;32m    686\u001b[0m \u001b[0;34m\u001b[0m\u001b[0m\n\u001b[0;32m--> 687\u001b[0;31m             \u001b[0mself\u001b[0m\u001b[0;34m.\u001b[0m\u001b[0m_run_search\u001b[0m\u001b[0;34m(\u001b[0m\u001b[0mevaluate_candidates\u001b[0m\u001b[0;34m)\u001b[0m\u001b[0;34m\u001b[0m\u001b[0;34m\u001b[0m\u001b[0m\n\u001b[0m\u001b[1;32m    688\u001b[0m \u001b[0;34m\u001b[0m\u001b[0m\n\u001b[1;32m    689\u001b[0m         \u001b[0;31m# For multi-metric evaluation, store the best_index_, best_params_ and\u001b[0m\u001b[0;34m\u001b[0m\u001b[0;34m\u001b[0m\u001b[0;34m\u001b[0m\u001b[0m\n",
      "\u001b[0;32m/anaconda3/lib/python3.6/site-packages/sklearn/model_selection/_search.py\u001b[0m in \u001b[0;36m_run_search\u001b[0;34m(self, evaluate_candidates)\u001b[0m\n\u001b[1;32m   1466\u001b[0m         evaluate_candidates(ParameterSampler(\n\u001b[1;32m   1467\u001b[0m             \u001b[0mself\u001b[0m\u001b[0;34m.\u001b[0m\u001b[0mparam_distributions\u001b[0m\u001b[0;34m,\u001b[0m \u001b[0mself\u001b[0m\u001b[0;34m.\u001b[0m\u001b[0mn_iter\u001b[0m\u001b[0;34m,\u001b[0m\u001b[0;34m\u001b[0m\u001b[0;34m\u001b[0m\u001b[0m\n\u001b[0;32m-> 1468\u001b[0;31m             random_state=self.random_state))\n\u001b[0m",
      "\u001b[0;32m/anaconda3/lib/python3.6/site-packages/sklearn/model_selection/_search.py\u001b[0m in \u001b[0;36mevaluate_candidates\u001b[0;34m(candidate_params)\u001b[0m\n\u001b[1;32m    664\u001b[0m                                \u001b[0;32mfor\u001b[0m \u001b[0mparameters\u001b[0m\u001b[0;34m,\u001b[0m \u001b[0;34m(\u001b[0m\u001b[0mtrain\u001b[0m\u001b[0;34m,\u001b[0m \u001b[0mtest\u001b[0m\u001b[0;34m)\u001b[0m\u001b[0;34m\u001b[0m\u001b[0;34m\u001b[0m\u001b[0m\n\u001b[1;32m    665\u001b[0m                                in product(candidate_params,\n\u001b[0;32m--> 666\u001b[0;31m                                           cv.split(X, y, groups)))\n\u001b[0m\u001b[1;32m    667\u001b[0m \u001b[0;34m\u001b[0m\u001b[0m\n\u001b[1;32m    668\u001b[0m                 \u001b[0;32mif\u001b[0m \u001b[0mlen\u001b[0m\u001b[0;34m(\u001b[0m\u001b[0mout\u001b[0m\u001b[0;34m)\u001b[0m \u001b[0;34m<\u001b[0m \u001b[0;36m1\u001b[0m\u001b[0;34m:\u001b[0m\u001b[0;34m\u001b[0m\u001b[0;34m\u001b[0m\u001b[0m\n",
      "\u001b[0;32m/anaconda3/lib/python3.6/site-packages/joblib/parallel.py\u001b[0m in \u001b[0;36m__call__\u001b[0;34m(self, iterable)\u001b[0m\n\u001b[1;32m    932\u001b[0m \u001b[0;34m\u001b[0m\u001b[0m\n\u001b[1;32m    933\u001b[0m             \u001b[0;32mwith\u001b[0m \u001b[0mself\u001b[0m\u001b[0;34m.\u001b[0m\u001b[0m_backend\u001b[0m\u001b[0;34m.\u001b[0m\u001b[0mretrieval_context\u001b[0m\u001b[0;34m(\u001b[0m\u001b[0;34m)\u001b[0m\u001b[0;34m:\u001b[0m\u001b[0;34m\u001b[0m\u001b[0;34m\u001b[0m\u001b[0m\n\u001b[0;32m--> 934\u001b[0;31m                 \u001b[0mself\u001b[0m\u001b[0;34m.\u001b[0m\u001b[0mretrieve\u001b[0m\u001b[0;34m(\u001b[0m\u001b[0;34m)\u001b[0m\u001b[0;34m\u001b[0m\u001b[0;34m\u001b[0m\u001b[0m\n\u001b[0m\u001b[1;32m    935\u001b[0m             \u001b[0;31m# Make sure that we get a last message telling us we are done\u001b[0m\u001b[0;34m\u001b[0m\u001b[0;34m\u001b[0m\u001b[0;34m\u001b[0m\u001b[0m\n\u001b[1;32m    936\u001b[0m             \u001b[0melapsed_time\u001b[0m \u001b[0;34m=\u001b[0m \u001b[0mtime\u001b[0m\u001b[0;34m.\u001b[0m\u001b[0mtime\u001b[0m\u001b[0;34m(\u001b[0m\u001b[0;34m)\u001b[0m \u001b[0;34m-\u001b[0m \u001b[0mself\u001b[0m\u001b[0;34m.\u001b[0m\u001b[0m_start_time\u001b[0m\u001b[0;34m\u001b[0m\u001b[0;34m\u001b[0m\u001b[0m\n",
      "\u001b[0;32m/anaconda3/lib/python3.6/site-packages/joblib/parallel.py\u001b[0m in \u001b[0;36mretrieve\u001b[0;34m(self)\u001b[0m\n\u001b[1;32m    831\u001b[0m             \u001b[0;32mtry\u001b[0m\u001b[0;34m:\u001b[0m\u001b[0;34m\u001b[0m\u001b[0;34m\u001b[0m\u001b[0m\n\u001b[1;32m    832\u001b[0m                 \u001b[0;32mif\u001b[0m \u001b[0mgetattr\u001b[0m\u001b[0;34m(\u001b[0m\u001b[0mself\u001b[0m\u001b[0;34m.\u001b[0m\u001b[0m_backend\u001b[0m\u001b[0;34m,\u001b[0m \u001b[0;34m'supports_timeout'\u001b[0m\u001b[0;34m,\u001b[0m \u001b[0;32mFalse\u001b[0m\u001b[0;34m)\u001b[0m\u001b[0;34m:\u001b[0m\u001b[0;34m\u001b[0m\u001b[0;34m\u001b[0m\u001b[0m\n\u001b[0;32m--> 833\u001b[0;31m                     \u001b[0mself\u001b[0m\u001b[0;34m.\u001b[0m\u001b[0m_output\u001b[0m\u001b[0;34m.\u001b[0m\u001b[0mextend\u001b[0m\u001b[0;34m(\u001b[0m\u001b[0mjob\u001b[0m\u001b[0;34m.\u001b[0m\u001b[0mget\u001b[0m\u001b[0;34m(\u001b[0m\u001b[0mtimeout\u001b[0m\u001b[0;34m=\u001b[0m\u001b[0mself\u001b[0m\u001b[0;34m.\u001b[0m\u001b[0mtimeout\u001b[0m\u001b[0;34m)\u001b[0m\u001b[0;34m)\u001b[0m\u001b[0;34m\u001b[0m\u001b[0;34m\u001b[0m\u001b[0m\n\u001b[0m\u001b[1;32m    834\u001b[0m                 \u001b[0;32melse\u001b[0m\u001b[0;34m:\u001b[0m\u001b[0;34m\u001b[0m\u001b[0;34m\u001b[0m\u001b[0m\n\u001b[1;32m    835\u001b[0m                     \u001b[0mself\u001b[0m\u001b[0;34m.\u001b[0m\u001b[0m_output\u001b[0m\u001b[0;34m.\u001b[0m\u001b[0mextend\u001b[0m\u001b[0;34m(\u001b[0m\u001b[0mjob\u001b[0m\u001b[0;34m.\u001b[0m\u001b[0mget\u001b[0m\u001b[0;34m(\u001b[0m\u001b[0;34m)\u001b[0m\u001b[0;34m)\u001b[0m\u001b[0;34m\u001b[0m\u001b[0;34m\u001b[0m\u001b[0m\n",
      "\u001b[0;32m/anaconda3/lib/python3.6/site-packages/joblib/_parallel_backends.py\u001b[0m in \u001b[0;36mwrap_future_result\u001b[0;34m(future, timeout)\u001b[0m\n\u001b[1;32m    519\u001b[0m         AsyncResults.get from multiprocessing.\"\"\"\n\u001b[1;32m    520\u001b[0m         \u001b[0;32mtry\u001b[0m\u001b[0;34m:\u001b[0m\u001b[0;34m\u001b[0m\u001b[0;34m\u001b[0m\u001b[0m\n\u001b[0;32m--> 521\u001b[0;31m             \u001b[0;32mreturn\u001b[0m \u001b[0mfuture\u001b[0m\u001b[0;34m.\u001b[0m\u001b[0mresult\u001b[0m\u001b[0;34m(\u001b[0m\u001b[0mtimeout\u001b[0m\u001b[0;34m=\u001b[0m\u001b[0mtimeout\u001b[0m\u001b[0;34m)\u001b[0m\u001b[0;34m\u001b[0m\u001b[0;34m\u001b[0m\u001b[0m\n\u001b[0m\u001b[1;32m    522\u001b[0m         \u001b[0;32mexcept\u001b[0m \u001b[0mLokyTimeoutError\u001b[0m\u001b[0;34m:\u001b[0m\u001b[0;34m\u001b[0m\u001b[0;34m\u001b[0m\u001b[0m\n\u001b[1;32m    523\u001b[0m             \u001b[0;32mraise\u001b[0m \u001b[0mTimeoutError\u001b[0m\u001b[0;34m(\u001b[0m\u001b[0;34m)\u001b[0m\u001b[0;34m\u001b[0m\u001b[0;34m\u001b[0m\u001b[0m\n",
      "\u001b[0;32m/anaconda3/lib/python3.6/concurrent/futures/_base.py\u001b[0m in \u001b[0;36mresult\u001b[0;34m(self, timeout)\u001b[0m\n\u001b[1;32m    425\u001b[0m                 \u001b[0;32mreturn\u001b[0m \u001b[0mself\u001b[0m\u001b[0;34m.\u001b[0m\u001b[0m__get_result\u001b[0m\u001b[0;34m(\u001b[0m\u001b[0;34m)\u001b[0m\u001b[0;34m\u001b[0m\u001b[0;34m\u001b[0m\u001b[0m\n\u001b[1;32m    426\u001b[0m \u001b[0;34m\u001b[0m\u001b[0m\n\u001b[0;32m--> 427\u001b[0;31m             \u001b[0mself\u001b[0m\u001b[0;34m.\u001b[0m\u001b[0m_condition\u001b[0m\u001b[0;34m.\u001b[0m\u001b[0mwait\u001b[0m\u001b[0;34m(\u001b[0m\u001b[0mtimeout\u001b[0m\u001b[0;34m)\u001b[0m\u001b[0;34m\u001b[0m\u001b[0;34m\u001b[0m\u001b[0m\n\u001b[0m\u001b[1;32m    428\u001b[0m \u001b[0;34m\u001b[0m\u001b[0m\n\u001b[1;32m    429\u001b[0m             \u001b[0;32mif\u001b[0m \u001b[0mself\u001b[0m\u001b[0;34m.\u001b[0m\u001b[0m_state\u001b[0m \u001b[0;32min\u001b[0m \u001b[0;34m[\u001b[0m\u001b[0mCANCELLED\u001b[0m\u001b[0;34m,\u001b[0m \u001b[0mCANCELLED_AND_NOTIFIED\u001b[0m\u001b[0;34m]\u001b[0m\u001b[0;34m:\u001b[0m\u001b[0;34m\u001b[0m\u001b[0;34m\u001b[0m\u001b[0m\n",
      "\u001b[0;32m/anaconda3/lib/python3.6/threading.py\u001b[0m in \u001b[0;36mwait\u001b[0;34m(self, timeout)\u001b[0m\n\u001b[1;32m    293\u001b[0m         \u001b[0;32mtry\u001b[0m\u001b[0;34m:\u001b[0m    \u001b[0;31m# restore state no matter what (e.g., KeyboardInterrupt)\u001b[0m\u001b[0;34m\u001b[0m\u001b[0;34m\u001b[0m\u001b[0m\n\u001b[1;32m    294\u001b[0m             \u001b[0;32mif\u001b[0m \u001b[0mtimeout\u001b[0m \u001b[0;32mis\u001b[0m \u001b[0;32mNone\u001b[0m\u001b[0;34m:\u001b[0m\u001b[0;34m\u001b[0m\u001b[0;34m\u001b[0m\u001b[0m\n\u001b[0;32m--> 295\u001b[0;31m                 \u001b[0mwaiter\u001b[0m\u001b[0;34m.\u001b[0m\u001b[0macquire\u001b[0m\u001b[0;34m(\u001b[0m\u001b[0;34m)\u001b[0m\u001b[0;34m\u001b[0m\u001b[0;34m\u001b[0m\u001b[0m\n\u001b[0m\u001b[1;32m    296\u001b[0m                 \u001b[0mgotit\u001b[0m \u001b[0;34m=\u001b[0m \u001b[0;32mTrue\u001b[0m\u001b[0;34m\u001b[0m\u001b[0;34m\u001b[0m\u001b[0m\n\u001b[1;32m    297\u001b[0m             \u001b[0;32melse\u001b[0m\u001b[0;34m:\u001b[0m\u001b[0;34m\u001b[0m\u001b[0;34m\u001b[0m\u001b[0m\n",
      "\u001b[0;31mKeyboardInterrupt\u001b[0m: "
     ]
    }
   ],
   "source": [
    "from sklearn.model_selection import RandomizedSearchCV\n",
    "\n",
    "param_distributions = {\n",
    "    'n_neighbors': [5, 15, 25],\n",
    "    'weights': ['uniform', 'distance'],\n",
    "    'leaf_size': [15, 30, 45],\n",
    "    'p': [1, 2]\n",
    "}\n",
    "\n",
    "search = RandomizedSearchCV(km, \n",
    "                           param_distributions=param_distributions,\n",
    "                           n_iter=10,\n",
    "                           scoring='accuracy', \n",
    "                           verbose=10,\n",
    "                           cv=3,\n",
    "                           n_jobs=-1,\n",
    "                           return_train_score=True)\n",
    "\n",
    "search.fit(processed_train, target['status_group'])"
   ]
  },
  {
   "cell_type": "code",
   "execution_count": 13,
   "metadata": {},
   "outputs": [
    {
     "data": {
      "text/plain": [
       "0.7838383838383839"
      ]
     },
     "execution_count": 13,
     "metadata": {},
     "output_type": "execute_result"
    }
   ],
   "source": [
    "pd.DataFrame(search)"
   ]
  },
  {
   "cell_type": "code",
   "execution_count": 14,
   "metadata": {},
   "outputs": [
    {
     "data": {
      "text/plain": [
       "ExtraTreesClassifier(bootstrap=False, class_weight=None, criterion='gini',\n",
       "                     max_depth=8, max_features='auto', max_leaf_nodes=None,\n",
       "                     min_impurity_decrease=0.0, min_impurity_split=None,\n",
       "                     min_samples_leaf=1, min_samples_split=2,\n",
       "                     min_weight_fraction_leaf=0.0, n_estimators=250, n_jobs=-1,\n",
       "                     oob_score=False, random_state=None, verbose=0,\n",
       "                     warm_start=False)"
      ]
     },
     "execution_count": 14,
     "metadata": {},
     "output_type": "execute_result"
    }
   ],
   "source": [
    "from sklearn.ensemble import ExtraTreesClassifier\n",
    "\n",
    "exf = ExtraTreesClassifier(n_jobs=-1, n_estimators=250, max_depth=8)\n",
    "\n",
    "exf.fit(processed_train, target['status_group'])"
   ]
  },
  {
   "cell_type": "code",
   "execution_count": 15,
   "metadata": {},
   "outputs": [
    {
     "data": {
      "text/plain": [
       "0.7355050505050506"
      ]
     },
     "execution_count": 15,
     "metadata": {},
     "output_type": "execute_result"
    }
   ],
   "source": [
    "exf.score(processed_train, target['status_group'])"
   ]
  },
  {
   "cell_type": "code",
   "execution_count": 16,
   "metadata": {},
   "outputs": [
    {
     "name": "stdout",
     "output_type": "stream",
     "text": [
      "      Iter       Train Loss   Remaining Time \n",
      "         1       45304.1577            6.98m\n",
      "         2       43582.5641            6.94m\n",
      "         3       42242.9043            6.88m\n",
      "         4       41149.1436            6.85m\n",
      "         5       40242.0448            6.81m\n",
      "         6       39457.7825            6.78m\n",
      "         7       38795.1205            6.76m\n",
      "         8       38234.3666            6.73m\n",
      "         9       37754.0571            6.69m\n",
      "        10       37336.1310            6.64m\n",
      "        11       36921.9296            6.67m\n",
      "        12       36582.2395            6.65m\n",
      "        13       36228.3257            6.64m\n",
      "        14       35949.7982            6.62m\n",
      "        15       35653.0108            6.62m\n",
      "        16       35405.3580            6.63m\n",
      "        17       35191.8450            6.62m\n",
      "        18       34959.3288            6.61m\n",
      "        19       34745.2315            6.59m\n",
      "        20       34560.2987            6.57m\n",
      "        21       34409.8831            6.54m\n",
      "        22       34245.1952            6.52m\n",
      "        23       34085.6546            6.50m\n",
      "        24       33941.0548            6.46m\n",
      "        25       33824.1921            6.43m\n",
      "        26       33722.9835            6.38m\n",
      "        27       33608.2136            6.34m\n",
      "        28       33494.2667            6.32m\n",
      "        29       33401.8966            6.28m\n",
      "        30       33291.5701            6.24m\n",
      "        31       33196.3818            6.20m\n",
      "        32       33125.5176            6.16m\n",
      "        33       33047.2686            6.12m\n",
      "        34       32971.9170            6.08m\n",
      "        35       32886.6051            6.04m\n",
      "        36       32817.9574            6.00m\n",
      "        37       32757.2478            5.96m\n",
      "        38       32676.2337            5.92m\n",
      "        39       32576.0623            5.89m\n",
      "        40       32527.9032            5.85m\n",
      "        41       32473.7818            5.81m\n",
      "        42       32420.3718            5.77m\n",
      "        43       32354.1797            5.74m\n",
      "        44       32304.1793            5.70m\n",
      "        45       32249.1056            5.66m\n",
      "        46       32191.9405            5.62m\n",
      "        47       32123.9658            5.59m\n",
      "        48       32075.4328            5.55m\n",
      "        49       32009.2647            5.52m\n",
      "        50       31962.6847            5.49m\n",
      "        51       31920.5200            5.45m\n",
      "        52       31871.5962            5.42m\n",
      "        53       31830.1545            5.38m\n",
      "        54       31786.6317            5.35m\n",
      "        55       31735.1896            5.31m\n",
      "        56       31702.2773            5.28m\n",
      "        57       31653.2579            5.25m\n",
      "        58       31624.9996            5.21m\n",
      "        59       31585.5376            5.18m\n",
      "        60       31548.6220            5.14m\n",
      "        61       31520.9837            5.11m\n",
      "        62       31489.8787            5.07m\n",
      "        63       31444.3349            5.04m\n",
      "        64       31414.1988            5.01m\n",
      "        65       31378.1631            4.98m\n",
      "        66       31329.7754            4.94m\n",
      "        67       31291.0534            4.91m\n",
      "        68       31259.4392            4.88m\n",
      "        69       31231.0508            4.85m\n",
      "        70       31206.9162            4.81m\n",
      "        71       31161.5872            4.78m\n",
      "        72       31123.6515            4.75m\n",
      "        73       31092.8874            4.72m\n",
      "        74       31063.6123            4.69m\n",
      "        75       31042.2266            4.66m\n",
      "        76       31005.8806            4.63m\n",
      "        77       30977.4270            4.60m\n",
      "        78       30939.1912            4.57m\n",
      "        79       30906.2250            4.54m\n",
      "        80       30860.1297            4.52m\n",
      "        81       30833.8278            4.49m\n",
      "        82       30805.0706            4.47m\n",
      "        83       30779.5613            4.44m\n",
      "        84       30749.3037            4.41m\n",
      "        85       30726.6434            4.38m\n",
      "        86       30701.2653            4.35m\n",
      "        87       30686.7536            4.32m\n",
      "        88       30656.8725            4.30m\n",
      "        89       30637.3606            4.26m\n",
      "        90       30610.5849            4.23m\n",
      "        91       30578.7092            4.21m\n",
      "        92       30556.4341            4.18m\n",
      "        93       30534.4013            4.15m\n",
      "        94       30514.1072            4.12m\n",
      "        95       30496.4728            4.09m\n",
      "        96       30469.4887            4.06m\n",
      "        97       30448.5004            4.03m\n",
      "        98       30421.9006            4.00m\n",
      "        99       30396.7260            3.98m\n",
      "       100       30377.2452            3.95m\n",
      "       101       30360.9032            3.92m\n",
      "       102       30343.4108            3.89m\n",
      "       103       30318.2697            3.86m\n",
      "       104       30303.7388            3.83m\n",
      "       105       30291.6310            3.80m\n",
      "       106       30276.1117            3.78m\n",
      "       107       30253.3772            3.75m\n",
      "       108       30233.9390            3.72m\n",
      "       109       30203.2836            3.70m\n",
      "       110       30176.8960            3.68m\n",
      "       111       30148.9125            3.65m\n",
      "       112       30122.1928            3.63m\n",
      "       113       30106.5981            3.60m\n",
      "       114       30088.8283            3.57m\n",
      "       115       30073.7810            3.55m\n",
      "       116       30063.1562            3.52m\n",
      "       117       30033.6829            3.49m\n",
      "       118       30018.3616            3.46m\n",
      "       119       29995.8363            3.44m\n",
      "       120       29981.7644            3.41m\n",
      "       121       29965.4823            3.38m\n",
      "       122       29942.2300            3.36m\n",
      "       123       29924.4622            3.33m\n",
      "       124       29908.2284            3.30m\n",
      "       125       29896.3789            3.27m\n",
      "       126       29883.3702            3.25m\n",
      "       127       29868.3728            3.22m\n",
      "       128       29846.8886            3.19m\n",
      "       129       29834.5421            3.17m\n",
      "       130       29816.5553            3.14m\n",
      "       131       29797.8859            3.11m\n",
      "       132       29778.4396            3.09m\n",
      "       133       29760.5558            3.06m\n",
      "       134       29747.3051            3.04m\n",
      "       135       29733.6797            3.01m\n",
      "       136       29713.4379            2.99m\n",
      "       137       29696.7948            2.96m\n",
      "       138       29686.7117            2.93m\n",
      "       139       29664.3618            2.91m\n",
      "       140       29654.5686            2.88m\n",
      "       141       29638.3629            2.85m\n",
      "       142       29623.5678            2.82m\n",
      "       143       29612.0738            2.80m\n",
      "       144       29596.6535            2.77m\n",
      "       145       29583.6831            2.74m\n",
      "       146       29562.7516            2.72m\n",
      "       147       29542.4433            2.69m\n",
      "       148       29524.8869            2.66m\n",
      "       149       29510.6922            2.64m\n",
      "       150       29500.0329            2.61m\n",
      "       151       29489.0634            2.58m\n",
      "       152       29464.2908            2.55m\n",
      "       153       29436.0410            2.53m\n",
      "       154       29414.1103            2.50m\n",
      "       155       29403.4405            2.48m\n",
      "       156       29392.4173            2.45m\n",
      "       157       29380.1734            2.42m\n",
      "       158       29370.8046            2.40m\n",
      "       159       29359.8568            2.37m\n",
      "       160       29342.9175            2.34m\n",
      "       161       29328.6630            2.32m\n",
      "       162       29310.6288            2.29m\n",
      "       163       29289.5873            2.26m\n",
      "       164       29275.7112            2.24m\n",
      "       165       29263.0948            2.21m\n",
      "       166       29244.7157            2.18m\n",
      "       167       29227.5337            2.16m\n",
      "       168       29210.8434            2.13m\n",
      "       169       29196.9299            2.11m\n",
      "       170       29176.5255            2.08m\n",
      "       171       29162.1628            2.06m\n",
      "       172       29144.9506            2.03m\n",
      "       173       29137.2226            2.00m\n",
      "       174       29128.3309            1.98m\n",
      "       175       29120.8283            1.95m\n",
      "       176       29109.3839            1.92m\n",
      "       177       29094.0856            1.90m\n",
      "       178       29077.7164            1.87m\n",
      "       179       29067.3933            1.84m\n",
      "       180       29054.7962            1.82m\n",
      "       181       29043.5097            1.79m\n",
      "       182       29034.3354            1.76m\n"
     ]
    },
    {
     "name": "stdout",
     "output_type": "stream",
     "text": [
      "       183       29023.0670            1.74m\n",
      "       184       29004.8711            1.71m\n",
      "       185       28991.9011            1.69m\n",
      "       186       28971.2376            1.66m\n",
      "       187       28955.0840            1.63m\n",
      "       188       28945.3964            1.61m\n",
      "       189       28938.3178            1.58m\n",
      "       190       28924.6169            1.56m\n",
      "       191       28913.9302            1.53m\n",
      "       192       28902.7840            1.50m\n",
      "       193       28890.6625            1.48m\n",
      "       194       28877.0894            1.45m\n",
      "       195       28868.7880            1.42m\n",
      "       196       28855.5224            1.40m\n",
      "       197       28843.3481            1.37m\n",
      "       198       28827.3592            1.35m\n",
      "       199       28812.0946            1.32m\n",
      "       200       28800.2100            1.29m\n",
      "       201       28794.0503            1.27m\n",
      "       202       28778.5172            1.24m\n",
      "       203       28768.7141            1.22m\n",
      "       204       28758.0778            1.19m\n",
      "       205       28749.1351            1.16m\n",
      "       206       28742.7691            1.14m\n",
      "       207       28727.8108            1.11m\n",
      "       208       28717.9363            1.09m\n",
      "       209       28707.4823            1.06m\n",
      "       210       28689.8892            1.03m\n",
      "       211       28680.3168            1.01m\n",
      "       212       28666.4305           58.97s\n",
      "       213       28656.7012           57.40s\n",
      "       214       28645.3778           55.86s\n",
      "       215       28630.2793           54.30s\n",
      "       216       28619.0782           52.74s\n",
      "       217       28597.8416           51.19s\n",
      "       218       28592.1322           49.62s\n",
      "       219       28582.4281           48.06s\n",
      "       220       28562.9749           46.52s\n",
      "       221       28553.7200           44.95s\n",
      "       222       28539.0077           43.41s\n",
      "       223       28528.8685           41.84s\n",
      "       224       28523.5706           40.29s\n",
      "       225       28517.0532           38.72s\n",
      "       226       28504.7882           37.17s\n",
      "       227       28493.5610           35.62s\n",
      "       228       28482.1768           34.08s\n",
      "       229       28474.1166           32.52s\n",
      "       230       28462.6853           30.97s\n",
      "       231       28458.3618           29.41s\n",
      "       232       28448.2913           27.85s\n",
      "       233       28443.0818           26.30s\n",
      "       234       28434.7062           24.76s\n",
      "       235       28421.5370           23.21s\n",
      "       236       28406.3464           21.66s\n",
      "       237       28396.4153           20.11s\n",
      "       238       28388.4794           18.56s\n",
      "       239       28377.6525           17.02s\n",
      "       240       28367.0851           15.47s\n",
      "       241       28356.8401           13.92s\n",
      "       242       28343.5443           12.37s\n",
      "       243       28333.1551           10.82s\n",
      "       244       28322.2723            9.28s\n",
      "       245       28312.0089            7.73s\n",
      "       246       28298.6649            6.18s\n",
      "       247       28287.1006            4.64s\n",
      "       248       28278.2064            3.09s\n",
      "       249       28270.5505            1.55s\n",
      "       250       28261.3488            0.00s\n"
     ]
    },
    {
     "data": {
      "text/plain": [
       "GradientBoostingClassifier(criterion='friedman_mse', init=None,\n",
       "                           learning_rate=0.1, loss='deviance', max_depth=5,\n",
       "                           max_features=None, max_leaf_nodes=None,\n",
       "                           min_impurity_decrease=0.0, min_impurity_split=None,\n",
       "                           min_samples_leaf=1, min_samples_split=2,\n",
       "                           min_weight_fraction_leaf=0.0, n_estimators=250,\n",
       "                           n_iter_no_change=10, presort='auto',\n",
       "                           random_state=None, subsample=1.0, tol=0.0001,\n",
       "                           validation_fraction=0.1, verbose=10,\n",
       "                           warm_start=False)"
      ]
     },
     "execution_count": 16,
     "metadata": {},
     "output_type": "execute_result"
    }
   ],
   "source": [
    "from sklearn.ensemble import GradientBoostingClassifier\n",
    "\n",
    "gbc = GradientBoostingClassifier(n_estimators=250, verbose=10, max_depth=5, n_iter_no_change=10)\n",
    "\n",
    "gbc.fit(processed_train, target['status_group'])"
   ]
  },
  {
   "cell_type": "code",
   "execution_count": 17,
   "metadata": {},
   "outputs": [
    {
     "data": {
      "text/plain": [
       "0.7841919191919192"
      ]
     },
     "execution_count": 17,
     "metadata": {},
     "output_type": "execute_result"
    }
   ],
   "source": [
    "gbc.score(processed_train, target['status_group'])"
   ]
  },
  {
   "cell_type": "code",
   "execution_count": 20,
   "metadata": {},
   "outputs": [
    {
     "data": {
      "text/plain": [
       "SVC(C=0.025, cache_size=200, class_weight=None, coef0=0.0,\n",
       "    decision_function_shape='ovr', degree=3, gamma='auto_deprecated',\n",
       "    kernel='linear', max_iter=-1, probability=False, random_state=None,\n",
       "    shrinking=True, tol=0.001, verbose=False)"
      ]
     },
     "execution_count": 20,
     "metadata": {},
     "output_type": "execute_result"
    }
   ],
   "source": [
    "from sklearn.svm import SVC\n",
    "\n",
    "sv = SVC(kernel='linear', C=0.025)\n",
    "\n",
    "sv.fit(processed_train, target['status_group'])"
   ]
  },
  {
   "cell_type": "code",
   "execution_count": 22,
   "metadata": {},
   "outputs": [
    {
     "data": {
      "text/plain": [
       "RandomForestClassifier(bootstrap=True, class_weight=None, criterion='gini',\n",
       "                       max_depth=8, max_features='auto', max_leaf_nodes=None,\n",
       "                       min_impurity_decrease=0.0, min_impurity_split=None,\n",
       "                       min_samples_leaf=1, min_samples_split=2,\n",
       "                       min_weight_fraction_leaf=0.0, n_estimators=250,\n",
       "                       n_jobs=-1, oob_score=False, random_state=None, verbose=0,\n",
       "                       warm_start=False)"
      ]
     },
     "execution_count": 22,
     "metadata": {},
     "output_type": "execute_result"
    }
   ],
   "source": [
    "from sklearn.ensemble import RandomForestClassifier\n",
    "\n",
    "rf = RandomForestClassifier(n_estimators=250, max_depth=8, n_jobs=-1)\n",
    "\n",
    "rf.fit(processed_train, target['status_group'])"
   ]
  },
  {
   "cell_type": "code",
   "execution_count": 23,
   "metadata": {},
   "outputs": [],
   "source": [
    "from sklearn.ensemble import VotingClassifier\n",
    "\n",
    "estimators = [\n",
    "    ('knn', km),\n",
    "    ('exf', exf),\n",
    "    ('gbc', gbc),\n",
    "    ('rf', rf)\n",
    "]\n",
    "\n",
    "ensemble = VotingClassifier(estimators, n_jobs=-1, voting='soft')"
   ]
  },
  {
   "cell_type": "code",
   "execution_count": 24,
   "metadata": {},
   "outputs": [
    {
     "data": {
      "text/plain": [
       "VotingClassifier(estimators=[('knn',\n",
       "                              KNeighborsClassifier(algorithm='auto',\n",
       "                                                   leaf_size=30,\n",
       "                                                   metric='minkowski',\n",
       "                                                   metric_params=None,\n",
       "                                                   n_jobs=-1, n_neighbors=5,\n",
       "                                                   p=2, weights='uniform')),\n",
       "                             ('exf',\n",
       "                              ExtraTreesClassifier(bootstrap=False,\n",
       "                                                   class_weight=None,\n",
       "                                                   criterion='gini',\n",
       "                                                   max_depth=8,\n",
       "                                                   max_features='auto',\n",
       "                                                   max_leaf_nodes=None,\n",
       "                                                   min_impurity_decrease=0.0,\n",
       "                                                   min_impurity_split=N...\n",
       "                                                     class_weight=None,\n",
       "                                                     criterion='gini',\n",
       "                                                     max_depth=8,\n",
       "                                                     max_features='auto',\n",
       "                                                     max_leaf_nodes=None,\n",
       "                                                     min_impurity_decrease=0.0,\n",
       "                                                     min_impurity_split=None,\n",
       "                                                     min_samples_leaf=1,\n",
       "                                                     min_samples_split=2,\n",
       "                                                     min_weight_fraction_leaf=0.0,\n",
       "                                                     n_estimators=250,\n",
       "                                                     n_jobs=-1, oob_score=False,\n",
       "                                                     random_state=None,\n",
       "                                                     verbose=0,\n",
       "                                                     warm_start=False))],\n",
       "                 flatten_transform=True, n_jobs=-1, voting='soft',\n",
       "                 weights=None)"
      ]
     },
     "execution_count": 24,
     "metadata": {},
     "output_type": "execute_result"
    }
   ],
   "source": [
    "ensemble.fit(processed_train, target['status_group'])"
   ]
  },
  {
   "cell_type": "code",
   "execution_count": 25,
   "metadata": {},
   "outputs": [
    {
     "data": {
      "text/plain": [
       "0.7841077441077441"
      ]
     },
     "execution_count": 25,
     "metadata": {},
     "output_type": "execute_result"
    }
   ],
   "source": [
    "ensemble.score(processed_train, target['status_group'])"
   ]
  },
  {
   "cell_type": "code",
   "execution_count": 26,
   "metadata": {},
   "outputs": [],
   "source": [
    "ensemble_test_predict = ensemble.predict(processed_test)"
   ]
  },
  {
   "cell_type": "code",
   "execution_count": 29,
   "metadata": {},
   "outputs": [],
   "source": [
    "create_submission(ensemble_test_predict)"
   ]
  },
  {
   "cell_type": "code",
   "execution_count": null,
   "metadata": {},
   "outputs": [],
   "source": []
  }
 ],
 "metadata": {
  "kernelspec": {
   "display_name": "Python 3",
   "language": "python",
   "name": "python3"
  },
  "language_info": {
   "codemirror_mode": {
    "name": "ipython",
    "version": 3
   },
   "file_extension": ".py",
   "mimetype": "text/x-python",
   "name": "python",
   "nbconvert_exporter": "python",
   "pygments_lexer": "ipython3",
   "version": "3.6.8"
  }
 },
 "nbformat": 4,
 "nbformat_minor": 2
}
