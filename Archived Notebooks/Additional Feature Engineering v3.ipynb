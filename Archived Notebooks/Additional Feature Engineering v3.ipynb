{
 "cells": [
  {
   "cell_type": "markdown",
   "metadata": {},
   "source": [
    "# Load Dependencies "
   ]
  },
  {
   "cell_type": "code",
   "execution_count": 348,
   "metadata": {},
   "outputs": [],
   "source": [
    "import pandas as pd\n",
    "import matplotlib.pyplot as plt\n",
    "import seaborn as sns\n",
    "import numpy as np"
   ]
  },
  {
   "cell_type": "markdown",
   "metadata": {},
   "source": [
    "# Import Data"
   ]
  },
  {
   "cell_type": "code",
   "execution_count": 349,
   "metadata": {},
   "outputs": [
    {
     "data": {
      "text/plain": [
       "((59400, 40), (14358, 40))"
      ]
     },
     "execution_count": 349,
     "metadata": {},
     "output_type": "execute_result"
    }
   ],
   "source": [
    "train = pd.read_csv('Data/train_features.csv')\n",
    "test = pd.read_csv('Data/test_features.csv')\n",
    "target = pd.read_csv('Data/train_labels.csv')\n",
    "train.shape, test.shape"
   ]
  },
  {
   "cell_type": "markdown",
   "metadata": {},
   "source": [
    "# Select Features"
   ]
  },
  {
   "cell_type": "code",
   "execution_count": 350,
   "metadata": {},
   "outputs": [],
   "source": [
    "selected_features = ['amount_tsh',\n",
    "    'date_recorded',\n",
    "    'gps_height',\n",
    "    'basin',\n",
    "    'region',\n",
    "    'district_code',\n",
    "    'population',\n",
    "    'public_meeting',\n",
    "    'scheme_management',\n",
    "    'permit',\n",
    "    'construction_year',\n",
    "    'extraction_type_class',\n",
    "    'management_group',\n",
    "    'payment',\n",
    "    'quality_group',\n",
    "    'quantity',\n",
    "    'source_type',\n",
    "    'source_class', \n",
    "    'waterpoint_type',\n",
    "    'funder',\n",
    "    'installer', \n",
    "    'latitude',\n",
    "    'longitude']\n",
    "\n",
    "def select_features(df, features):\n",
    "    '''\n",
    "    Subsets dataframe based on list of columns names accepted \n",
    "    as a parameter.\n",
    "    '''\n",
    "    return df[features]"
   ]
  },
  {
   "cell_type": "code",
   "execution_count": 351,
   "metadata": {},
   "outputs": [
    {
     "data": {
      "text/plain": [
       "((59400, 23), (14358, 23))"
      ]
     },
     "execution_count": 351,
     "metadata": {},
     "output_type": "execute_result"
    }
   ],
   "source": [
    "train = select_features(train, features=selected_features)\n",
    "test = select_features(test, features=selected_features)\n",
    "train.shape, test.shape"
   ]
  },
  {
   "cell_type": "markdown",
   "metadata": {},
   "source": [
    "# Encode Target"
   ]
  },
  {
   "cell_type": "code",
   "execution_count": 352,
   "metadata": {},
   "outputs": [],
   "source": [
    "target['encoded'] = target['status_group'].replace({\n",
    "    'functional': 1,\n",
    "    'non functional': 0,\n",
    "    'functional needs repair':0\n",
    "})"
   ]
  },
  {
   "cell_type": "markdown",
   "metadata": {},
   "source": [
    "# Process Features "
   ]
  },
  {
   "cell_type": "markdown",
   "metadata": {},
   "source": [
    "### Impute Features"
   ]
  },
  {
   "cell_type": "code",
   "execution_count": 353,
   "metadata": {},
   "outputs": [],
   "source": [
    "def smart_impute(X):\n",
    "    ''' Adapted directly from Dakota P.'s awesome work '''\n",
    "    X = X.copy()\n",
    "    \n",
    "    # Convert all strings in object columns to lowercase\n",
    "    cat_features = X.select_dtypes('object').columns.tolist()\n",
    "    for feature in cat_features:\n",
    "        X[feature] = X[feature].str.lower()\n",
    "    \n",
    "    # Replace -2.000000e-08 with np.nan (not showing as zero due to datatype)\n",
    "    X['latitude'] = X['latitude'].replace( -2.000000e-08, np.nan)\n",
    "    \n",
    "    impute_features = ['gps_height', 'population', 'amount_tsh', 'construction_year', 'latitude', 'longitude']\n",
    "\n",
    "    for feature in impute_features:\n",
    "        # Replace values=0.0 with np.nan (0.0 appears to indicate missing values in dataset)\n",
    "        X[feature] = X[feature].replace(0, np.nan)\n",
    "        \n",
    "        # Note, hardcoded train when calculating mean to avoid leakage into test data\n",
    "        # If District code available replace NA's with mean value of other well in the same district \n",
    "        X[feature] = X[feature].fillna( X.groupby(['region', 'district_code'])[feature].transform('mean') )\n",
    "        # If no district code, replace NA's  with mean value of other wells in the same region\n",
    "        X[feature] = X[feature].fillna( X.groupby(['region'])[feature].transform('mean') )\n",
    "        # If no district and no region, replace NA's with mean value of all wells\n",
    "        X[feature] = X[feature].fillna( X[feature].mean() )\n",
    "    \n",
    "    return X"
   ]
  },
  {
   "cell_type": "code",
   "execution_count": 354,
   "metadata": {},
   "outputs": [
    {
     "data": {
      "text/plain": [
       "((59400, 23), (14358, 23))"
      ]
     },
     "execution_count": 354,
     "metadata": {},
     "output_type": "execute_result"
    }
   ],
   "source": [
    "train = smart_impute(train)\n",
    "test = smart_impute(test)\n",
    "\n",
    "train.shape, test.shape"
   ]
  },
  {
   "cell_type": "markdown",
   "metadata": {},
   "source": [
    "### Wrangle Features"
   ]
  },
  {
   "cell_type": "code",
   "execution_count": 355,
   "metadata": {},
   "outputs": [],
   "source": [
    "def wrangle_features(X):\n",
    "    X = X.copy()\n",
    "    \n",
    "    # Create month and year features from the recorded data feature\n",
    "    X['date_recorded'] = pd.to_datetime(X['date_recorded'])\n",
    "    X['date_recorded_month'] = X['date_recorded'].dt.month\n",
    "    X['date_recorded_year'] = X['date_recorded'].dt.year\n",
    "    \n",
    "    # Create feature for seasons in Tanzania\n",
    "    X['Hot_Dry_Season'] = (X['date_recorded_month'] == 12) | (X['date_recorded_month'] < 3)\n",
    "    X['Heavy_Rain_Season'] = (X['date_recorded_month'] > 4) & (X['date_recorded_month'] < 6)\n",
    "    X['Cool_Dry_Season'] = (X['date_recorded_month'] > 5) & (X['date_recorded_month'] < 11)\n",
    "    X['Moderate_Rain'] = (X['date_recorded_month'] == 11) | (X['date_recorded_month'] == 3)\n",
    "    \n",
    "    # Bin low freq. categories into 'other' \n",
    "    X['scheme_management'] = X['scheme_management'].replace({\n",
    "        'SWC':'Other',\n",
    "        'Trust':'Other',\n",
    "        'None':'Other'\n",
    "    })\n",
    "    \n",
    "    # Create unkown category for missing values in scheme management column\n",
    "    X['scheme_management'] = X['scheme_management'].fillna('unknown')\n",
    "    X['permit'] = X['permit'].fillna(False)\n",
    "    X['public_meeting'] = X['public_meeting'].fillna(True)\n",
    "    \n",
    "    # Create age category out of construction_year\n",
    "    # Bin 0 values as -1\n",
    "    X['pump_age'] = ( 2014 - X['construction_year'] )\n",
    "    X['pump_age'] = X['pump_age'].replace({2014:-1})\n",
    "    \n",
    "    # Create Installer Features\n",
    "    X['DWE_Installer'] = (X['installer'] == 'DWE')\n",
    "    X['Gov_Installer'] = (X['installer'] == 'Government')\n",
    "\n",
    "    one_time_install = train['installer'].value_counts()[train['installer'].value_counts() == 1]\n",
    "    X['One_Time_Installer'] = X['installer'].isin(one_time_install.index)\n",
    "\n",
    "    small_install = train['installer'].value_counts()[ (train['installer'].value_counts() < 10) & (train['installer'].value_counts() > 1) ]\n",
    "    X['Small_Installer'] = X['installer'].isin(small_install.index)\n",
    "\n",
    "    big_install = (( train['installer'].value_counts() >= 10 ) == True)\n",
    "    X['Big_Installer'] = X['installer'].isin(big_install.index)\n",
    "    \n",
    "    # Create Funder Features\n",
    "    X['Tanzania_Gov_Funder'] = (X['funder'] == 'Government Of Tanzania')\n",
    "\n",
    "    one_time_funder = train['funder'].value_counts()[train['funder'].value_counts() == 1]\n",
    "    X['One_Time_Funder'] = X['funder'].isin(one_time_funder.index)\n",
    "\n",
    "    small_funder = train['funder'].value_counts()[ (train['funder'].value_counts() < 10) & (train['funder'].value_counts() > 1) ]\n",
    "    X['Small_Funder'] = X['funder'].isin(small_funder.index)\n",
    "\n",
    "    big_funder = (( train['funder'].value_counts() >= 10 ) == True)\n",
    "    X['Big_Funder'] = X['funder'].isin(big_funder.index)\n",
    "    \n",
    "    # Replace population 0 with median population of Train\n",
    "    median_pop = train['population'].median()\n",
    "    X['population'] = X['population'].replace(0, median_pop)\n",
    "    \n",
    "    # Create interaction between amount of water avaialable and population\n",
    "    X['pop*amount_tsh'] = X['population'] * X['amount_tsh']\n",
    "    X['pop/amount_tsh'] = X['population'] / X['amount_tsh']\n",
    "    X['pop/amount_tsh'] = X['pop/amount_tsh'].replace(np.inf, 3000)\n",
    "    \n",
    "    # Create interaction between amount of water avaialable and height\n",
    "    X['gps_height*amount_tsh'] = X['gps_height'] * X['amount_tsh']\n",
    "    \n",
    "    # Polynomial gps_Height\n",
    "    X['gps_height**2'] = X['gps_height'] ** 2\n",
    "    X['gps_height**3'] = X['gps_height'] ** 3\n",
    "    \n",
    "    # Interaction between latitude and height\n",
    "    X['latitude*height*amount'] = X['latitude'] * X['gps_height'] * X['amount_tsh']\n",
    "    X['latitude*height'] = X['latitude'] * X['gps_height']\n",
    "    \n",
    "    # Create Binned Features\n",
    "    labels = [1,2,3,4,5,6,7,8,9,10]\n",
    "    X['gps_height_binned'] = pd.cut(x=X['gps_height'], bins=10, labels=labels)\n",
    "    X['pump_age_binned'] = pd.cut(x=X['pump_age'], bins=10, labels=labels)\n",
    "    X['amount_tsh_binned'] = pd.cut(x=X['amount_tsh'], bins=10, labels=labels)\n",
    "    X['longitude_binned'] = pd.cut(x=X['longitude'], bins=10, labels=labels)\n",
    "    X['latitude_binned'] = pd.cut(x=X['latitude'], bins=10, labels=labels)\n",
    "    \n",
    "    # Convert Binned Features to int datatype\n",
    "    X['gps_height_binned'] = X['gps_height_binned'].astype(int)\n",
    "    X['pump_age_binned'] = X['pump_age_binned'].astype(int)\n",
    "    X['amount_tsh_binned'] = X['amount_tsh_binned'].astype(int)\n",
    "    X['longitude_binned'] = X['longitude_binned'].astype(int)\n",
    "    X['latitude_binned'] = X['latitude_binned'].astype(int)\n",
    "    \n",
    "    # Pumps Funded and Built by Tanzania Government\n",
    "    X['Gov_Funded_Gov_Built'] = X['Tanzania_Gov_Funder'] * X['DWE_Installer'].astype(int)\n",
    "    \n",
    "    return X"
   ]
  },
  {
   "cell_type": "code",
   "execution_count": 356,
   "metadata": {},
   "outputs": [
    {
     "data": {
      "text/plain": [
       "((59400, 52), (14358, 52))"
      ]
     },
     "execution_count": 356,
     "metadata": {},
     "output_type": "execute_result"
    }
   ],
   "source": [
    "test = wrangle_features(test)\n",
    "train = wrangle_features(train)\n",
    "\n",
    "train.shape, test.shape"
   ]
  },
  {
   "cell_type": "code",
   "execution_count": 357,
   "metadata": {},
   "outputs": [],
   "source": [
    "def create_score(X, feature):\n",
    "    rel_score = pd.crosstab(train[feature], target['status_group'])\n",
    "    rel_score = pd.DataFrame(rel_score)\n",
    "    \n",
    "    new_feature = feature + '_rel_score'\n",
    "    total = rel_score['functional'] + rel_score['functional needs repair'] + rel_score['non functional']\n",
    "    rel_score[new_feature] = rel_score['functional'] / total\n",
    "    \n",
    "    rel_score = rel_score.reset_index()\n",
    "    rel_score = rel_score[ [feature, new_feature] ]\n",
    "    \n",
    "    X = pd.merge(X, rel_score, how='left', on=feature)\n",
    "    X[new_feature] = X[new_feature].fillna(0)\n",
    "    \n",
    "    return X"
   ]
  },
  {
   "cell_type": "code",
   "execution_count": 358,
   "metadata": {},
   "outputs": [],
   "source": [
    "def composite_scores(X):\n",
    "    X = X.copy()\n",
    "    \n",
    "    # Create Reliability Scores\n",
    "    X = create_score(X, 'installer')\n",
    "    X = create_score(X, 'scheme_management')\n",
    "    X = create_score(X, 'management_group')\n",
    "    X = create_score(X, 'payment')\n",
    "    X = create_score(X, 'extraction_type_class')\n",
    "    X = create_score(X, 'waterpoint_type')\n",
    "    X = create_score(X, 'pump_age_binned')\n",
    "    X = create_score(X, 'gps_height_binned')\n",
    "    X = create_score(X, 'amount_tsh_binned')\n",
    "    X = create_score(X, 'longitude_binned')\n",
    "    X = create_score(X, 'latitude_binned')\n",
    "    X = create_score(X, 'region')\n",
    "    X = create_score(X, 'basin')\n",
    "    X = create_score(X, 'district_code')\n",
    "    \n",
    "    # Create Composite Scores\n",
    "    X['Management_Score'] = X['installer_rel_score'] + X['scheme_management_rel_score'] + X['management_group_rel_score']\n",
    "    X['Condition_Score'] = X['gps_height_binned_rel_score'] + X['amount_tsh_binned_rel_score'] + X['latitude_binned_rel_score'] + X['longitude_binned_rel_score']\n",
    "    X['Tech_Score'] = X['payment_rel_score'] + X['pump_age_binned_rel_score'] + X['extraction_type_class_rel_score'] + X['waterpoint_type_rel_score']\n",
    "    \n",
    "    X['Overall_Reliability_Score'] = X['Management_Score'] + X['Condition_Score'] + X['Tech_Score']\n",
    "    X['Overall_Reliability_Score**2'] = X['Overall_Reliability_Score'] ** 2 \n",
    "    \n",
    "    # Public Support Score \n",
    "    X['Public_Support'] = X['payment_rel_score'] + X['public_meeting'] + X['permit']\n",
    "    \n",
    "    # Location Score\n",
    "    X['Location_Score'] = X['basin_rel_score'] + X['district_code_rel_score'] + X['region_rel_score']\n",
    "    \n",
    "    # Location * Condition\n",
    "    X['Location*Condition'] = X['Location_Score'] + X['Condition_Score']\n",
    "    X['Location*Condition**2'] = X['Location*Condition'] ** 2\n",
    "    \n",
    "    # Public Support and Location\n",
    "    X['Public_Support+Loc'] = X['Public_Support'] + X['Location_Score']\n",
    "    \n",
    "    # Site Score\n",
    "    X['Site_Score'] = X['Location_Score'] + X['Public_Support'] + X['Overall_Reliability_Score']\n",
    "    X['Site_Score**2'] = X['Site_Score'] ** 2\n",
    "    \n",
    "    # Negative Correlated Features\n",
    "    X['dry&high'] = (X['Hot_Dry_Season'] | X['Cool_Dry_Season']) * X['latitude*height']\n",
    "    X['Pump_Age*Pop/Amount_tsg'] = X['pump_age'] * X['pop/amount_tsh']\n",
    "    X['pump_age_binned**2'] = X['pump_age_binned'] ** 2\n",
    "    \n",
    "    # Drop unecessary columns\n",
    "    drop_cols = ['date_recorded', 'funder', 'installer', 'construction_year']\n",
    "    X = X.drop(columns=drop_cols)\n",
    "    \n",
    "    return X"
   ]
  },
  {
   "cell_type": "code",
   "execution_count": 359,
   "metadata": {},
   "outputs": [
    {
     "data": {
      "text/plain": [
       "((59400, 77), (14358, 77))"
      ]
     },
     "execution_count": 359,
     "metadata": {},
     "output_type": "execute_result"
    }
   ],
   "source": [
    "test = composite_scores(test)\n",
    "train = composite_scores(train)\n",
    "\n",
    "train.shape, test.shape"
   ]
  },
  {
   "cell_type": "code",
   "execution_count": 360,
   "metadata": {},
   "outputs": [
    {
     "data": {
      "text/plain": [
       "True"
      ]
     },
     "execution_count": 360,
     "metadata": {},
     "output_type": "execute_result"
    }
   ],
   "source": [
    "train.columns.tolist() == (test.columns.tolist())"
   ]
  },
  {
   "cell_type": "markdown",
   "metadata": {},
   "source": [
    "### Encode Features "
   ]
  },
  {
   "cell_type": "code",
   "execution_count": 361,
   "metadata": {},
   "outputs": [],
   "source": [
    "import category_encoders as ce\n",
    "\n",
    "def one_hot(X):\n",
    "    # Features to one hot encode\n",
    "    one_hot_cols = ['extraction_type_class', 'payment', 'quality_group', \n",
    "                    'quantity', 'source_class', 'waterpoint_type']\n",
    "    \n",
    "    # Convert all relevant cols to category datatype (for encoder)\n",
    "    X[one_hot_cols] = X[one_hot_cols].astype('category')\n",
    "    \n",
    "    # Initialize and transform relevant features\n",
    "    encoder = ce.OneHotEncoder(use_cat_names=True)\n",
    "    \n",
    "    # Note, train hardcoded to avoid overfitting test data\n",
    "    encoder.fit(train[one_hot_cols])\n",
    "    encoded = encoder.transform(X[one_hot_cols])\n",
    "    \n",
    "    X = X.drop(columns=one_hot_cols)\n",
    "    X = pd.concat([X, encoded], axis=1)\n",
    "    \n",
    "    return X"
   ]
  },
  {
   "cell_type": "code",
   "execution_count": 362,
   "metadata": {},
   "outputs": [],
   "source": [
    "import category_encoders as ce\n",
    "\n",
    "def ordinal(X):\n",
    "    ord_cols = ['basin', 'region', 'scheme_management',\n",
    "                    'management_group', 'source_type']\n",
    "    \n",
    "    # Initialize and transform relevant features\n",
    "    encoder = ce.OrdinalEncoder(cols=ord_cols)\n",
    "    \n",
    "    # Note, train hardcoded to avoid overfitting test data\n",
    "    encoder.fit(train)\n",
    "    X = encoder.transform(X)\n",
    "    \n",
    "    return X"
   ]
  },
  {
   "cell_type": "code",
   "execution_count": 363,
   "metadata": {},
   "outputs": [
    {
     "data": {
      "text/plain": [
       "((59400, 106), (14358, 106))"
      ]
     },
     "execution_count": 363,
     "metadata": {},
     "output_type": "execute_result"
    }
   ],
   "source": [
    "test = one_hot(test)\n",
    "train = one_hot(train)\n",
    "processed_train = ordinal(train)\n",
    "processed_test = ordinal(test)\n",
    "processed_train.shape, processed_test.shape"
   ]
  },
  {
   "cell_type": "markdown",
   "metadata": {},
   "source": [
    "### Create Additional Features Based on Encoded Features \n",
    "\n",
    "- Only intended to be used with OneHotEncoding"
   ]
  },
  {
   "cell_type": "code",
   "execution_count": 364,
   "metadata": {},
   "outputs": [],
   "source": [
    "def non_func_features(X):\n",
    "    X = X.copy()\n",
    "    \n",
    "    X['quantity_dry*pump_age/amount'] = X['quantity_dry'] / X['Pump_Age*Pop/Amount_tsg']\n",
    "    \n",
    "    X['Condition_Risk'] = X['quantity_dry'] + X['waterpoint_type_other'] + X['extraction_type_class_other'] + X['quality_group_unknown']\n",
    "    X['Condition**2'] = X['Condition_Risk'] ** 2\n",
    "    \n",
    "    X['Tech_Risk'] = X['extraction_type_class_motorpump'] + X['waterpoint_type_communal standpipe multiple'] + X['waterpoint_type_other']\n",
    "    X['Tech_Risk**2'] = X['Tech_Risk'] ** 2\n",
    "    \n",
    "    X['Non_Tech_Risk*Pump_age'] = X['Tech_Risk'] * X['pump_age']\n",
    "    \n",
    "    X['Management_Risk'] = X['Tanzania_Gov_Funder'] + X['Gov_Installer'] + X['payment_never pay'] + X['payment_unknown']\n",
    "    X['Management_Risk**2'] = X['Management_Risk'] ** 2\n",
    "    \n",
    "    X['Non_Func_Risk'] = X['Condition_Risk'] + X['Tech_Risk'] + X['Management_Risk']\n",
    "    X['Non_Func_Risk*Pump_age'] = X['Non_Func_Risk'] * X['pump_age']\n",
    "    X['Non_Func_Risk**2'] = X['Non_Func_Risk'] ** 2\n",
    "    \n",
    "    X['Tech_Repair_Score'] = X['source_class_surface'] + X['extraction_type_class_gravity']\n",
    "    X['Tech_Repair_Score**2'] = X['Tech_Repair_Score'] ** 2\n",
    "    \n",
    "    return X "
   ]
  },
  {
   "cell_type": "code",
   "execution_count": 365,
   "metadata": {},
   "outputs": [
    {
     "name": "stderr",
     "output_type": "stream",
     "text": [
      "/anaconda3/lib/python3.6/site-packages/pandas/core/computation/expressions.py:180: UserWarning: evaluating in Python space because the '+' operator is not supported by numexpr for the bool dtype, use '|' instead\n",
      "  .format(op=op_str, alt_op=unsupported[op_str]))\n",
      "/anaconda3/lib/python3.6/site-packages/pandas/core/computation/expressions.py:180: UserWarning: evaluating in Python space because the '+' operator is not supported by numexpr for the bool dtype, use '|' instead\n",
      "  .format(op=op_str, alt_op=unsupported[op_str]))\n"
     ]
    },
    {
     "data": {
      "text/plain": [
       "((59400, 119), (14358, 119))"
      ]
     },
     "execution_count": 365,
     "metadata": {},
     "output_type": "execute_result"
    }
   ],
   "source": [
    "processed_train = non_func_features(processed_train)\n",
    "processed_test = non_func_features(processed_test)\n",
    "processed_train.shape, processed_test.shape"
   ]
  },
  {
   "cell_type": "code",
   "execution_count": 366,
   "metadata": {},
   "outputs": [],
   "source": [
    "pd.set_option('display.max_columns', 500)"
   ]
  },
  {
   "cell_type": "code",
   "execution_count": 368,
   "metadata": {},
   "outputs": [],
   "source": [
    "processed_train, processed_test = processed_train.align(processed_test, join='left', axis=1)"
   ]
  },
  {
   "cell_type": "code",
   "execution_count": 369,
   "metadata": {},
   "outputs": [
    {
     "data": {
      "text/plain": [
       "True"
      ]
     },
     "execution_count": 369,
     "metadata": {},
     "output_type": "execute_result"
    }
   ],
   "source": [
    "processed_train.columns.tolist() == processed_test.columns.tolist()"
   ]
  },
  {
   "cell_type": "markdown",
   "metadata": {},
   "source": [
    "# Testing Model"
   ]
  },
  {
   "cell_type": "markdown",
   "metadata": {},
   "source": [
    "### Create Submission"
   ]
  },
  {
   "cell_type": "code",
   "execution_count": 370,
   "metadata": {},
   "outputs": [],
   "source": [
    "def create_submission(y_test_pred):\n",
    "    sample_submission = pd.read_csv('Data/sample_submission.csv')\n",
    "    submission = sample_submission.copy()\n",
    "    submission['status_group'] = y_test_pred\n",
    "    \n",
    "    now = pd.to_datetime('now')\n",
    "    filename = 'MB_' + str(now).replace(' ','_')[0:-7] \n",
    "    \n",
    "    submission.to_csv(f'Submissions/{filename}.csv', index=False)\n",
    "    print(f'Submissions/{filename}.csv')"
   ]
  },
  {
   "cell_type": "code",
   "execution_count": 371,
   "metadata": {},
   "outputs": [],
   "source": [
    "# Filenames of your submissions you want to ensemble\n",
    "files = ['submission-01.csv', 'submission-02.csv', 'submission-03.csv']\n",
    "\n",
    "def create_ensemble_submission(files):\n",
    "    submissions = (pd.read_csv(file)[['status_group']] for file in files)\n",
    "    ensemble = pd.concat(submissions, axis='columns')\n",
    "    majority_vote = ensemble.mode(axis='columns')[0]\n",
    "\n",
    "    sample_submission = pd.read_csv('sample_submission.csv')\n",
    "    submission = sample_submission.copy()\n",
    "    submission['status_group'] = majority_vote\n",
    "    \n",
    "    now = pd.to_datetime('now')\n",
    "    filename = 'MB_' + str(now).replace(' ','_')[0:-7]\n",
    "    \n",
    "    submission.to_csv('Submissions/{filename}.csv', index=False)\n",
    "    print(f'Submissions/{filename}.csv')"
   ]
  },
  {
   "cell_type": "markdown",
   "metadata": {},
   "source": [
    "### Classification Metrics "
   ]
  },
  {
   "cell_type": "code",
   "execution_count": 372,
   "metadata": {},
   "outputs": [],
   "source": [
    "from sklearn.metrics import accuracy_score, roc_auc_score, roc_curve, confusion_matrix, log_loss, f1_score, mean_absolute_error, mean_squared_error \n",
    "import matplotlib.pyplot as plt\n",
    "\n",
    "def classification_metrics(fit_estimator, X, y):\n",
    "    '''\n",
    "    Evaluates classifiers performance across several metrics (accuracy, roc_auc, confusion matrix,\n",
    "                                                              log loss, f1, mean absolute error, \n",
    "                                                              mean squared error)\n",
    "    Parameters:\n",
    "        fit_estimator: an sklearn estimator that has been fitted to train data\n",
    "        X: the features with which predictions will be based on\n",
    "        y: the labels with which performance will be evaluated\n",
    "    Returns: \n",
    "        Prints summary of performance across metrics and visualizaiton of ROC curve\n",
    "    '''\n",
    "    score = fit_estimator.score(X, y)\n",
    "    y_pred = fit_estimator.predict(X)\n",
    "    y_pred_proba = fit_estimator.predict_proba(X)[:,1]\n",
    "    \n",
    "    name = fit_estimator.__class__.__name__\n",
    "    print(name)\n",
    "    print('Accuracy Score:', score)\n",
    "    print('F1 Score:', f1_score(y, y_pred, average='weighted'))\n",
    "\n",
    "    conf_mat = pd.DataFrame(confusion_matrix(y, y_pred), columns=['Predicted Functional', 'Predicted Needs Repair', 'Predicted Non-Functional'],\n",
    "                           index=['Actual Functional','Actual Needs Repair', 'Actual Non-Functional'])\n",
    "    print('Confusion Matrix:')\n",
    "    print(conf_mat)"
   ]
  },
  {
   "cell_type": "markdown",
   "metadata": {},
   "source": [
    "### Random Forest Classifier"
   ]
  },
  {
   "cell_type": "code",
   "execution_count": 373,
   "metadata": {},
   "outputs": [],
   "source": [
    "from sklearn.ensemble import RandomForestClassifier\n",
    "from sklearn.metrics import accuracy_score\n",
    "from sklearn.model_selection import cross_validate\n",
    "\n",
    "model = RandomForestClassifier(bootstrap=True, class_weight=None, criterion='gini',\n",
    "                       max_depth=10, max_features='auto', max_leaf_nodes=None,\n",
    "                       min_impurity_decrease=0.0, min_impurity_split=None,\n",
    "                       min_samples_leaf=1, min_samples_split=2,\n",
    "                       min_weight_fraction_leaf=0.0, n_estimators=250,\n",
    "                       n_jobs=-1, oob_score=False, random_state=None, verbose=10,\n",
    "                       warm_start=False)\n",
    "\n",
    "scores = cross_validate(model, \n",
    "                        processed_train, \n",
    "                        target['encoded'], \n",
    "                        return_train_score=True,\n",
    "                        return_estimator=True,\n",
    "                        scoring='accuracy', \n",
    "                        n_jobs=-1,\n",
    "                        cv=3)"
   ]
  },
  {
   "cell_type": "code",
   "execution_count": 374,
   "metadata": {},
   "outputs": [
    {
     "data": {
      "text/html": [
       "<div>\n",
       "<style scoped>\n",
       "    .dataframe tbody tr th:only-of-type {\n",
       "        vertical-align: middle;\n",
       "    }\n",
       "\n",
       "    .dataframe tbody tr th {\n",
       "        vertical-align: top;\n",
       "    }\n",
       "\n",
       "    .dataframe thead th {\n",
       "        text-align: right;\n",
       "    }\n",
       "</style>\n",
       "<table border=\"1\" class=\"dataframe\">\n",
       "  <thead>\n",
       "    <tr style=\"text-align: right;\">\n",
       "      <th></th>\n",
       "      <th>fit_time</th>\n",
       "      <th>score_time</th>\n",
       "      <th>estimator</th>\n",
       "      <th>test_score</th>\n",
       "      <th>train_score</th>\n",
       "    </tr>\n",
       "  </thead>\n",
       "  <tbody>\n",
       "    <tr>\n",
       "      <th>0</th>\n",
       "      <td>24.386263</td>\n",
       "      <td>1.366607</td>\n",
       "      <td>(DecisionTreeClassifier(class_weight=None, cri...</td>\n",
       "      <td>0.797121</td>\n",
       "      <td>0.818434</td>\n",
       "    </tr>\n",
       "    <tr>\n",
       "      <th>1</th>\n",
       "      <td>24.255038</td>\n",
       "      <td>1.190345</td>\n",
       "      <td>(DecisionTreeClassifier(class_weight=None, cri...</td>\n",
       "      <td>0.796667</td>\n",
       "      <td>0.817727</td>\n",
       "    </tr>\n",
       "    <tr>\n",
       "      <th>2</th>\n",
       "      <td>24.526410</td>\n",
       "      <td>1.452560</td>\n",
       "      <td>(DecisionTreeClassifier(class_weight=None, cri...</td>\n",
       "      <td>0.795707</td>\n",
       "      <td>0.820530</td>\n",
       "    </tr>\n",
       "  </tbody>\n",
       "</table>\n",
       "</div>"
      ],
      "text/plain": [
       "    fit_time  score_time                                          estimator  \\\n",
       "0  24.386263    1.366607  (DecisionTreeClassifier(class_weight=None, cri...   \n",
       "1  24.255038    1.190345  (DecisionTreeClassifier(class_weight=None, cri...   \n",
       "2  24.526410    1.452560  (DecisionTreeClassifier(class_weight=None, cri...   \n",
       "\n",
       "   test_score  train_score  \n",
       "0    0.797121     0.818434  \n",
       "1    0.796667     0.817727  \n",
       "2    0.795707     0.820530  "
      ]
     },
     "execution_count": 374,
     "metadata": {},
     "output_type": "execute_result"
    }
   ],
   "source": [
    "pd.DataFrame(scores)"
   ]
  },
  {
   "cell_type": "code",
   "execution_count": 381,
   "metadata": {},
   "outputs": [
    {
     "name": "stderr",
     "output_type": "stream",
     "text": [
      "[Parallel(n_jobs=-1)]: Using backend ThreadingBackend with 4 concurrent workers.\n"
     ]
    },
    {
     "name": "stdout",
     "output_type": "stream",
     "text": [
      "building tree 1 of 250building tree 2 of 250\n",
      "\n",
      "building tree 3 of 250\n",
      "building tree 4 of 250\n",
      "building tree 5 of 250\n",
      "building tree 6 of 250\n",
      "building tree 7 of 250\n",
      "building tree 8 of 250\n",
      "building tree 9 of 250\n"
     ]
    },
    {
     "name": "stderr",
     "output_type": "stream",
     "text": [
      "[Parallel(n_jobs=-1)]: Done   5 tasks      | elapsed:    0.4s\n"
     ]
    },
    {
     "name": "stdout",
     "output_type": "stream",
     "text": [
      "building tree 10 of 250\n",
      "building tree 11 of 250\n",
      "building tree 12 of 250\n",
      "building tree 13 of 250\n"
     ]
    },
    {
     "name": "stderr",
     "output_type": "stream",
     "text": [
      "[Parallel(n_jobs=-1)]: Done  10 tasks      | elapsed:    0.7s\n"
     ]
    },
    {
     "name": "stdout",
     "output_type": "stream",
     "text": [
      "building tree 14 of 250\n",
      "building tree 15 of 250\n",
      "building tree 16 of 250\n",
      "building tree 17 of 250\n",
      "building tree 18 of 250\n",
      "building tree 19 of 250\n",
      "building tree 20 of 250\n"
     ]
    },
    {
     "name": "stderr",
     "output_type": "stream",
     "text": [
      "[Parallel(n_jobs=-1)]: Done  17 tasks      | elapsed:    1.1s\n"
     ]
    },
    {
     "name": "stdout",
     "output_type": "stream",
     "text": [
      "building tree 21 of 250\n",
      "building tree 22 of 250\n",
      "building tree 23 of 250\n",
      "building tree 24 of 250\n",
      "building tree 25 of 250\n",
      "building tree 26 of 250\n",
      "building tree 27 of 250\n",
      "building tree 28 of 250\n"
     ]
    },
    {
     "name": "stderr",
     "output_type": "stream",
     "text": [
      "[Parallel(n_jobs=-1)]: Done  24 tasks      | elapsed:    1.5s\n"
     ]
    },
    {
     "name": "stdout",
     "output_type": "stream",
     "text": [
      "building tree 29 of 250\n",
      "building tree 30 of 250\n",
      "building tree 31 of 250\n",
      "building tree 32 of 250\n",
      "building tree 33 of 250\n",
      "building tree 34 of 250\n",
      "building tree 35 of 250\n",
      "building tree 36 of 250\n",
      "building tree 37 of 250\n"
     ]
    },
    {
     "name": "stderr",
     "output_type": "stream",
     "text": [
      "[Parallel(n_jobs=-1)]: Done  33 tasks      | elapsed:    2.0s\n"
     ]
    },
    {
     "name": "stdout",
     "output_type": "stream",
     "text": [
      "building tree 38 of 250\n",
      "building tree 39 of 250\n",
      "building tree 40 of 250\n",
      "building tree 41 of 250\n",
      "building tree 42 of 250\n",
      "building tree 43 of 250\n",
      "building tree 44 of 250\n",
      "building tree 45 of 250\n",
      "building tree 46 of 250\n",
      "building tree 47 of 250\n"
     ]
    },
    {
     "name": "stderr",
     "output_type": "stream",
     "text": [
      "[Parallel(n_jobs=-1)]: Done  42 tasks      | elapsed:    2.5s\n"
     ]
    },
    {
     "name": "stdout",
     "output_type": "stream",
     "text": [
      "building tree 48 of 250\n",
      "building tree 49 of 250\n",
      "building tree 50 of 250\n",
      "building tree 51 of 250\n",
      "building tree 52 of 250\n",
      "building tree 53 of 250\n",
      "building tree 54 of 250\n",
      "building tree 55 of 250\n",
      "building tree 56 of 250\n",
      "building tree 57 of 250\n"
     ]
    },
    {
     "name": "stderr",
     "output_type": "stream",
     "text": [
      "[Parallel(n_jobs=-1)]: Done  53 tasks      | elapsed:    3.1s\n"
     ]
    },
    {
     "name": "stdout",
     "output_type": "stream",
     "text": [
      "building tree 58 of 250\n",
      "building tree 59 of 250\n",
      "building tree 60 of 250\n",
      "building tree 61 of 250\n",
      "building tree 62 of 250\n",
      "building tree 63 of 250\n",
      "building tree 64 of 250\n",
      "building tree 65 of 250\n",
      "building tree 66 of 250\n",
      "building tree 67 of 250\n",
      "building tree 68 of 250\n",
      "building tree 69 of 250\n"
     ]
    },
    {
     "name": "stderr",
     "output_type": "stream",
     "text": [
      "[Parallel(n_jobs=-1)]: Done  64 tasks      | elapsed:    3.8s\n"
     ]
    },
    {
     "name": "stdout",
     "output_type": "stream",
     "text": [
      "building tree 70 of 250\n",
      "building tree 71 of 250\n",
      "building tree 72 of 250\n",
      "building tree 73 of 250\n",
      "building tree 74 of 250\n",
      "building tree 75 of 250\n",
      "building tree 76 of 250\n",
      "building tree 77 of 250\n",
      "building tree 78 of 250\n",
      "building tree 79 of 250\n",
      "building tree 80 of 250\n",
      "building tree 81 of 250\n"
     ]
    },
    {
     "name": "stderr",
     "output_type": "stream",
     "text": [
      "[Parallel(n_jobs=-1)]: Done  77 tasks      | elapsed:    4.6s\n"
     ]
    },
    {
     "name": "stdout",
     "output_type": "stream",
     "text": [
      "building tree 82 of 250\n",
      "building tree 83 of 250\n",
      "building tree 84 of 250\n",
      "building tree 85 of 250\n",
      "building tree 86 of 250\n",
      "building tree 87 of 250\n",
      "building tree 88 of 250\n",
      "building tree 89 of 250\n",
      "building tree 90 of 250building tree 91 of 250\n",
      "\n",
      "building tree 92 of 250\n",
      "building tree 93 of 250\n"
     ]
    },
    {
     "name": "stderr",
     "output_type": "stream",
     "text": [
      "[Parallel(n_jobs=-1)]: Done  90 tasks      | elapsed:    5.5s\n"
     ]
    },
    {
     "name": "stdout",
     "output_type": "stream",
     "text": [
      "building tree 94 of 250\n",
      "building tree 95 of 250\n",
      "building tree 96 of 250\n",
      "building tree 97 of 250\n",
      "building tree 98 of 250\n",
      "building tree 99 of 250\n",
      "building tree 100 of 250\n",
      "building tree 101 of 250\n",
      "building tree 102 of 250\n",
      "building tree 103 of 250\n",
      "building tree 104 of 250\n",
      "building tree 105 of 250\n",
      "building tree 106 of 250\n",
      "building tree 107 of 250\n",
      "building tree 108 of 250\n",
      "building tree 109 of 250\n",
      "building tree 110 of 250\n"
     ]
    },
    {
     "name": "stderr",
     "output_type": "stream",
     "text": [
      "[Parallel(n_jobs=-1)]: Done 105 tasks      | elapsed:    6.2s\n"
     ]
    },
    {
     "name": "stdout",
     "output_type": "stream",
     "text": [
      "building tree 111 of 250\n",
      "building tree 112 of 250\n",
      "building tree 113 of 250\n",
      "building tree 114 of 250\n",
      "building tree 115 of 250\n",
      "building tree 116 of 250\n",
      "building tree 117 of 250\n",
      "building tree 118 of 250\n",
      "building tree 119 of 250\n",
      "building tree 120 of 250\n",
      "building tree 121 of 250\n",
      "building tree 122 of 250\n",
      "building tree 123 of 250\n",
      "building tree 124 of 250\n",
      "building tree 125 of 250\n"
     ]
    },
    {
     "name": "stderr",
     "output_type": "stream",
     "text": [
      "[Parallel(n_jobs=-1)]: Done 120 tasks      | elapsed:    7.0s\n"
     ]
    },
    {
     "name": "stdout",
     "output_type": "stream",
     "text": [
      "building tree 126 of 250\n",
      "building tree 127 of 250\n",
      "building tree 128 of 250\n",
      "building tree 129 of 250\n",
      "building tree 130 of 250\n",
      "building tree 131 of 250\n",
      "building tree 132 of 250\n",
      "building tree 133 of 250\n",
      "building tree 134 of 250\n",
      "building tree 135 of 250\n",
      "building tree 136 of 250\n",
      "building tree 137 of 250\n",
      "building tree 138 of 250\n",
      "building tree 139 of 250\n",
      "building tree 140 of 250\n",
      "building tree 141 of 250\n",
      "building tree 142 of 250\n"
     ]
    },
    {
     "name": "stderr",
     "output_type": "stream",
     "text": [
      "[Parallel(n_jobs=-1)]: Done 137 tasks      | elapsed:    8.1s\n"
     ]
    },
    {
     "name": "stdout",
     "output_type": "stream",
     "text": [
      "building tree 143 of 250building tree 144 of 250\n",
      "\n",
      "building tree 145 of 250\n",
      "building tree 146 of 250\n",
      "building tree 147 of 250\n",
      "building tree 148 of 250\n",
      "building tree 149 of 250\n",
      "building tree 150 of 250\n",
      "building tree 151 of 250\n",
      "building tree 152 of 250\n",
      "building tree 153 of 250\n",
      "building tree 154 of 250\n",
      "building tree 155 of 250\n",
      "building tree 156 of 250\n",
      "building tree 157 of 250\n",
      "building tree 158 of 250\n",
      "building tree 159 of 250\n"
     ]
    },
    {
     "name": "stderr",
     "output_type": "stream",
     "text": [
      "[Parallel(n_jobs=-1)]: Done 154 tasks      | elapsed:    9.0s\n"
     ]
    },
    {
     "name": "stdout",
     "output_type": "stream",
     "text": [
      "building tree 160 of 250\n",
      "building tree 161 of 250\n",
      "building tree 162 of 250\n",
      "building tree 163 of 250\n",
      "building tree 164 of 250\n",
      "building tree 165 of 250\n",
      "building tree 166 of 250\n",
      "building tree 167 of 250\n",
      "building tree 168 of 250\n",
      "building tree 169 of 250\n",
      "building tree 170 of 250\n",
      "building tree 171 of 250\n",
      "building tree 172 of 250\n",
      "building tree 173 of 250\n",
      "building tree 174 of 250\n",
      "building tree 175 of 250\n",
      "building tree 176 of 250\n"
     ]
    },
    {
     "name": "stderr",
     "output_type": "stream",
     "text": [
      "[Parallel(n_jobs=-1)]: Done 173 tasks      | elapsed:   10.0s\n"
     ]
    },
    {
     "name": "stdout",
     "output_type": "stream",
     "text": [
      "building tree 177 of 250\n",
      "building tree 178 of 250\n",
      "building tree 179 of 250\n",
      "building tree 180 of 250\n",
      "building tree 181 of 250\n",
      "building tree 182 of 250\n",
      "building tree 183 of 250\n",
      "building tree 184 of 250\n",
      "building tree 185 of 250\n",
      "building tree 186 of 250\n",
      "building tree 187 of 250\n",
      "building tree 188 of 250\n",
      "building tree 189 of 250\n",
      "building tree 190 of 250\n",
      "building tree 191 of 250\n",
      "building tree 192 of 250\n",
      "building tree 193 of 250\n",
      "building tree 194 of 250\n",
      "building tree 195 of 250\n",
      "building tree 196 of 250\n",
      "building tree 197 of 250\n",
      "building tree 198 of 250\n"
     ]
    },
    {
     "name": "stderr",
     "output_type": "stream",
     "text": [
      "[Parallel(n_jobs=-1)]: Done 192 tasks      | elapsed:   11.0s\n"
     ]
    },
    {
     "name": "stdout",
     "output_type": "stream",
     "text": [
      "building tree 199 of 250\n",
      "building tree 200 of 250\n",
      "building tree 201 of 250\n",
      "building tree 202 of 250\n",
      "building tree 203 of 250\n",
      "building tree 204 of 250\n",
      "building tree 205 of 250\n",
      "building tree 206 of 250\n",
      "building tree 207 of 250\n",
      "building tree 208 of 250\n",
      "building tree 209 of 250\n",
      "building tree 210 of 250\n",
      "building tree 211 of 250\n",
      "building tree 212 of 250\n",
      "building tree 213 of 250\n",
      "building tree 214 of 250\n",
      "building tree 215 of 250\n",
      "building tree 216 of 250\n",
      "building tree 217 of 250\n",
      "building tree 218 of 250\n",
      "building tree 219 of 250\n"
     ]
    },
    {
     "name": "stderr",
     "output_type": "stream",
     "text": [
      "[Parallel(n_jobs=-1)]: Done 213 tasks      | elapsed:   12.1s\n"
     ]
    },
    {
     "name": "stdout",
     "output_type": "stream",
     "text": [
      "building tree 220 of 250\n",
      "building tree 221 of 250\n",
      "building tree 222 of 250\n",
      "building tree 223 of 250\n",
      "building tree 224 of 250\n",
      "building tree 225 of 250\n",
      "building tree 226 of 250\n",
      "building tree 227 of 250\n",
      "building tree 228 of 250\n",
      "building tree 229 of 250\n",
      "building tree 230 of 250\n",
      "building tree 231 of 250\n",
      "building tree 232 of 250\n",
      "building tree 233 of 250\n",
      "building tree 234 of 250\n",
      "building tree 235 of 250\n",
      "building tree 236 of 250\n",
      "building tree 237 of 250\n",
      "building tree 238 of 250\n",
      "building tree 239 of 250\n"
     ]
    },
    {
     "name": "stderr",
     "output_type": "stream",
     "text": [
      "[Parallel(n_jobs=-1)]: Done 234 tasks      | elapsed:   13.4s\n"
     ]
    },
    {
     "name": "stdout",
     "output_type": "stream",
     "text": [
      "building tree 240 of 250\n",
      "building tree 241 of 250\n",
      "building tree 242 of 250\n",
      "building tree 243 of 250\n",
      "building tree 244 of 250\n",
      "building tree 245 of 250\n",
      "building tree 246 of 250\n",
      "building tree 247 of 250\n",
      "building tree 248 of 250\n",
      "building tree 249 of 250\n",
      "building tree 250 of 250\n"
     ]
    },
    {
     "name": "stderr",
     "output_type": "stream",
     "text": [
      "[Parallel(n_jobs=-1)]: Done 250 out of 250 | elapsed:   14.2s finished\n",
      "[Parallel(n_jobs=4)]: Using backend ThreadingBackend with 4 concurrent workers.\n",
      "[Parallel(n_jobs=4)]: Done   5 tasks      | elapsed:    0.0s\n",
      "[Parallel(n_jobs=4)]: Done  10 tasks      | elapsed:    0.1s\n",
      "[Parallel(n_jobs=4)]: Done  17 tasks      | elapsed:    0.1s\n",
      "[Parallel(n_jobs=4)]: Done  24 tasks      | elapsed:    0.1s\n",
      "[Parallel(n_jobs=4)]: Done  33 tasks      | elapsed:    0.2s\n",
      "[Parallel(n_jobs=4)]: Done  42 tasks      | elapsed:    0.2s\n",
      "[Parallel(n_jobs=4)]: Done  53 tasks      | elapsed:    0.3s\n",
      "[Parallel(n_jobs=4)]: Done  64 tasks      | elapsed:    0.3s\n",
      "[Parallel(n_jobs=4)]: Done  77 tasks      | elapsed:    0.4s\n",
      "[Parallel(n_jobs=4)]: Done  90 tasks      | elapsed:    0.4s\n",
      "[Parallel(n_jobs=4)]: Done 105 tasks      | elapsed:    0.5s\n",
      "[Parallel(n_jobs=4)]: Done 120 tasks      | elapsed:    0.6s\n",
      "[Parallel(n_jobs=4)]: Done 137 tasks      | elapsed:    0.7s\n",
      "[Parallel(n_jobs=4)]: Done 154 tasks      | elapsed:    0.7s\n",
      "[Parallel(n_jobs=4)]: Done 173 tasks      | elapsed:    0.8s\n",
      "[Parallel(n_jobs=4)]: Done 192 tasks      | elapsed:    0.9s\n",
      "[Parallel(n_jobs=4)]: Done 213 tasks      | elapsed:    1.0s\n",
      "[Parallel(n_jobs=4)]: Done 234 tasks      | elapsed:    1.1s\n",
      "[Parallel(n_jobs=4)]: Done 250 out of 250 | elapsed:    1.2s finished\n",
      "[Parallel(n_jobs=4)]: Using backend ThreadingBackend with 4 concurrent workers.\n",
      "[Parallel(n_jobs=4)]: Done   5 tasks      | elapsed:    0.0s\n",
      "[Parallel(n_jobs=4)]: Done  10 tasks      | elapsed:    0.0s\n",
      "[Parallel(n_jobs=4)]: Done  17 tasks      | elapsed:    0.0s\n",
      "[Parallel(n_jobs=4)]: Done  24 tasks      | elapsed:    0.0s\n",
      "[Parallel(n_jobs=4)]: Done  33 tasks      | elapsed:    0.0s\n",
      "[Parallel(n_jobs=4)]: Done  42 tasks      | elapsed:    0.1s\n",
      "[Parallel(n_jobs=4)]: Done  53 tasks      | elapsed:    0.1s\n",
      "[Parallel(n_jobs=4)]: Done  64 tasks      | elapsed:    0.1s\n",
      "[Parallel(n_jobs=4)]: Done  77 tasks      | elapsed:    0.1s\n",
      "[Parallel(n_jobs=4)]: Done  90 tasks      | elapsed:    0.1s\n",
      "[Parallel(n_jobs=4)]: Done 105 tasks      | elapsed:    0.1s\n",
      "[Parallel(n_jobs=4)]: Done 120 tasks      | elapsed:    0.1s\n",
      "[Parallel(n_jobs=4)]: Done 137 tasks      | elapsed:    0.2s\n",
      "[Parallel(n_jobs=4)]: Done 154 tasks      | elapsed:    0.2s\n",
      "[Parallel(n_jobs=4)]: Done 173 tasks      | elapsed:    0.2s\n",
      "[Parallel(n_jobs=4)]: Done 192 tasks      | elapsed:    0.2s\n",
      "[Parallel(n_jobs=4)]: Done 213 tasks      | elapsed:    0.2s\n",
      "[Parallel(n_jobs=4)]: Done 234 tasks      | elapsed:    0.3s\n",
      "[Parallel(n_jobs=4)]: Done 250 out of 250 | elapsed:    0.3s finished\n"
     ]
    }
   ],
   "source": [
    "model.fit(processed_train, target['encoded'])\n",
    "train_pred = model.predict(processed_train)\n",
    "test_pred = model.predict(processed_test)"
   ]
  },
  {
   "cell_type": "code",
   "execution_count": 385,
   "metadata": {},
   "outputs": [],
   "source": [
    "y_test = pd.Series(test_pred).replace({0:'non functional', 1:'functional'})"
   ]
  },
  {
   "cell_type": "code",
   "execution_count": 386,
   "metadata": {},
   "outputs": [
    {
     "name": "stdout",
     "output_type": "stream",
     "text": [
      "Submissions/MB_2019-05-22_20:45:47.csv\n"
     ]
    }
   ],
   "source": [
    "create_submission(y_test)"
   ]
  },
  {
   "cell_type": "markdown",
   "metadata": {},
   "source": [
    "#### Randomized SearchCV "
   ]
  },
  {
   "cell_type": "code",
   "execution_count": 209,
   "metadata": {},
   "outputs": [],
   "source": [
    "from sklearn.model_selection import RandomizedSearchCV\n",
    "\n",
    "param_distributions = {\n",
    "    'n_estimators': [200, 300, 400, 500],\n",
    "    'max_depth': [8, 10, 12, 15],\n",
    "}\n",
    "\n",
    "search = RandomizedSearchCV(model, \n",
    "                           param_distributions=param_distributions,\n",
    "                           n_iter=8,\n",
    "                           scoring='accuracy', \n",
    "                           verbose=10,\n",
    "                           cv=3,\n",
    "                           n_jobs=-1,\n",
    "                           return_train_score=True)"
   ]
  },
  {
   "cell_type": "code",
   "execution_count": 210,
   "metadata": {},
   "outputs": [
    {
     "name": "stdout",
     "output_type": "stream",
     "text": [
      "Fitting 3 folds for each of 8 candidates, totalling 24 fits\n"
     ]
    },
    {
     "name": "stderr",
     "output_type": "stream",
     "text": [
      "[Parallel(n_jobs=-1)]: Using backend LokyBackend with 4 concurrent workers.\n",
      "[Parallel(n_jobs=-1)]: Done   5 tasks      | elapsed:  2.5min\n",
      "[Parallel(n_jobs=-1)]: Done  10 tasks      | elapsed:  3.8min\n",
      "[Parallel(n_jobs=-1)]: Done  17 tasks      | elapsed:  5.3min\n",
      "[Parallel(n_jobs=-1)]: Done  20 out of  24 | elapsed:  6.1min remaining:  1.2min\n",
      "[Parallel(n_jobs=-1)]: Done  24 out of  24 | elapsed:  7.3min finished\n",
      "[Parallel(n_jobs=-1)]: Using backend ThreadingBackend with 4 concurrent workers.\n"
     ]
    },
    {
     "name": "stdout",
     "output_type": "stream",
     "text": [
      "building tree 1 of 500building tree 2 of 500\n",
      "\n",
      "building tree 3 of 500\n",
      "building tree 4 of 500\n",
      "building tree 5 of 500\n",
      "building tree 6 of 500\n",
      "building tree 7 of 500\n",
      "building tree 8 of 500\n"
     ]
    },
    {
     "name": "stderr",
     "output_type": "stream",
     "text": [
      "[Parallel(n_jobs=-1)]: Done   5 tasks      | elapsed:    0.6s\n"
     ]
    },
    {
     "name": "stdout",
     "output_type": "stream",
     "text": [
      "building tree 9 of 500\n",
      "building tree 10 of 500\n",
      "building tree 11 of 500\n",
      "building tree 12 of 500\n",
      "building tree 13 of 500\n",
      "building tree 14 of 500\n",
      "building tree 15 of 500\n",
      "building tree 16 of 500\n"
     ]
    },
    {
     "name": "stderr",
     "output_type": "stream",
     "text": [
      "[Parallel(n_jobs=-1)]: Done  10 tasks      | elapsed:    0.9s\n"
     ]
    },
    {
     "name": "stdout",
     "output_type": "stream",
     "text": [
      "building tree 17 of 500\n",
      "building tree 18 of 500\n",
      "building tree 19 of 500\n",
      "building tree 20 of 500\n"
     ]
    },
    {
     "name": "stderr",
     "output_type": "stream",
     "text": [
      "[Parallel(n_jobs=-1)]: Done  17 tasks      | elapsed:    1.5s\n"
     ]
    },
    {
     "name": "stdout",
     "output_type": "stream",
     "text": [
      "building tree 21 of 500\n",
      "building tree 22 of 500\n",
      "building tree 23 of 500\n",
      "building tree 24 of 500\n",
      "building tree 25 of 500\n",
      "building tree 26 of 500\n",
      "building tree 27 of 500\n",
      "building tree 28 of 500\n"
     ]
    },
    {
     "name": "stderr",
     "output_type": "stream",
     "text": [
      "[Parallel(n_jobs=-1)]: Done  24 tasks      | elapsed:    1.9s\n"
     ]
    },
    {
     "name": "stdout",
     "output_type": "stream",
     "text": [
      "building tree 29 of 500\n",
      "building tree 30 of 500\n",
      "building tree 31 of 500\n",
      "building tree 32 of 500\n",
      "building tree 33 of 500\n",
      "building tree 34 of 500\n",
      "building tree 35 of 500\n",
      "building tree 36 of 500\n"
     ]
    },
    {
     "name": "stderr",
     "output_type": "stream",
     "text": [
      "[Parallel(n_jobs=-1)]: Done  33 tasks      | elapsed:    2.7s\n"
     ]
    },
    {
     "name": "stdout",
     "output_type": "stream",
     "text": [
      "building tree 37 of 500\n",
      "building tree 38 of 500\n",
      "building tree 39 of 500\n",
      "building tree 40 of 500\n",
      "building tree 41 of 500\n",
      "building tree 42 of 500\n",
      "building tree 43 of 500\n",
      "building tree 44 of 500\n",
      "building tree 45 of 500\n",
      "building tree 46 of 500\n",
      "building tree 47 of 500\n",
      "building tree 48 of 500\n"
     ]
    },
    {
     "name": "stderr",
     "output_type": "stream",
     "text": [
      "[Parallel(n_jobs=-1)]: Done  42 tasks      | elapsed:    3.4s\n"
     ]
    },
    {
     "name": "stdout",
     "output_type": "stream",
     "text": [
      "building tree 49 of 500\n",
      "building tree 50 of 500\n",
      "building tree 51 of 500\n",
      "building tree 52 of 500\n",
      "building tree 53 of 500\n",
      "building tree 54 of 500\n",
      "building tree 55 of 500\n",
      "building tree 56 of 500\n",
      "building tree 57 of 500\n",
      "building tree 58 of 500\n"
     ]
    },
    {
     "name": "stderr",
     "output_type": "stream",
     "text": [
      "[Parallel(n_jobs=-1)]: Done  53 tasks      | elapsed:    4.2s\n"
     ]
    },
    {
     "name": "stdout",
     "output_type": "stream",
     "text": [
      "building tree 59 of 500\n",
      "building tree 60 of 500\n",
      "building tree 61 of 500\n",
      "building tree 62 of 500\n",
      "building tree 63 of 500\n",
      "building tree 64 of 500\n",
      "building tree 65 of 500\n",
      "building tree 66 of 500\n",
      "building tree 67 of 500\n",
      "building tree 68 of 500\n",
      "building tree 69 of 500\n",
      "building tree 70 of 500\n"
     ]
    },
    {
     "name": "stderr",
     "output_type": "stream",
     "text": [
      "[Parallel(n_jobs=-1)]: Done  64 tasks      | elapsed:    5.2s\n"
     ]
    },
    {
     "name": "stdout",
     "output_type": "stream",
     "text": [
      "building tree 71 of 500\n",
      "building tree 72 of 500\n",
      "building tree 73 of 500\n",
      "building tree 74 of 500\n",
      "building tree 75 of 500\n",
      "building tree 76 of 500\n",
      "building tree 77 of 500\n",
      "building tree 78 of 500\n",
      "building tree 79 of 500\n",
      "building tree 80 of 500\n",
      "building tree 81 of 500\n",
      "building tree 82 of 500\n",
      "building tree 83 of 500building tree 84 of 500\n",
      "\n"
     ]
    },
    {
     "name": "stderr",
     "output_type": "stream",
     "text": [
      "[Parallel(n_jobs=-1)]: Done  77 tasks      | elapsed:    6.2s\n"
     ]
    },
    {
     "name": "stdout",
     "output_type": "stream",
     "text": [
      "building tree 85 of 500\n",
      "building tree 86 of 500\n",
      "building tree 87 of 500\n",
      "building tree 88 of 500\n",
      "building tree 89 of 500\n",
      "building tree 90 of 500\n",
      "building tree 91 of 500\n",
      "building tree 92 of 500\n",
      "building tree 93 of 500\n",
      "building tree 94 of 500\n",
      "building tree 95 of 500\n",
      "building tree 96 of 500\n"
     ]
    },
    {
     "name": "stderr",
     "output_type": "stream",
     "text": [
      "[Parallel(n_jobs=-1)]: Done  90 tasks      | elapsed:    7.2s\n"
     ]
    },
    {
     "name": "stdout",
     "output_type": "stream",
     "text": [
      "building tree 97 of 500\n",
      "building tree 98 of 500\n",
      "building tree 99 of 500\n",
      "building tree 100 of 500\n",
      "building tree 101 of 500\n",
      "building tree 102 of 500\n",
      "building tree 103 of 500\n",
      "building tree 104 of 500\n",
      "building tree 105 of 500\n",
      "building tree 106 of 500\n",
      "building tree 107 of 500\n",
      "building tree 108 of 500\n"
     ]
    },
    {
     "name": "stderr",
     "output_type": "stream",
     "text": [
      "[Parallel(n_jobs=-1)]: Done 105 tasks      | elapsed:    8.5s\n"
     ]
    },
    {
     "name": "stdout",
     "output_type": "stream",
     "text": [
      "building tree 109 of 500\n",
      "building tree 110 of 500\n",
      "building tree 111 of 500\n",
      "building tree 112 of 500\n",
      "building tree 113 of 500\n",
      "building tree 114 of 500\n",
      "building tree 115 of 500\n",
      "building tree 116 of 500\n",
      "building tree 117 of 500\n",
      "building tree 118 of 500\n",
      "building tree 119 of 500\n",
      "building tree 120 of 500\n",
      "building tree 121 of 500\n",
      "building tree 122 of 500\n",
      "building tree 123 of 500\n",
      "building tree 124 of 500\n"
     ]
    },
    {
     "name": "stderr",
     "output_type": "stream",
     "text": [
      "[Parallel(n_jobs=-1)]: Done 120 tasks      | elapsed:    9.6s\n"
     ]
    },
    {
     "name": "stdout",
     "output_type": "stream",
     "text": [
      "building tree 125 of 500\n",
      "building tree 126 of 500\n",
      "building tree 127 of 500\n",
      "building tree 128 of 500\n",
      "building tree 129 of 500\n",
      "building tree 130 of 500\n",
      "building tree 131 of 500\n",
      "building tree 132 of 500\n",
      "building tree 133 of 500\n",
      "building tree 134 of 500\n",
      "building tree 135 of 500\n",
      "building tree 136 of 500\n",
      "building tree 137 of 500\n",
      "building tree 138 of 500\n",
      "building tree 139 of 500\n",
      "building tree 140 of 500\n"
     ]
    },
    {
     "name": "stderr",
     "output_type": "stream",
     "text": [
      "[Parallel(n_jobs=-1)]: Done 137 tasks      | elapsed:   11.1s\n"
     ]
    },
    {
     "name": "stdout",
     "output_type": "stream",
     "text": [
      "building tree 141 of 500\n",
      "building tree 142 of 500\n",
      "building tree 143 of 500\n",
      "building tree 144 of 500\n",
      "building tree 145 of 500\n",
      "building tree 146 of 500\n",
      "building tree 147 of 500\n",
      "building tree 148 of 500\n",
      "building tree 149 of 500\n",
      "building tree 150 of 500\n",
      "building tree 151 of 500\n",
      "building tree 152 of 500\n",
      "building tree 153 of 500\n",
      "building tree 154 of 500\n",
      "building tree 155 of 500\n",
      "building tree 156 of 500\n",
      "building tree 157 of 500\n",
      "building tree 158 of 500\n",
      "building tree 159 of 500\n",
      "building tree 160 of 500\n"
     ]
    },
    {
     "name": "stderr",
     "output_type": "stream",
     "text": [
      "[Parallel(n_jobs=-1)]: Done 154 tasks      | elapsed:   12.5s\n"
     ]
    },
    {
     "name": "stdout",
     "output_type": "stream",
     "text": [
      "building tree 161 of 500\n",
      "building tree 162 of 500\n",
      "building tree 163 of 500\n",
      "building tree 164 of 500\n",
      "building tree 165 of 500\n",
      "building tree 166 of 500\n",
      "building tree 167 of 500\n",
      "building tree 168 of 500\n",
      "building tree 169 of 500\n",
      "building tree 170 of 500\n",
      "building tree 171 of 500\n",
      "building tree 172 of 500\n",
      "building tree 173 of 500\n",
      "building tree 174 of 500\n",
      "building tree 175 of 500\n",
      "building tree 176 of 500\n"
     ]
    },
    {
     "name": "stderr",
     "output_type": "stream",
     "text": [
      "[Parallel(n_jobs=-1)]: Done 173 tasks      | elapsed:   14.0s\n"
     ]
    },
    {
     "name": "stdout",
     "output_type": "stream",
     "text": [
      "building tree 177 of 500\n",
      "building tree 178 of 500\n",
      "building tree 179 of 500\n",
      "building tree 180 of 500\n",
      "building tree 181 of 500\n",
      "building tree 182 of 500\n",
      "building tree 183 of 500\n",
      "building tree 184 of 500\n",
      "building tree 185 of 500\n",
      "building tree 186 of 500\n",
      "building tree 187 of 500\n",
      "building tree 188 of 500\n",
      "building tree 189 of 500\n",
      "building tree 190 of 500\n",
      "building tree 191 of 500building tree 192 of 500\n",
      "\n",
      "building tree 193 of 500\n",
      "building tree 194 of 500\n",
      "building tree 195 of 500\n",
      "building tree 196 of 500\n"
     ]
    },
    {
     "name": "stderr",
     "output_type": "stream",
     "text": [
      "[Parallel(n_jobs=-1)]: Done 192 tasks      | elapsed:   15.4s\n"
     ]
    },
    {
     "name": "stdout",
     "output_type": "stream",
     "text": [
      "building tree 197 of 500\n",
      "building tree 198 of 500\n",
      "building tree 199 of 500\n",
      "building tree 200 of 500\n",
      "building tree 201 of 500\n",
      "building tree 202 of 500\n",
      "building tree 203 of 500\n",
      "building tree 204 of 500\n",
      "building tree 205 of 500\n",
      "building tree 206 of 500\n",
      "building tree 207 of 500\n",
      "building tree 208 of 500\n",
      "building tree 209 of 500\n",
      "building tree 210 of 500\n",
      "building tree 211 of 500\n",
      "building tree 212 of 500\n",
      "building tree 213 of 500\n",
      "building tree 214 of 500\n",
      "building tree 215 of 500\n",
      "building tree 216 of 500\n",
      "building tree 217 of 500\n"
     ]
    },
    {
     "name": "stderr",
     "output_type": "stream",
     "text": [
      "[Parallel(n_jobs=-1)]: Done 213 tasks      | elapsed:   17.2s\n"
     ]
    },
    {
     "name": "stdout",
     "output_type": "stream",
     "text": [
      "building tree 218 of 500\n",
      "building tree 219 of 500\n",
      "building tree 220 of 500\n",
      "building tree 221 of 500\n",
      "building tree 222 of 500\n",
      "building tree 223 of 500\n",
      "building tree 224 of 500\n",
      "building tree 225 of 500\n",
      "building tree 226 of 500\n",
      "building tree 227 of 500\n",
      "building tree 228 of 500\n",
      "building tree 229 of 500\n",
      "building tree 230 of 500\n",
      "building tree 231 of 500\n",
      "building tree 232 of 500\n",
      "building tree 233 of 500\n",
      "building tree 234 of 500\n",
      "building tree 235 of 500\n",
      "building tree 236 of 500\n",
      "building tree 237 of 500\n",
      "building tree 238 of 500\n",
      "building tree 239 of 500\n",
      "building tree 240 of 500\n"
     ]
    },
    {
     "name": "stderr",
     "output_type": "stream",
     "text": [
      "[Parallel(n_jobs=-1)]: Done 234 tasks      | elapsed:   18.9s\n"
     ]
    },
    {
     "name": "stdout",
     "output_type": "stream",
     "text": [
      "building tree 241 of 500\n",
      "building tree 242 of 500\n",
      "building tree 243 of 500\n",
      "building tree 244 of 500\n",
      "building tree 245 of 500\n",
      "building tree 246 of 500\n",
      "building tree 247 of 500\n",
      "building tree 248 of 500\n",
      "building tree 249 of 500\n",
      "building tree 250 of 500\n",
      "building tree 251 of 500\n",
      "building tree 252 of 500\n",
      "building tree 253 of 500\n",
      "building tree 254 of 500\n",
      "building tree 255 of 500\n",
      "building tree 256 of 500\n",
      "building tree 257 of 500\n",
      "building tree 258 of 500\n",
      "building tree 259 of 500\n",
      "building tree 260 of 500\n",
      "building tree 261 of 500"
     ]
    },
    {
     "name": "stderr",
     "output_type": "stream",
     "text": [
      "[Parallel(n_jobs=-1)]: Done 257 tasks      | elapsed:   20.6s\n"
     ]
    },
    {
     "name": "stdout",
     "output_type": "stream",
     "text": [
      "\n",
      "building tree 262 of 500\n",
      "building tree 263 of 500\n",
      "building tree 264 of 500\n",
      "building tree 265 of 500\n",
      "building tree 266 of 500\n",
      "building tree 267 of 500\n",
      "building tree 268 of 500\n",
      "building tree 269 of 500\n",
      "building tree 270 of 500\n",
      "building tree 271 of 500\n",
      "building tree 272 of 500\n",
      "building tree 273 of 500\n",
      "building tree 274 of 500\n",
      "building tree 275 of 500\n",
      "building tree 276 of 500\n",
      "building tree 277 of 500\n",
      "building tree 278 of 500\n",
      "building tree 279 of 500\n",
      "building tree 280 of 500\n",
      "building tree 281 of 500\n",
      "building tree 282 of 500\n",
      "building tree 283 of 500\n",
      "building tree 284 of 500\n",
      "building tree 285 of 500\n"
     ]
    },
    {
     "name": "stderr",
     "output_type": "stream",
     "text": [
      "[Parallel(n_jobs=-1)]: Done 280 tasks      | elapsed:   22.4s\n"
     ]
    },
    {
     "name": "stdout",
     "output_type": "stream",
     "text": [
      "building tree 286 of 500\n",
      "building tree 287 of 500\n",
      "building tree 288 of 500\n",
      "building tree 289 of 500\n",
      "building tree 290 of 500\n",
      "building tree 291 of 500\n",
      "building tree 292 of 500\n",
      "building tree 293 of 500\n",
      "building tree 294 of 500\n",
      "building tree 295 of 500\n",
      "building tree 296 of 500\n",
      "building tree 297 of 500\n",
      "building tree 298 of 500\n",
      "building tree 299 of 500\n",
      "building tree 300 of 500\n",
      "building tree 301 of 500\n",
      "building tree 302 of 500\n",
      "building tree 303 of 500\n",
      "building tree 304 of 500\n",
      "building tree 305 of 500\n",
      "building tree 306 of 500\n",
      "building tree 307 of 500\n",
      "building tree 308 of 500\n"
     ]
    },
    {
     "name": "stderr",
     "output_type": "stream",
     "text": [
      "[Parallel(n_jobs=-1)]: Done 305 tasks      | elapsed:   24.6s\n"
     ]
    },
    {
     "name": "stdout",
     "output_type": "stream",
     "text": [
      "building tree 309 of 500\n",
      "building tree 310 of 500\n",
      "building tree 311 of 500\n",
      "building tree 312 of 500\n",
      "building tree 313 of 500\n",
      "building tree 314 of 500\n",
      "building tree 315 of 500\n",
      "building tree 316 of 500\n",
      "building tree 317 of 500\n",
      "building tree 318 of 500\n",
      "building tree 319 of 500\n",
      "building tree 320 of 500\n",
      "building tree 321 of 500\n",
      "building tree 322 of 500\n",
      "building tree 323 of 500\n",
      "building tree 324 of 500\n",
      "building tree 325 of 500\n",
      "building tree 326 of 500\n",
      "building tree 327 of 500\n",
      "building tree 328 of 500\n",
      "building tree 329 of 500\n",
      "building tree 330 of 500\n",
      "building tree 331 of 500\n",
      "building tree 332 of 500\n",
      "building tree 333 of 500\n",
      "building tree 334 of 500\n"
     ]
    },
    {
     "name": "stderr",
     "output_type": "stream",
     "text": [
      "[Parallel(n_jobs=-1)]: Done 330 tasks      | elapsed:   26.7s\n"
     ]
    },
    {
     "name": "stdout",
     "output_type": "stream",
     "text": [
      "building tree 335 of 500\n",
      "building tree 336 of 500\n",
      "building tree 337 of 500\n",
      "building tree 338 of 500\n",
      "building tree 339 of 500\n",
      "building tree 340 of 500\n",
      "building tree 341 of 500\n",
      "building tree 342 of 500\n",
      "building tree 343 of 500\n",
      "building tree 344 of 500\n",
      "building tree 345 of 500\n",
      "building tree 346 of 500\n",
      "building tree 347 of 500\n",
      "building tree 348 of 500\n",
      "building tree 349 of 500\n",
      "building tree 350 of 500\n",
      "building tree 351 of 500\n",
      "building tree 352 of 500\n",
      "building tree 353 of 500\n",
      "building tree 354 of 500\n",
      "building tree 355 of 500\n",
      "building tree 356 of 500\n",
      "building tree 357 of 500\n",
      "building tree 358 of 500\n",
      "building tree 359 of 500\n",
      "building tree 360 of 500\n"
     ]
    },
    {
     "name": "stderr",
     "output_type": "stream",
     "text": [
      "[Parallel(n_jobs=-1)]: Done 357 tasks      | elapsed:   28.7s\n"
     ]
    },
    {
     "name": "stdout",
     "output_type": "stream",
     "text": [
      "building tree 361 of 500\n",
      "building tree 362 of 500\n",
      "building tree 363 of 500\n",
      "building tree 364 of 500\n",
      "building tree 365 of 500\n",
      "building tree 366 of 500\n",
      "building tree 367 of 500\n",
      "building tree 368 of 500\n",
      "building tree 369 of 500\n",
      "building tree 370 of 500\n",
      "building tree 371 of 500\n",
      "building tree 372 of 500\n",
      "building tree 373 of 500\n",
      "building tree 374 of 500\n",
      "building tree 375 of 500\n",
      "building tree 376 of 500\n",
      "building tree 377 of 500\n",
      "building tree 378 of 500\n",
      "building tree 379 of 500\n",
      "building tree 380 of 500\n",
      "building tree 381 of 500\n",
      "building tree 382 of 500\n",
      "building tree 383 of 500\n",
      "building tree 384 of 500\n",
      "building tree 385 of 500\n",
      "building tree 386 of 500\n",
      "building tree 387 of 500\n",
      "building tree 388 of 500\n"
     ]
    },
    {
     "name": "stderr",
     "output_type": "stream",
     "text": [
      "[Parallel(n_jobs=-1)]: Done 384 tasks      | elapsed:   30.9s\n"
     ]
    },
    {
     "name": "stdout",
     "output_type": "stream",
     "text": [
      "building tree 389 of 500\n",
      "building tree 390 of 500\n",
      "building tree 391 of 500\n",
      "building tree 392 of 500\n",
      "building tree 393 of 500\n",
      "building tree 394 of 500\n",
      "building tree 395 of 500\n",
      "building tree 396 of 500\n",
      "building tree 397 of 500\n",
      "building tree 398 of 500\n",
      "building tree 399 of 500\n",
      "building tree 400 of 500\n",
      "building tree 401 of 500\n",
      "building tree 402 of 500\n",
      "building tree 403 of 500\n",
      "building tree 404 of 500\n",
      "building tree 405 of 500\n",
      "building tree 406 of 500\n",
      "building tree 407 of 500\n",
      "building tree 408 of 500\n",
      "building tree 409 of 500\n",
      "building tree 410 of 500\n",
      "building tree 411 of 500\n",
      "building tree 412 of 500\n",
      "building tree 413 of 500\n",
      "building tree 414 of 500\n",
      "building tree 415 of 500\n",
      "building tree 416 of 500\n",
      "building tree 417 of 500\n",
      "building tree 418 of 500\n",
      "building tree 419 of 500\n"
     ]
    },
    {
     "name": "stderr",
     "output_type": "stream",
     "text": [
      "[Parallel(n_jobs=-1)]: Done 413 tasks      | elapsed:   33.2s\n"
     ]
    },
    {
     "name": "stdout",
     "output_type": "stream",
     "text": [
      "building tree 420 of 500\n",
      "building tree 421 of 500\n",
      "building tree 422 of 500\n",
      "building tree 423 of 500\n",
      "building tree 424 of 500\n",
      "building tree 425 of 500\n",
      "building tree 426 of 500\n",
      "building tree 427 of 500\n",
      "building tree 428 of 500\n",
      "building tree 429 of 500\n",
      "building tree 430 of 500\n",
      "building tree 431 of 500\n",
      "building tree 432 of 500\n",
      "building tree 433 of 500\n",
      "building tree 434 of 500\n",
      "building tree 435 of 500\n",
      "building tree 436 of 500\n",
      "building tree 437 of 500\n",
      "building tree 438 of 500\n",
      "building tree 439 of 500\n",
      "building tree 440 of 500\n",
      "building tree 441 of 500\n",
      "building tree 442 of 500\n",
      "building tree 443 of 500\n",
      "building tree 444 of 500\n",
      "building tree 445 of 500\n",
      "building tree 446 of 500\n",
      "building tree 447 of 500\n",
      "building tree 448 of 500\n"
     ]
    },
    {
     "name": "stderr",
     "output_type": "stream",
     "text": [
      "[Parallel(n_jobs=-1)]: Done 442 tasks      | elapsed:   35.5s\n"
     ]
    },
    {
     "name": "stdout",
     "output_type": "stream",
     "text": [
      "building tree 449 of 500\n",
      "building tree 450 of 500\n",
      "building tree 451 of 500\n",
      "building tree 452 of 500\n",
      "building tree 453 of 500\n",
      "building tree 454 of 500\n",
      "building tree 455 of 500\n",
      "building tree 456 of 500\n",
      "building tree 457 of 500\n",
      "building tree 458 of 500\n",
      "building tree 459 of 500\n",
      "building tree 460 of 500\n",
      "building tree 461 of 500\n",
      "building tree 462 of 500\n",
      "building tree 463 of 500\n",
      "building tree 464 of 500\n",
      "building tree 465 of 500\n",
      "building tree 466 of 500\n",
      "building tree 467 of 500\n",
      "building tree 468 of 500\n",
      "building tree 469 of 500\n",
      "building tree 470 of 500\n",
      "building tree 471 of 500\n",
      "building tree 472 of 500\n",
      "building tree 473 of 500\n",
      "building tree 474 of 500\n",
      "building tree 475 of 500\n",
      "building tree 476 of 500\n",
      "building tree 477 of 500\n",
      "building tree 478 of 500\n",
      "building tree 479 of 500\n",
      "building tree 480 of 500\n"
     ]
    },
    {
     "name": "stderr",
     "output_type": "stream",
     "text": [
      "[Parallel(n_jobs=-1)]: Done 473 tasks      | elapsed:   38.3s\n"
     ]
    },
    {
     "name": "stdout",
     "output_type": "stream",
     "text": [
      "building tree 481 of 500\n",
      "building tree 482 of 500\n",
      "building tree 483 of 500\n",
      "building tree 484 of 500\n",
      "building tree 485 of 500\n",
      "building tree 486 of 500\n",
      "building tree 487 of 500\n",
      "building tree 488 of 500\n",
      "building tree 489 of 500\n",
      "building tree 490 of 500\n",
      "building tree 491 of 500\n",
      "building tree 492 of 500\n",
      "building tree 493 of 500\n",
      "building tree 494 of 500\n",
      "building tree 495 of 500\n",
      "building tree 496 of 500\n",
      "building tree 497 of 500\n",
      "building tree 498 of 500\n",
      "building tree 499 of 500\n",
      "building tree 500 of 500\n"
     ]
    },
    {
     "name": "stderr",
     "output_type": "stream",
     "text": [
      "[Parallel(n_jobs=-1)]: Done 500 out of 500 | elapsed:   40.4s finished\n"
     ]
    }
   ],
   "source": [
    "rf_search = search.fit(processed_train, target['status_group'])"
   ]
  },
  {
   "cell_type": "code",
   "execution_count": 215,
   "metadata": {},
   "outputs": [
    {
     "data": {
      "text/plain": [
       "RandomForestClassifier(bootstrap=True, class_weight=None, criterion='gini',\n",
       "                       max_depth=15, max_features='auto', max_leaf_nodes=None,\n",
       "                       min_impurity_decrease=0.0, min_impurity_split=None,\n",
       "                       min_samples_leaf=1, min_samples_split=2,\n",
       "                       min_weight_fraction_leaf=0.0, n_estimators=500,\n",
       "                       n_jobs=-1, oob_score=False, random_state=None,\n",
       "                       verbose=10, warm_start=False)"
      ]
     },
     "execution_count": 215,
     "metadata": {},
     "output_type": "execute_result"
    }
   ],
   "source": [
    "rf_search.best_estimator_"
   ]
  },
  {
   "cell_type": "code",
   "execution_count": 220,
   "metadata": {},
   "outputs": [
    {
     "data": {
      "text/html": [
       "<div>\n",
       "<style scoped>\n",
       "    .dataframe tbody tr th:only-of-type {\n",
       "        vertical-align: middle;\n",
       "    }\n",
       "\n",
       "    .dataframe tbody tr th {\n",
       "        vertical-align: top;\n",
       "    }\n",
       "\n",
       "    .dataframe thead th {\n",
       "        text-align: right;\n",
       "    }\n",
       "</style>\n",
       "<table border=\"1\" class=\"dataframe\">\n",
       "  <thead>\n",
       "    <tr style=\"text-align: right;\">\n",
       "      <th></th>\n",
       "      <th>mean_fit_time</th>\n",
       "      <th>std_fit_time</th>\n",
       "      <th>mean_score_time</th>\n",
       "      <th>std_score_time</th>\n",
       "      <th>param_n_estimators</th>\n",
       "      <th>param_max_depth</th>\n",
       "      <th>params</th>\n",
       "      <th>split0_test_score</th>\n",
       "      <th>split1_test_score</th>\n",
       "      <th>split2_test_score</th>\n",
       "      <th>mean_test_score</th>\n",
       "      <th>std_test_score</th>\n",
       "      <th>rank_test_score</th>\n",
       "      <th>split0_train_score</th>\n",
       "      <th>split1_train_score</th>\n",
       "      <th>split2_train_score</th>\n",
       "      <th>mean_train_score</th>\n",
       "      <th>std_train_score</th>\n",
       "    </tr>\n",
       "  </thead>\n",
       "  <tbody>\n",
       "    <tr>\n",
       "      <th>0</th>\n",
       "      <td>61.777111</td>\n",
       "      <td>0.022307</td>\n",
       "      <td>2.737904</td>\n",
       "      <td>0.068379</td>\n",
       "      <td>500</td>\n",
       "      <td>8</td>\n",
       "      <td>{'n_estimators': 500, 'max_depth': 8}</td>\n",
       "      <td>0.755657</td>\n",
       "      <td>0.755354</td>\n",
       "      <td>0.755808</td>\n",
       "      <td>0.755606</td>\n",
       "      <td>0.000189</td>\n",
       "      <td>8</td>\n",
       "      <td>0.766414</td>\n",
       "      <td>0.765606</td>\n",
       "      <td>0.766162</td>\n",
       "      <td>0.766061</td>\n",
       "      <td>0.000338</td>\n",
       "    </tr>\n",
       "    <tr>\n",
       "      <th>1</th>\n",
       "      <td>100.827378</td>\n",
       "      <td>0.467727</td>\n",
       "      <td>4.587985</td>\n",
       "      <td>0.067031</td>\n",
       "      <td>500</td>\n",
       "      <td>15</td>\n",
       "      <td>{'n_estimators': 500, 'max_depth': 15}</td>\n",
       "      <td>0.801970</td>\n",
       "      <td>0.801970</td>\n",
       "      <td>0.799343</td>\n",
       "      <td>0.801094</td>\n",
       "      <td>0.001238</td>\n",
       "      <td>1</td>\n",
       "      <td>0.883561</td>\n",
       "      <td>0.888737</td>\n",
       "      <td>0.887071</td>\n",
       "      <td>0.886456</td>\n",
       "      <td>0.002158</td>\n",
       "    </tr>\n",
       "    <tr>\n",
       "      <th>2</th>\n",
       "      <td>70.707527</td>\n",
       "      <td>0.473404</td>\n",
       "      <td>3.120538</td>\n",
       "      <td>0.404885</td>\n",
       "      <td>400</td>\n",
       "      <td>12</td>\n",
       "      <td>{'n_estimators': 400, 'max_depth': 12}</td>\n",
       "      <td>0.790707</td>\n",
       "      <td>0.791667</td>\n",
       "      <td>0.790152</td>\n",
       "      <td>0.790842</td>\n",
       "      <td>0.000626</td>\n",
       "      <td>3</td>\n",
       "      <td>0.834040</td>\n",
       "      <td>0.833081</td>\n",
       "      <td>0.835657</td>\n",
       "      <td>0.834259</td>\n",
       "      <td>0.001063</td>\n",
       "    </tr>\n",
       "    <tr>\n",
       "      <th>3</th>\n",
       "      <td>34.235129</td>\n",
       "      <td>2.088073</td>\n",
       "      <td>1.664827</td>\n",
       "      <td>0.296758</td>\n",
       "      <td>200</td>\n",
       "      <td>12</td>\n",
       "      <td>{'n_estimators': 200, 'max_depth': 12}</td>\n",
       "      <td>0.790152</td>\n",
       "      <td>0.790909</td>\n",
       "      <td>0.788030</td>\n",
       "      <td>0.789697</td>\n",
       "      <td>0.001218</td>\n",
       "      <td>5</td>\n",
       "      <td>0.832601</td>\n",
       "      <td>0.833283</td>\n",
       "      <td>0.835303</td>\n",
       "      <td>0.833729</td>\n",
       "      <td>0.001147</td>\n",
       "    </tr>\n",
       "    <tr>\n",
       "      <th>4</th>\n",
       "      <td>74.363536</td>\n",
       "      <td>1.035506</td>\n",
       "      <td>3.643329</td>\n",
       "      <td>0.160455</td>\n",
       "      <td>500</td>\n",
       "      <td>10</td>\n",
       "      <td>{'n_estimators': 500, 'max_depth': 10}</td>\n",
       "      <td>0.776162</td>\n",
       "      <td>0.774495</td>\n",
       "      <td>0.776111</td>\n",
       "      <td>0.775589</td>\n",
       "      <td>0.000774</td>\n",
       "      <td>6</td>\n",
       "      <td>0.800758</td>\n",
       "      <td>0.798763</td>\n",
       "      <td>0.801919</td>\n",
       "      <td>0.800480</td>\n",
       "      <td>0.001304</td>\n",
       "    </tr>\n",
       "    <tr>\n",
       "      <th>5</th>\n",
       "      <td>32.092283</td>\n",
       "      <td>1.133835</td>\n",
       "      <td>1.472880</td>\n",
       "      <td>0.488336</td>\n",
       "      <td>200</td>\n",
       "      <td>10</td>\n",
       "      <td>{'n_estimators': 200, 'max_depth': 10}</td>\n",
       "      <td>0.776515</td>\n",
       "      <td>0.774040</td>\n",
       "      <td>0.774697</td>\n",
       "      <td>0.775084</td>\n",
       "      <td>0.001047</td>\n",
       "      <td>7</td>\n",
       "      <td>0.801061</td>\n",
       "      <td>0.798838</td>\n",
       "      <td>0.802045</td>\n",
       "      <td>0.800648</td>\n",
       "      <td>0.001341</td>\n",
       "    </tr>\n",
       "    <tr>\n",
       "      <th>6</th>\n",
       "      <td>43.240282</td>\n",
       "      <td>0.685561</td>\n",
       "      <td>1.922619</td>\n",
       "      <td>0.194793</td>\n",
       "      <td>200</td>\n",
       "      <td>15</td>\n",
       "      <td>{'n_estimators': 200, 'max_depth': 15}</td>\n",
       "      <td>0.801616</td>\n",
       "      <td>0.801212</td>\n",
       "      <td>0.799495</td>\n",
       "      <td>0.800774</td>\n",
       "      <td>0.000920</td>\n",
       "      <td>2</td>\n",
       "      <td>0.882904</td>\n",
       "      <td>0.888561</td>\n",
       "      <td>0.887222</td>\n",
       "      <td>0.886229</td>\n",
       "      <td>0.002414</td>\n",
       "    </tr>\n",
       "    <tr>\n",
       "      <th>7</th>\n",
       "      <td>70.019189</td>\n",
       "      <td>0.910262</td>\n",
       "      <td>2.522590</td>\n",
       "      <td>0.461599</td>\n",
       "      <td>500</td>\n",
       "      <td>12</td>\n",
       "      <td>{'n_estimators': 500, 'max_depth': 12}</td>\n",
       "      <td>0.790000</td>\n",
       "      <td>0.792273</td>\n",
       "      <td>0.790253</td>\n",
       "      <td>0.790842</td>\n",
       "      <td>0.001017</td>\n",
       "      <td>3</td>\n",
       "      <td>0.833131</td>\n",
       "      <td>0.833409</td>\n",
       "      <td>0.836111</td>\n",
       "      <td>0.834217</td>\n",
       "      <td>0.001344</td>\n",
       "    </tr>\n",
       "  </tbody>\n",
       "</table>\n",
       "</div>"
      ],
      "text/plain": [
       "   mean_fit_time  std_fit_time  mean_score_time  std_score_time  \\\n",
       "0      61.777111      0.022307         2.737904        0.068379   \n",
       "1     100.827378      0.467727         4.587985        0.067031   \n",
       "2      70.707527      0.473404         3.120538        0.404885   \n",
       "3      34.235129      2.088073         1.664827        0.296758   \n",
       "4      74.363536      1.035506         3.643329        0.160455   \n",
       "5      32.092283      1.133835         1.472880        0.488336   \n",
       "6      43.240282      0.685561         1.922619        0.194793   \n",
       "7      70.019189      0.910262         2.522590        0.461599   \n",
       "\n",
       "  param_n_estimators param_max_depth                                  params  \\\n",
       "0                500               8   {'n_estimators': 500, 'max_depth': 8}   \n",
       "1                500              15  {'n_estimators': 500, 'max_depth': 15}   \n",
       "2                400              12  {'n_estimators': 400, 'max_depth': 12}   \n",
       "3                200              12  {'n_estimators': 200, 'max_depth': 12}   \n",
       "4                500              10  {'n_estimators': 500, 'max_depth': 10}   \n",
       "5                200              10  {'n_estimators': 200, 'max_depth': 10}   \n",
       "6                200              15  {'n_estimators': 200, 'max_depth': 15}   \n",
       "7                500              12  {'n_estimators': 500, 'max_depth': 12}   \n",
       "\n",
       "   split0_test_score  split1_test_score  split2_test_score  mean_test_score  \\\n",
       "0           0.755657           0.755354           0.755808         0.755606   \n",
       "1           0.801970           0.801970           0.799343         0.801094   \n",
       "2           0.790707           0.791667           0.790152         0.790842   \n",
       "3           0.790152           0.790909           0.788030         0.789697   \n",
       "4           0.776162           0.774495           0.776111         0.775589   \n",
       "5           0.776515           0.774040           0.774697         0.775084   \n",
       "6           0.801616           0.801212           0.799495         0.800774   \n",
       "7           0.790000           0.792273           0.790253         0.790842   \n",
       "\n",
       "   std_test_score  rank_test_score  split0_train_score  split1_train_score  \\\n",
       "0        0.000189                8            0.766414            0.765606   \n",
       "1        0.001238                1            0.883561            0.888737   \n",
       "2        0.000626                3            0.834040            0.833081   \n",
       "3        0.001218                5            0.832601            0.833283   \n",
       "4        0.000774                6            0.800758            0.798763   \n",
       "5        0.001047                7            0.801061            0.798838   \n",
       "6        0.000920                2            0.882904            0.888561   \n",
       "7        0.001017                3            0.833131            0.833409   \n",
       "\n",
       "   split2_train_score  mean_train_score  std_train_score  \n",
       "0            0.766162          0.766061         0.000338  \n",
       "1            0.887071          0.886456         0.002158  \n",
       "2            0.835657          0.834259         0.001063  \n",
       "3            0.835303          0.833729         0.001147  \n",
       "4            0.801919          0.800480         0.001304  \n",
       "5            0.802045          0.800648         0.001341  \n",
       "6            0.887222          0.886229         0.002414  \n",
       "7            0.836111          0.834217         0.001344  "
      ]
     },
     "execution_count": 220,
     "metadata": {},
     "output_type": "execute_result"
    }
   ],
   "source": [
    "pd.DataFrame(rf_search.cv_results_)"
   ]
  },
  {
   "cell_type": "markdown",
   "metadata": {},
   "source": [
    "#### RF Model"
   ]
  },
  {
   "cell_type": "code",
   "execution_count": 76,
   "metadata": {},
   "outputs": [
    {
     "name": "stderr",
     "output_type": "stream",
     "text": [
      "[Parallel(n_jobs=-1)]: Using backend ThreadingBackend with 4 concurrent workers.\n"
     ]
    },
    {
     "name": "stdout",
     "output_type": "stream",
     "text": [
      "building tree 1 of 400\n",
      "building tree 2 of 400building tree 3 of 400\n",
      "\n",
      "building tree 4 of 400\n",
      "building tree 5 of 400\n",
      "building tree 6 of 400\n",
      "building tree 7 of 400\n",
      "building tree 8 of 400\n"
     ]
    },
    {
     "name": "stderr",
     "output_type": "stream",
     "text": [
      "[Parallel(n_jobs=-1)]: Done   5 tasks      | elapsed:    0.6s\n"
     ]
    },
    {
     "name": "stdout",
     "output_type": "stream",
     "text": [
      "building tree 9 of 400\n",
      "building tree 10 of 400\n",
      "building tree 11 of 400\n",
      "building tree 12 of 400\n",
      "building tree 13 of 400\n",
      "building tree 14 of 400\n",
      "building tree 15 of 400\n",
      "building tree 16 of 400\n"
     ]
    },
    {
     "name": "stderr",
     "output_type": "stream",
     "text": [
      "[Parallel(n_jobs=-1)]: Done  10 tasks      | elapsed:    0.9s\n"
     ]
    },
    {
     "name": "stdout",
     "output_type": "stream",
     "text": [
      "building tree 17 of 400\n",
      "building tree 18 of 400\n",
      "building tree 19 of 400\n",
      "building tree 20 of 400\n"
     ]
    },
    {
     "name": "stderr",
     "output_type": "stream",
     "text": [
      "[Parallel(n_jobs=-1)]: Done  17 tasks      | elapsed:    1.5s\n"
     ]
    },
    {
     "name": "stdout",
     "output_type": "stream",
     "text": [
      "building tree 21 of 400\n",
      "building tree 22 of 400\n",
      "building tree 23 of 400\n",
      "building tree 24 of 400\n",
      "building tree 25 of 400\n",
      "building tree 26 of 400\n",
      "building tree 27 of 400\n",
      "building tree 28 of 400\n"
     ]
    },
    {
     "name": "stderr",
     "output_type": "stream",
     "text": [
      "[Parallel(n_jobs=-1)]: Done  24 tasks      | elapsed:    1.9s\n"
     ]
    },
    {
     "name": "stdout",
     "output_type": "stream",
     "text": [
      "building tree 29 of 400\n",
      "building tree 30 of 400\n",
      "building tree 31 of 400\n",
      "building tree 32 of 400\n",
      "building tree 33 of 400\n",
      "building tree 34 of 400\n",
      "building tree 35 of 400\n",
      "building tree 36 of 400\n"
     ]
    },
    {
     "name": "stderr",
     "output_type": "stream",
     "text": [
      "[Parallel(n_jobs=-1)]: Done  33 tasks      | elapsed:    2.8s\n"
     ]
    },
    {
     "name": "stdout",
     "output_type": "stream",
     "text": [
      "building tree 37 of 400\n",
      "building tree 38 of 400\n",
      "building tree 39 of 400\n",
      "building tree 40 of 400\n",
      "building tree 41 of 400\n",
      "building tree 42 of 400\n",
      "building tree 43 of 400\n",
      "building tree 44 of 400\n",
      "building tree 45 of 400\n"
     ]
    },
    {
     "name": "stderr",
     "output_type": "stream",
     "text": [
      "[Parallel(n_jobs=-1)]: Done  42 tasks      | elapsed:    3.7s\n"
     ]
    },
    {
     "name": "stdout",
     "output_type": "stream",
     "text": [
      "building tree 46 of 400\n",
      "building tree 47 of 400\n",
      "building tree 48 of 400\n",
      "building tree 49 of 400\n",
      "building tree 50 of 400\n",
      "building tree 51 of 400\n",
      "building tree 52 of 400\n",
      "building tree 53 of 400\n",
      "building tree 54 of 400\n",
      "building tree 55 of 400\n",
      "building tree 56 of 400\n",
      "building tree 57 of 400\n"
     ]
    },
    {
     "name": "stderr",
     "output_type": "stream",
     "text": [
      "[Parallel(n_jobs=-1)]: Done  53 tasks      | elapsed:    4.7s\n"
     ]
    },
    {
     "name": "stdout",
     "output_type": "stream",
     "text": [
      "building tree 58 of 400\n",
      "building tree 59 of 400\n",
      "building tree 60 of 400\n",
      "building tree 61 of 400\n",
      "building tree 62 of 400\n",
      "building tree 63 of 400\n",
      "building tree 64 of 400\n",
      "building tree 65 of 400\n",
      "building tree 66 of 400\n",
      "building tree 67 of 400\n",
      "building tree 68 of 400\n",
      "building tree 69 of 400\n"
     ]
    },
    {
     "name": "stderr",
     "output_type": "stream",
     "text": [
      "[Parallel(n_jobs=-1)]: Done  64 tasks      | elapsed:    5.6s\n"
     ]
    },
    {
     "name": "stdout",
     "output_type": "stream",
     "text": [
      "building tree 70 of 400\n",
      "building tree 71 of 400\n",
      "building tree 72 of 400\n",
      "building tree 73 of 400\n",
      "building tree 74 of 400\n",
      "building tree 75 of 400\n",
      "building tree 76 of 400\n",
      "building tree 77 of 400\n",
      "building tree 78 of 400\n",
      "building tree 79 of 400\n",
      "building tree 80 of 400\n",
      "building tree 81 of 400\n"
     ]
    },
    {
     "name": "stderr",
     "output_type": "stream",
     "text": [
      "[Parallel(n_jobs=-1)]: Done  77 tasks      | elapsed:    6.6s\n"
     ]
    },
    {
     "name": "stdout",
     "output_type": "stream",
     "text": [
      "building tree 82 of 400\n",
      "building tree 83 of 400\n",
      "building tree 84 of 400\n",
      "building tree 85 of 400\n",
      "building tree 86 of 400\n",
      "building tree 87 of 400\n",
      "building tree 88 of 400\n",
      "building tree 89 of 400\n",
      "building tree 90 of 400\n",
      "building tree 91 of 400\n",
      "building tree 92 of 400\n",
      "building tree 93 of 400\n"
     ]
    },
    {
     "name": "stderr",
     "output_type": "stream",
     "text": [
      "[Parallel(n_jobs=-1)]: Done  90 tasks      | elapsed:    7.6s\n"
     ]
    },
    {
     "name": "stdout",
     "output_type": "stream",
     "text": [
      "building tree 94 of 400\n",
      "building tree 95 of 400\n",
      "building tree 96 of 400\n",
      "building tree 97 of 400\n",
      "building tree 98 of 400\n",
      "building tree 99 of 400\n",
      "building tree 100 of 400\n",
      "building tree 101 of 400\n",
      "building tree 102 of 400\n",
      "building tree 103 of 400\n",
      "building tree 104 of 400\n",
      "building tree 105 of 400\n",
      "building tree 106 of 400\n",
      "building tree 107 of 400\n",
      "building tree 108 of 400\n",
      "building tree 109 of 400\n",
      "building tree 110 of 400\n"
     ]
    },
    {
     "name": "stderr",
     "output_type": "stream",
     "text": [
      "[Parallel(n_jobs=-1)]: Done 105 tasks      | elapsed:    8.8s\n"
     ]
    },
    {
     "name": "stdout",
     "output_type": "stream",
     "text": [
      "building tree 111 of 400\n",
      "building tree 112 of 400\n",
      "building tree 113 of 400\n",
      "building tree 114 of 400\n",
      "building tree 115 of 400\n",
      "building tree 116 of 400\n",
      "building tree 117 of 400\n",
      "building tree 118 of 400\n",
      "building tree 119 of 400\n",
      "building tree 120 of 400\n",
      "building tree 121 of 400\n",
      "building tree 122 of 400\n",
      "building tree 123 of 400\n"
     ]
    },
    {
     "name": "stderr",
     "output_type": "stream",
     "text": [
      "[Parallel(n_jobs=-1)]: Done 120 tasks      | elapsed:   10.1s\n"
     ]
    },
    {
     "name": "stdout",
     "output_type": "stream",
     "text": [
      "building tree 124 of 400\n",
      "building tree 125 of 400\n",
      "building tree 126 of 400\n",
      "building tree 127 of 400\n",
      "building tree 128 of 400\n",
      "building tree 129 of 400\n",
      "building tree 130 of 400\n",
      "building tree 131 of 400\n",
      "building tree 132 of 400\n",
      "building tree 133 of 400\n",
      "building tree 134 of 400\n",
      "building tree 135 of 400\n",
      "building tree 136 of 400\n",
      "building tree 137 of 400\n",
      "building tree 138 of 400\n",
      "building tree 139 of 400\n",
      "building tree 140 of 400\n"
     ]
    },
    {
     "name": "stderr",
     "output_type": "stream",
     "text": [
      "[Parallel(n_jobs=-1)]: Done 137 tasks      | elapsed:   11.8s\n"
     ]
    },
    {
     "name": "stdout",
     "output_type": "stream",
     "text": [
      "building tree 141 of 400\n",
      "building tree 142 of 400\n",
      "building tree 143 of 400\n",
      "building tree 144 of 400\n",
      "building tree 145 of 400\n",
      "building tree 146 of 400\n",
      "building tree 147 of 400\n",
      "building tree 148 of 400\n",
      "building tree 149 of 400\n",
      "building tree 150 of 400\n",
      "building tree 151 of 400\n",
      "building tree 152 of 400\n",
      "building tree 153 of 400\n",
      "building tree 154 of 400\n",
      "building tree 155 of 400\n",
      "building tree 156 of 400\n",
      "building tree 157 of 400\n",
      "building tree 158 of 400\n",
      "building tree 159 of 400\n",
      "building tree 160 of 400\n"
     ]
    },
    {
     "name": "stderr",
     "output_type": "stream",
     "text": [
      "[Parallel(n_jobs=-1)]: Done 154 tasks      | elapsed:   13.1s\n"
     ]
    },
    {
     "name": "stdout",
     "output_type": "stream",
     "text": [
      "building tree 161 of 400\n",
      "building tree 162 of 400\n",
      "building tree 163 of 400\n",
      "building tree 164 of 400\n",
      "building tree 165 of 400\n",
      "building tree 166 of 400\n",
      "building tree 167 of 400\n",
      "building tree 168 of 400\n",
      "building tree 169 of 400\n",
      "building tree 170 of 400\n",
      "building tree 171 of 400\n",
      "building tree 172 of 400\n",
      "building tree 173 of 400\n",
      "building tree 174 of 400\n",
      "building tree 175 of 400\n",
      "building tree 176 of 400\n",
      "building tree 177 of 400\n"
     ]
    },
    {
     "name": "stderr",
     "output_type": "stream",
     "text": [
      "[Parallel(n_jobs=-1)]: Done 173 tasks      | elapsed:   14.7s\n"
     ]
    },
    {
     "name": "stdout",
     "output_type": "stream",
     "text": [
      "building tree 178 of 400\n",
      "building tree 179 of 400\n",
      "building tree 180 of 400\n",
      "building tree 181 of 400\n",
      "building tree 182 of 400\n",
      "building tree 183 of 400\n",
      "building tree 184 of 400\n",
      "building tree 185 of 400\n",
      "building tree 186 of 400\n",
      "building tree 187 of 400\n",
      "building tree 188 of 400\n",
      "building tree 189 of 400\n",
      "building tree 190 of 400\n",
      "building tree 191 of 400\n",
      "building tree 192 of 400\n",
      "building tree 193 of 400\n",
      "building tree 194 of 400\n",
      "building tree 195 of 400\n",
      "building tree 196 of 400\n",
      "building tree 197 of 400\n"
     ]
    },
    {
     "name": "stderr",
     "output_type": "stream",
     "text": [
      "[Parallel(n_jobs=-1)]: Done 192 tasks      | elapsed:   16.6s\n"
     ]
    },
    {
     "name": "stdout",
     "output_type": "stream",
     "text": [
      "building tree 198 of 400\n",
      "building tree 199 of 400\n",
      "building tree 200 of 400\n",
      "building tree 201 of 400\n",
      "building tree 202 of 400\n",
      "building tree 203 of 400\n",
      "building tree 204 of 400\n",
      "building tree 205 of 400\n",
      "building tree 206 of 400\n",
      "building tree 207 of 400\n",
      "building tree 208 of 400\n",
      "building tree 209 of 400\n",
      "building tree 210 of 400\n",
      "building tree 211 of 400\n",
      "building tree 212 of 400\n",
      "building tree 213 of 400\n",
      "building tree 214 of 400\n",
      "building tree 215 of 400\n",
      "building tree 216 of 400\n",
      "building tree 217 of 400\n"
     ]
    },
    {
     "name": "stderr",
     "output_type": "stream",
     "text": [
      "[Parallel(n_jobs=-1)]: Done 213 tasks      | elapsed:   18.2s\n"
     ]
    },
    {
     "name": "stdout",
     "output_type": "stream",
     "text": [
      "building tree 218 of 400\n",
      "building tree 219 of 400\n",
      "building tree 220 of 400\n",
      "building tree 221 of 400\n",
      "building tree 222 of 400\n",
      "building tree 223 of 400\n",
      "building tree 224 of 400\n",
      "building tree 225 of 400\n",
      "building tree 226 of 400\n",
      "building tree 227 of 400\n",
      "building tree 228 of 400\n",
      "building tree 229 of 400\n",
      "building tree 230 of 400\n",
      "building tree 231 of 400\n",
      "building tree 232 of 400\n",
      "building tree 233 of 400\n",
      "building tree 234 of 400\n",
      "building tree 235 of 400\n",
      "building tree 236 of 400\n",
      "building tree 237 of 400\n",
      "building tree 238 of 400\n"
     ]
    },
    {
     "name": "stderr",
     "output_type": "stream",
     "text": [
      "[Parallel(n_jobs=-1)]: Done 234 tasks      | elapsed:   20.2s\n"
     ]
    },
    {
     "name": "stdout",
     "output_type": "stream",
     "text": [
      "building tree 239 of 400\n",
      "building tree 240 of 400\n",
      "building tree 241 of 400\n",
      "building tree 242 of 400\n",
      "building tree 243 of 400\n",
      "building tree 244 of 400\n",
      "building tree 245 of 400\n",
      "building tree 246 of 400\n",
      "building tree 247 of 400\n",
      "building tree 248 of 400\n",
      "building tree 249 of 400\n",
      "building tree 250 of 400\n",
      "building tree 251 of 400\n",
      "building tree 252 of 400\n",
      "building tree 253 of 400\n",
      "building tree 254 of 400\n",
      "building tree 255 of 400\n",
      "building tree 256 of 400\n",
      "building tree 257 of 400\n",
      "building tree 258 of 400\n",
      "building tree 259 of 400\n",
      "building tree 260 of 400\n",
      "building tree 261 of 400\n",
      "building tree 262 of 400\n"
     ]
    },
    {
     "name": "stderr",
     "output_type": "stream",
     "text": [
      "[Parallel(n_jobs=-1)]: Done 257 tasks      | elapsed:   22.5s\n"
     ]
    },
    {
     "name": "stdout",
     "output_type": "stream",
     "text": [
      "building tree 263 of 400\n",
      "building tree 264 of 400\n",
      "building tree 265 of 400\n",
      "building tree 266 of 400\n",
      "building tree 267 of 400\n",
      "building tree 268 of 400\n",
      "building tree 269 of 400\n",
      "building tree 270 of 400\n",
      "building tree 271 of 400\n",
      "building tree 272 of 400\n",
      "building tree 273 of 400\n",
      "building tree 274 of 400\n",
      "building tree 275 of 400\n",
      "building tree 276 of 400\n",
      "building tree 277 of 400\n",
      "building tree 278 of 400\n",
      "building tree 279 of 400\n",
      "building tree 280 of 400\n",
      "building tree 281 of 400\n",
      "building tree 282 of 400\n",
      "building tree 283 of 400\n",
      "building tree 284 of 400\n"
     ]
    },
    {
     "name": "stderr",
     "output_type": "stream",
     "text": [
      "[Parallel(n_jobs=-1)]: Done 280 tasks      | elapsed:   24.9s\n"
     ]
    },
    {
     "name": "stdout",
     "output_type": "stream",
     "text": [
      "building tree 285 of 400\n",
      "building tree 286 of 400\n",
      "building tree 287 of 400\n",
      "building tree 288 of 400\n",
      "building tree 289 of 400\n",
      "building tree 290 of 400\n",
      "building tree 291 of 400\n",
      "building tree 292 of 400\n",
      "building tree 293 of 400\n",
      "building tree 294 of 400\n",
      "building tree 295 of 400\n",
      "building tree 296 of 400\n",
      "building tree 297 of 400\n",
      "building tree 298 of 400\n",
      "building tree 299 of 400\n",
      "building tree 300 of 400\n",
      "building tree 301 of 400\n",
      "building tree 302 of 400\n",
      "building tree 303 of 400building tree 304 of 400\n",
      "\n",
      "building tree 305 of 400\n",
      "building tree 306 of 400\n",
      "building tree 307 of 400\n",
      "building tree 308 of 400\n"
     ]
    },
    {
     "name": "stderr",
     "output_type": "stream",
     "text": [
      "[Parallel(n_jobs=-1)]: Done 305 tasks      | elapsed:   27.2s\n"
     ]
    },
    {
     "name": "stdout",
     "output_type": "stream",
     "text": [
      "building tree 309 of 400\n",
      "building tree 310 of 400\n",
      "building tree 311 of 400\n",
      "building tree 312 of 400\n",
      "building tree 313 of 400\n",
      "building tree 314 of 400\n",
      "building tree 315 of 400\n",
      "building tree 316 of 400\n",
      "building tree 317 of 400\n",
      "building tree 318 of 400\n",
      "building tree 319 of 400\n",
      "building tree 320 of 400\n",
      "building tree 321 of 400\n",
      "building tree 322 of 400\n",
      "building tree 323 of 400\n",
      "building tree 324 of 400\n",
      "building tree 325 of 400\n",
      "building tree 326 of 400\n",
      "building tree 327 of 400\n",
      "building tree 328 of 400\n",
      "building tree 329 of 400\n",
      "building tree 330 of 400\n",
      "building tree 331 of 400\n",
      "building tree 332 of 400\n",
      "building tree 333 of 400\n",
      "building tree 334 of 400\n"
     ]
    },
    {
     "name": "stderr",
     "output_type": "stream",
     "text": [
      "[Parallel(n_jobs=-1)]: Done 330 tasks      | elapsed:   29.5s\n"
     ]
    },
    {
     "name": "stdout",
     "output_type": "stream",
     "text": [
      "building tree 335 of 400\n",
      "building tree 336 of 400\n",
      "building tree 337 of 400\n",
      "building tree 338 of 400\n",
      "building tree 339 of 400\n",
      "building tree 340 of 400\n",
      "building tree 341 of 400\n",
      "building tree 342 of 400\n",
      "building tree 343 of 400\n",
      "building tree 344 of 400\n",
      "building tree 345 of 400\n",
      "building tree 346 of 400\n",
      "building tree 347 of 400\n",
      "building tree 348 of 400\n",
      "building tree 349 of 400\n",
      "building tree 350 of 400\n",
      "building tree 351 of 400\n",
      "building tree 352 of 400\n",
      "building tree 353 of 400\n",
      "building tree 354 of 400\n",
      "building tree 355 of 400\n",
      "building tree 356 of 400\n",
      "building tree 357 of 400\n",
      "building tree 358 of 400\n",
      "building tree 359 of 400\n",
      "building tree 360 of 400\n",
      "building tree 361 of 400\n"
     ]
    },
    {
     "name": "stderr",
     "output_type": "stream",
     "text": [
      "[Parallel(n_jobs=-1)]: Done 357 tasks      | elapsed:   31.4s\n"
     ]
    },
    {
     "name": "stdout",
     "output_type": "stream",
     "text": [
      "building tree 362 of 400\n",
      "building tree 363 of 400\n",
      "building tree 364 of 400\n",
      "building tree 365 of 400\n",
      "building tree 366 of 400\n",
      "building tree 367 of 400\n",
      "building tree 368 of 400\n",
      "building tree 369 of 400\n",
      "building tree 370 of 400\n",
      "building tree 371 of 400\n",
      "building tree 372 of 400\n",
      "building tree 373 of 400\n",
      "building tree 374 of 400\n",
      "building tree 375 of 400\n",
      "building tree 376 of 400\n",
      "building tree 377 of 400\n",
      "building tree 378 of 400\n",
      "building tree 379 of 400\n",
      "building tree 380 of 400\n",
      "building tree 381 of 400\n",
      "building tree 382 of 400\n",
      "building tree 383 of 400\n",
      "building tree 384 of 400\n",
      "building tree 385 of 400\n",
      "building tree 386 of 400\n",
      "building tree 387 of 400\n",
      "building tree 388 of 400\n",
      "building tree 389 of 400\n"
     ]
    },
    {
     "name": "stderr",
     "output_type": "stream",
     "text": [
      "[Parallel(n_jobs=-1)]: Done 384 tasks      | elapsed:   33.3s\n"
     ]
    },
    {
     "name": "stdout",
     "output_type": "stream",
     "text": [
      "building tree 390 of 400\n",
      "building tree 391 of 400\n",
      "building tree 392 of 400\n",
      "building tree 393 of 400\n",
      "building tree 394 of 400\n",
      "building tree 395 of 400\n",
      "building tree 396 of 400\n",
      "building tree 397 of 400\n",
      "building tree 398 of 400\n",
      "building tree 399 of 400\n",
      "building tree 400 of 400\n"
     ]
    },
    {
     "name": "stderr",
     "output_type": "stream",
     "text": [
      "[Parallel(n_jobs=-1)]: Done 400 out of 400 | elapsed:   34.3s finished\n",
      "[Parallel(n_jobs=4)]: Using backend ThreadingBackend with 4 concurrent workers.\n",
      "[Parallel(n_jobs=4)]: Done   5 tasks      | elapsed:    0.0s\n",
      "[Parallel(n_jobs=4)]: Done  10 tasks      | elapsed:    0.1s\n",
      "[Parallel(n_jobs=4)]: Done  17 tasks      | elapsed:    0.1s\n",
      "[Parallel(n_jobs=4)]: Done  24 tasks      | elapsed:    0.1s\n",
      "[Parallel(n_jobs=4)]: Done  33 tasks      | elapsed:    0.2s\n",
      "[Parallel(n_jobs=4)]: Done  42 tasks      | elapsed:    0.2s\n",
      "[Parallel(n_jobs=4)]: Done  53 tasks      | elapsed:    0.3s\n",
      "[Parallel(n_jobs=4)]: Done  64 tasks      | elapsed:    0.4s\n",
      "[Parallel(n_jobs=4)]: Done  77 tasks      | elapsed:    0.4s\n",
      "[Parallel(n_jobs=4)]: Done  90 tasks      | elapsed:    0.5s\n",
      "[Parallel(n_jobs=4)]: Done 105 tasks      | elapsed:    0.6s\n",
      "[Parallel(n_jobs=4)]: Done 120 tasks      | elapsed:    0.7s\n",
      "[Parallel(n_jobs=4)]: Done 137 tasks      | elapsed:    0.8s\n",
      "[Parallel(n_jobs=4)]: Done 154 tasks      | elapsed:    0.9s\n",
      "[Parallel(n_jobs=4)]: Done 173 tasks      | elapsed:    1.0s\n",
      "[Parallel(n_jobs=4)]: Done 192 tasks      | elapsed:    1.1s\n",
      "[Parallel(n_jobs=4)]: Done 213 tasks      | elapsed:    1.2s\n",
      "[Parallel(n_jobs=4)]: Done 234 tasks      | elapsed:    1.3s\n",
      "[Parallel(n_jobs=4)]: Done 257 tasks      | elapsed:    1.5s\n",
      "[Parallel(n_jobs=4)]: Done 280 tasks      | elapsed:    1.6s\n",
      "[Parallel(n_jobs=4)]: Done 305 tasks      | elapsed:    1.8s\n",
      "[Parallel(n_jobs=4)]: Done 330 tasks      | elapsed:    1.9s\n",
      "[Parallel(n_jobs=4)]: Done 357 tasks      | elapsed:    2.1s\n",
      "[Parallel(n_jobs=4)]: Done 384 tasks      | elapsed:    2.2s\n",
      "[Parallel(n_jobs=4)]: Done 400 out of 400 | elapsed:    2.3s finished\n"
     ]
    }
   ],
   "source": [
    "model = RandomForestClassifier(bootstrap=True, class_weight=None, criterion='gini',\n",
    "                       max_depth=10, max_features='auto', max_leaf_nodes=None,\n",
    "                       min_impurity_decrease=0.0, min_impurity_split=None,\n",
    "                       min_samples_leaf=1, min_samples_split=2,\n",
    "                       min_weight_fraction_leaf=0.0, n_estimators=400,\n",
    "                       n_jobs=-1, oob_score=False, random_state=None, verbose=10,\n",
    "                       warm_start=False)\n",
    "\n",
    "model.fit(processed_train, target['status_group'])"
   ]
  },
  {
   "cell_type": "code",
   "execution_count": 86,
   "metadata": {},
   "outputs": [
    {
     "name": "stderr",
     "output_type": "stream",
     "text": [
      "[Parallel(n_jobs=4)]: Using backend ThreadingBackend with 4 concurrent workers.\n",
      "[Parallel(n_jobs=4)]: Done   5 tasks      | elapsed:    0.0s\n",
      "[Parallel(n_jobs=4)]: Done  10 tasks      | elapsed:    0.0s\n",
      "[Parallel(n_jobs=4)]: Done  17 tasks      | elapsed:    0.0s\n",
      "[Parallel(n_jobs=4)]: Done  24 tasks      | elapsed:    0.0s\n",
      "[Parallel(n_jobs=4)]: Done  33 tasks      | elapsed:    0.1s\n",
      "[Parallel(n_jobs=4)]: Done  42 tasks      | elapsed:    0.1s\n",
      "[Parallel(n_jobs=4)]: Done  53 tasks      | elapsed:    0.1s\n",
      "[Parallel(n_jobs=4)]: Done  64 tasks      | elapsed:    0.1s\n",
      "[Parallel(n_jobs=4)]: Done  77 tasks      | elapsed:    0.1s\n",
      "[Parallel(n_jobs=4)]: Done  90 tasks      | elapsed:    0.1s\n",
      "[Parallel(n_jobs=4)]: Done 105 tasks      | elapsed:    0.2s\n",
      "[Parallel(n_jobs=4)]: Done 120 tasks      | elapsed:    0.2s\n",
      "[Parallel(n_jobs=4)]: Done 137 tasks      | elapsed:    0.2s\n",
      "[Parallel(n_jobs=4)]: Done 154 tasks      | elapsed:    0.2s\n",
      "[Parallel(n_jobs=4)]: Done 173 tasks      | elapsed:    0.3s\n",
      "[Parallel(n_jobs=4)]: Done 192 tasks      | elapsed:    0.3s\n",
      "[Parallel(n_jobs=4)]: Done 213 tasks      | elapsed:    0.3s\n",
      "[Parallel(n_jobs=4)]: Done 234 tasks      | elapsed:    0.4s\n",
      "[Parallel(n_jobs=4)]: Done 257 tasks      | elapsed:    0.4s\n",
      "[Parallel(n_jobs=4)]: Done 280 tasks      | elapsed:    0.4s\n",
      "[Parallel(n_jobs=4)]: Done 305 tasks      | elapsed:    0.5s\n",
      "[Parallel(n_jobs=4)]: Done 330 tasks      | elapsed:    0.5s\n",
      "[Parallel(n_jobs=4)]: Done 357 tasks      | elapsed:    0.6s\n",
      "[Parallel(n_jobs=4)]: Done 384 tasks      | elapsed:    0.7s\n",
      "[Parallel(n_jobs=4)]: Done 400 out of 400 | elapsed:    0.7s finished\n"
     ]
    }
   ],
   "source": [
    "y_test_pred = model.predict(processed_test)"
   ]
  },
  {
   "cell_type": "code",
   "execution_count": 89,
   "metadata": {},
   "outputs": [
    {
     "name": "stderr",
     "output_type": "stream",
     "text": [
      "[Parallel(n_jobs=4)]: Using backend ThreadingBackend with 4 concurrent workers.\n",
      "[Parallel(n_jobs=4)]: Done   5 tasks      | elapsed:    0.1s\n",
      "[Parallel(n_jobs=4)]: Done  10 tasks      | elapsed:    0.1s\n",
      "[Parallel(n_jobs=4)]: Done  17 tasks      | elapsed:    0.2s\n",
      "[Parallel(n_jobs=4)]: Done  24 tasks      | elapsed:    0.2s\n",
      "[Parallel(n_jobs=4)]: Done  33 tasks      | elapsed:    0.3s\n",
      "[Parallel(n_jobs=4)]: Done  42 tasks      | elapsed:    0.4s\n",
      "[Parallel(n_jobs=4)]: Done  53 tasks      | elapsed:    0.5s\n",
      "[Parallel(n_jobs=4)]: Done  64 tasks      | elapsed:    0.6s\n",
      "[Parallel(n_jobs=4)]: Done  77 tasks      | elapsed:    0.7s\n",
      "[Parallel(n_jobs=4)]: Done  90 tasks      | elapsed:    0.8s\n",
      "[Parallel(n_jobs=4)]: Done 105 tasks      | elapsed:    0.9s\n",
      "[Parallel(n_jobs=4)]: Done 120 tasks      | elapsed:    1.0s\n",
      "[Parallel(n_jobs=4)]: Done 137 tasks      | elapsed:    1.1s\n",
      "[Parallel(n_jobs=4)]: Done 154 tasks      | elapsed:    1.2s\n",
      "[Parallel(n_jobs=4)]: Done 173 tasks      | elapsed:    1.4s\n",
      "[Parallel(n_jobs=4)]: Done 192 tasks      | elapsed:    1.6s\n",
      "[Parallel(n_jobs=4)]: Done 213 tasks      | elapsed:    1.7s\n",
      "[Parallel(n_jobs=4)]: Done 234 tasks      | elapsed:    1.9s\n",
      "[Parallel(n_jobs=4)]: Done 257 tasks      | elapsed:    2.1s\n",
      "[Parallel(n_jobs=4)]: Done 280 tasks      | elapsed:    2.3s\n",
      "[Parallel(n_jobs=4)]: Done 305 tasks      | elapsed:    2.5s\n",
      "[Parallel(n_jobs=4)]: Done 330 tasks      | elapsed:    2.7s\n",
      "[Parallel(n_jobs=4)]: Done 357 tasks      | elapsed:    2.9s\n",
      "[Parallel(n_jobs=4)]: Done 384 tasks      | elapsed:    3.2s\n",
      "[Parallel(n_jobs=4)]: Done 400 out of 400 | elapsed:    3.3s finished\n"
     ]
    }
   ],
   "source": [
    "y_train_pred = model.predict(processed_train)"
   ]
  },
  {
   "cell_type": "code",
   "execution_count": 90,
   "metadata": {},
   "outputs": [
    {
     "data": {
      "text/plain": [
       "0.8180976430976431"
      ]
     },
     "execution_count": 90,
     "metadata": {},
     "output_type": "execute_result"
    }
   ],
   "source": [
    "accuracy_score(target['status_group'], y_train_pred)"
   ]
  },
  {
   "cell_type": "code",
   "execution_count": 88,
   "metadata": {},
   "outputs": [],
   "source": [
    "create_submission( y_test_pred )"
   ]
  },
  {
   "cell_type": "code",
   "execution_count": 346,
   "metadata": {},
   "outputs": [
    {
     "name": "stderr",
     "output_type": "stream",
     "text": [
      "[Parallel(n_jobs=-1)]: Using backend ThreadingBackend with 4 concurrent workers.\n"
     ]
    },
    {
     "name": "stdout",
     "output_type": "stream",
     "text": [
      "building tree 1 of 250building tree 2 of 250\n",
      "\n",
      "building tree 3 of 250\n",
      "building tree 4 of 250\n",
      "building tree 5 of 250\n",
      "building tree 6 of 250\n",
      "building tree 7 of 250\n",
      "building tree 8 of 250\n"
     ]
    },
    {
     "name": "stderr",
     "output_type": "stream",
     "text": [
      "[Parallel(n_jobs=-1)]: Done   5 tasks      | elapsed:    0.5s\n"
     ]
    },
    {
     "name": "stdout",
     "output_type": "stream",
     "text": [
      "building tree 9 of 250\n",
      "building tree 10 of 250\n",
      "building tree 11 of 250\n",
      "building tree 12 of 250\n",
      "building tree 13 of 250\n",
      "building tree 14 of 250\n",
      "building tree 15 of 250\n",
      "building tree 16 of 250\n"
     ]
    },
    {
     "name": "stderr",
     "output_type": "stream",
     "text": [
      "[Parallel(n_jobs=-1)]: Done  10 tasks      | elapsed:    0.7s\n"
     ]
    },
    {
     "name": "stdout",
     "output_type": "stream",
     "text": [
      "building tree 17 of 250\n",
      "building tree 18 of 250\n",
      "building tree 19 of 250\n",
      "building tree 20 of 250\n"
     ]
    },
    {
     "name": "stderr",
     "output_type": "stream",
     "text": [
      "[Parallel(n_jobs=-1)]: Done  17 tasks      | elapsed:    1.2s\n"
     ]
    },
    {
     "name": "stdout",
     "output_type": "stream",
     "text": [
      "building tree 21 of 250\n",
      "building tree 22 of 250\n",
      "building tree 23 of 250\n",
      "building tree 24 of 250\n",
      "building tree 25 of 250\n",
      "building tree 26 of 250\n",
      "building tree 27 of 250\n",
      "building tree 28 of 250\n"
     ]
    },
    {
     "name": "stderr",
     "output_type": "stream",
     "text": [
      "[Parallel(n_jobs=-1)]: Done  24 tasks      | elapsed:    1.6s\n"
     ]
    },
    {
     "name": "stdout",
     "output_type": "stream",
     "text": [
      "building tree 29 of 250\n",
      "building tree 30 of 250\n",
      "building tree 31 of 250\n",
      "building tree 32 of 250\n",
      "building tree 33 of 250\n",
      "building tree 34 of 250\n",
      "building tree 35 of 250\n",
      "building tree 36 of 250\n"
     ]
    },
    {
     "name": "stderr",
     "output_type": "stream",
     "text": [
      "[Parallel(n_jobs=-1)]: Done  33 tasks      | elapsed:    2.2s\n"
     ]
    },
    {
     "name": "stdout",
     "output_type": "stream",
     "text": [
      "building tree 37 of 250\n",
      "building tree 38 of 250building tree 39 of 250\n",
      "\n",
      "building tree 40 of 250\n",
      "building tree 41 of 250\n",
      "building tree 42 of 250\n",
      "building tree 43 of 250\n",
      "building tree 44 of 250\n",
      "building tree 45 of 250\n",
      "building tree 46 of 250\n",
      "building tree 47 of 250\n",
      "building tree 48 of 250\n"
     ]
    },
    {
     "name": "stderr",
     "output_type": "stream",
     "text": [
      "[Parallel(n_jobs=-1)]: Done  42 tasks      | elapsed:    2.6s\n"
     ]
    },
    {
     "name": "stdout",
     "output_type": "stream",
     "text": [
      "building tree 49 of 250\n",
      "building tree 50 of 250\n",
      "building tree 51 of 250\n",
      "building tree 52 of 250\n",
      "building tree 53 of 250\n",
      "building tree 54 of 250\n",
      "building tree 55 of 250\n",
      "building tree 56 of 250\n"
     ]
    },
    {
     "name": "stderr",
     "output_type": "stream",
     "text": [
      "[Parallel(n_jobs=-1)]: Done  53 tasks      | elapsed:    3.3s\n"
     ]
    },
    {
     "name": "stdout",
     "output_type": "stream",
     "text": [
      "building tree 57 of 250\n",
      "building tree 58 of 250\n",
      "building tree 59 of 250\n",
      "building tree 60 of 250\n",
      "building tree 61 of 250\n",
      "building tree 62 of 250\n",
      "building tree 63 of 250\n",
      "building tree 64 of 250\n",
      "building tree 65 of 250\n",
      "building tree 66 of 250\n",
      "building tree 67 of 250\n",
      "building tree 68 of 250\n"
     ]
    },
    {
     "name": "stderr",
     "output_type": "stream",
     "text": [
      "[Parallel(n_jobs=-1)]: Done  64 tasks      | elapsed:    3.9s\n"
     ]
    },
    {
     "name": "stdout",
     "output_type": "stream",
     "text": [
      "building tree 69 of 250\n",
      "building tree 70 of 250\n",
      "building tree 71 of 250\n",
      "building tree 72 of 250\n",
      "building tree 73 of 250\n",
      "building tree 74 of 250\n",
      "building tree 75 of 250\n",
      "building tree 76 of 250\n",
      "building tree 77 of 250\n",
      "building tree 78 of 250\n",
      "building tree 79 of 250\n",
      "building tree 80 of 250\n"
     ]
    },
    {
     "name": "stderr",
     "output_type": "stream",
     "text": [
      "[Parallel(n_jobs=-1)]: Done  77 tasks      | elapsed:    4.8s\n"
     ]
    },
    {
     "name": "stdout",
     "output_type": "stream",
     "text": [
      "building tree 81 of 250\n",
      "building tree 82 of 250\n",
      "building tree 83 of 250\n",
      "building tree 84 of 250\n",
      "building tree 85 of 250\n",
      "building tree 86 of 250\n",
      "building tree 87 of 250\n",
      "building tree 88 of 250\n",
      "building tree 89 of 250\n",
      "building tree 90 of 250\n",
      "building tree 91 of 250\n",
      "building tree 92 of 250\n",
      "building tree 93 of 250\n",
      "building tree 94 of 250\n",
      "building tree 95 of 250\n",
      "building tree 96 of 250\n"
     ]
    },
    {
     "name": "stderr",
     "output_type": "stream",
     "text": [
      "[Parallel(n_jobs=-1)]: Done  90 tasks      | elapsed:    5.5s\n"
     ]
    },
    {
     "name": "stdout",
     "output_type": "stream",
     "text": [
      "building tree 97 of 250\n",
      "building tree 98 of 250\n",
      "building tree 99 of 250\n",
      "building tree 100 of 250\n",
      "building tree 101 of 250\n",
      "building tree 102 of 250\n",
      "building tree 103 of 250\n",
      "building tree 104 of 250\n",
      "building tree 105 of 250\n",
      "building tree 106 of 250\n",
      "building tree 107 of 250\n",
      "building tree 108 of 250\n"
     ]
    },
    {
     "name": "stderr",
     "output_type": "stream",
     "text": [
      "[Parallel(n_jobs=-1)]: Done 105 tasks      | elapsed:    6.4s\n"
     ]
    },
    {
     "name": "stdout",
     "output_type": "stream",
     "text": [
      "building tree 109 of 250\n",
      "building tree 110 of 250\n",
      "building tree 111 of 250\n",
      "building tree 112 of 250\n",
      "building tree 113 of 250\n",
      "building tree 114 of 250building tree 115 of 250\n",
      "\n",
      "building tree 116 of 250\n",
      "building tree 117 of 250\n",
      "building tree 118 of 250\n",
      "building tree 119 of 250\n",
      "building tree 120 of 250\n",
      "building tree 121 of 250\n",
      "building tree 122 of 250\n",
      "building tree 123 of 250\n",
      "building tree 124 of 250\n"
     ]
    },
    {
     "name": "stderr",
     "output_type": "stream",
     "text": [
      "[Parallel(n_jobs=-1)]: Done 120 tasks      | elapsed:    7.4s\n"
     ]
    },
    {
     "name": "stdout",
     "output_type": "stream",
     "text": [
      "building tree 125 of 250\n",
      "building tree 126 of 250\n",
      "building tree 127 of 250\n",
      "building tree 128 of 250\n",
      "building tree 129 of 250\n",
      "building tree 130 of 250\n",
      "building tree 131 of 250\n",
      "building tree 132 of 250\n",
      "building tree 133 of 250\n",
      "building tree 134 of 250\n",
      "building tree 135 of 250\n",
      "building tree 136 of 250\n",
      "building tree 137 of 250\n",
      "building tree 138 of 250\n",
      "building tree 139 of 250\n",
      "building tree 140 of 250\n"
     ]
    },
    {
     "name": "stderr",
     "output_type": "stream",
     "text": [
      "[Parallel(n_jobs=-1)]: Done 137 tasks      | elapsed:    8.6s\n"
     ]
    },
    {
     "name": "stdout",
     "output_type": "stream",
     "text": [
      "building tree 141 of 250\n",
      "building tree 142 of 250\n",
      "building tree 143 of 250\n",
      "building tree 144 of 250\n",
      "building tree 145 of 250\n",
      "building tree 146 of 250\n",
      "building tree 147 of 250\n",
      "building tree 148 of 250\n",
      "building tree 149 of 250\n",
      "building tree 150 of 250\n",
      "building tree 151 of 250\n",
      "building tree 152 of 250\n",
      "building tree 153 of 250\n",
      "building tree 154 of 250\n",
      "building tree 155 of 250\n",
      "building tree 156 of 250\n",
      "building tree 157 of 250\n",
      "building tree 158 of 250\n",
      "building tree 159 of 250\n",
      "building tree 160 of 250\n"
     ]
    },
    {
     "name": "stderr",
     "output_type": "stream",
     "text": [
      "[Parallel(n_jobs=-1)]: Done 154 tasks      | elapsed:   10.0s\n"
     ]
    },
    {
     "name": "stdout",
     "output_type": "stream",
     "text": [
      "building tree 161 of 250\n",
      "building tree 162 of 250\n",
      "building tree 163 of 250\n",
      "building tree 164 of 250\n",
      "building tree 165 of 250\n",
      "building tree 166 of 250\n",
      "building tree 167 of 250\n",
      "building tree 168 of 250\n",
      "building tree 169 of 250\n",
      "building tree 170 of 250\n",
      "building tree 171 of 250\n",
      "building tree 172 of 250\n",
      "building tree 173 of 250\n",
      "building tree 174 of 250\n",
      "building tree 175 of 250\n",
      "building tree 176 of 250\n",
      "building tree 177 of 250\n"
     ]
    },
    {
     "name": "stderr",
     "output_type": "stream",
     "text": [
      "[Parallel(n_jobs=-1)]: Done 173 tasks      | elapsed:   11.5s\n"
     ]
    },
    {
     "name": "stdout",
     "output_type": "stream",
     "text": [
      "building tree 178 of 250\n",
      "building tree 179 of 250\n",
      "building tree 180 of 250\n",
      "building tree 181 of 250\n",
      "building tree 182 of 250\n",
      "building tree 183 of 250\n",
      "building tree 184 of 250\n",
      "building tree 185 of 250\n",
      "building tree 186 of 250\n",
      "building tree 187 of 250\n",
      "building tree 188 of 250\n",
      "building tree 189 of 250\n",
      "building tree 190 of 250\n",
      "building tree 191 of 250\n",
      "building tree 192 of 250\n",
      "building tree 193 of 250\n",
      "building tree 194 of 250\n",
      "building tree 195 of 250\n",
      "building tree 196 of 250\n",
      "building tree 197 of 250\n",
      "building tree 198 of 250\n"
     ]
    },
    {
     "name": "stderr",
     "output_type": "stream",
     "text": [
      "[Parallel(n_jobs=-1)]: Done 192 tasks      | elapsed:   12.7s\n"
     ]
    },
    {
     "name": "stdout",
     "output_type": "stream",
     "text": [
      "building tree 199 of 250\n",
      "building tree 200 of 250\n",
      "building tree 201 of 250\n",
      "building tree 202 of 250\n",
      "building tree 203 of 250\n",
      "building tree 204 of 250\n",
      "building tree 205 of 250\n",
      "building tree 206 of 250\n",
      "building tree 207 of 250\n",
      "building tree 208 of 250\n",
      "building tree 209 of 250\n",
      "building tree 210 of 250\n",
      "building tree 211 of 250\n",
      "building tree 212 of 250\n",
      "building tree 213 of 250\n",
      "building tree 214 of 250\n",
      "building tree 215 of 250\n",
      "building tree 216 of 250\n"
     ]
    },
    {
     "name": "stderr",
     "output_type": "stream",
     "text": [
      "[Parallel(n_jobs=-1)]: Done 213 tasks      | elapsed:   14.1s\n"
     ]
    },
    {
     "name": "stdout",
     "output_type": "stream",
     "text": [
      "building tree 217 of 250\n",
      "building tree 218 of 250\n",
      "building tree 219 of 250\n",
      "building tree 220 of 250\n",
      "building tree 221 of 250\n",
      "building tree 222 of 250\n",
      "building tree 223 of 250\n",
      "building tree 224 of 250\n",
      "building tree 225 of 250\n",
      "building tree 226 of 250\n",
      "building tree 227 of 250\n",
      "building tree 228 of 250\n",
      "building tree 229 of 250\n",
      "building tree 230 of 250\n",
      "building tree 231 of 250\n",
      "building tree 232 of 250\n",
      "building tree 233 of 250\n",
      "building tree 234 of 250\n",
      "building tree 235 of 250\n",
      "building tree 236 of 250\n",
      "building tree 237 of 250\n",
      "building tree 238 of 250\n",
      "building tree 239 of 250\n"
     ]
    },
    {
     "name": "stderr",
     "output_type": "stream",
     "text": [
      "[Parallel(n_jobs=-1)]: Done 234 tasks      | elapsed:   15.5s\n"
     ]
    },
    {
     "name": "stdout",
     "output_type": "stream",
     "text": [
      "building tree 240 of 250\n",
      "building tree 241 of 250\n",
      "building tree 242 of 250\n",
      "building tree 243 of 250\n",
      "building tree 244 of 250\n",
      "building tree 245 of 250\n",
      "building tree 246 of 250\n",
      "building tree 247 of 250\n",
      "building tree 248 of 250\n",
      "building tree 249 of 250\n",
      "building tree 250 of 250\n"
     ]
    },
    {
     "name": "stderr",
     "output_type": "stream",
     "text": [
      "[Parallel(n_jobs=-1)]: Done 250 out of 250 | elapsed:   16.4s finished\n"
     ]
    },
    {
     "data": {
      "text/plain": [
       "RandomForestClassifier(bootstrap=True, class_weight=None, criterion='gini',\n",
       "                       max_depth=10, max_features='auto', max_leaf_nodes=None,\n",
       "                       min_impurity_decrease=0.0, min_impurity_split=None,\n",
       "                       min_samples_leaf=1, min_samples_split=2,\n",
       "                       min_weight_fraction_leaf=0.0, n_estimators=250,\n",
       "                       n_jobs=-1, oob_score=False, random_state=None,\n",
       "                       verbose=10, warm_start=False)"
      ]
     },
     "execution_count": 346,
     "metadata": {},
     "output_type": "execute_result"
    }
   ],
   "source": [
    "model.fit(processed_train, target['status_group'])"
   ]
  },
  {
   "cell_type": "code",
   "execution_count": 347,
   "metadata": {},
   "outputs": [
    {
     "name": "stderr",
     "output_type": "stream",
     "text": [
      "[Parallel(n_jobs=4)]: Using backend ThreadingBackend with 4 concurrent workers.\n",
      "[Parallel(n_jobs=4)]: Done   5 tasks      | elapsed:    0.0s\n",
      "[Parallel(n_jobs=4)]: Done  10 tasks      | elapsed:    0.0s\n",
      "[Parallel(n_jobs=4)]: Done  17 tasks      | elapsed:    0.1s\n",
      "[Parallel(n_jobs=4)]: Done  24 tasks      | elapsed:    0.1s\n",
      "[Parallel(n_jobs=4)]: Done  33 tasks      | elapsed:    0.1s\n",
      "[Parallel(n_jobs=4)]: Done  42 tasks      | elapsed:    0.2s\n",
      "[Parallel(n_jobs=4)]: Done  53 tasks      | elapsed:    0.2s\n",
      "[Parallel(n_jobs=4)]: Done  64 tasks      | elapsed:    0.3s\n",
      "[Parallel(n_jobs=4)]: Done  77 tasks      | elapsed:    0.3s\n",
      "[Parallel(n_jobs=4)]: Done  90 tasks      | elapsed:    0.4s\n",
      "[Parallel(n_jobs=4)]: Done 105 tasks      | elapsed:    0.5s\n",
      "[Parallel(n_jobs=4)]: Done 120 tasks      | elapsed:    0.5s\n",
      "[Parallel(n_jobs=4)]: Done 137 tasks      | elapsed:    0.6s\n",
      "[Parallel(n_jobs=4)]: Done 154 tasks      | elapsed:    0.7s\n",
      "[Parallel(n_jobs=4)]: Done 173 tasks      | elapsed:    0.8s\n",
      "[Parallel(n_jobs=4)]: Done 192 tasks      | elapsed:    0.8s\n",
      "[Parallel(n_jobs=4)]: Done 213 tasks      | elapsed:    0.9s\n",
      "[Parallel(n_jobs=4)]: Done 234 tasks      | elapsed:    1.1s\n",
      "[Parallel(n_jobs=4)]: Done 250 out of 250 | elapsed:    1.1s finished\n",
      "[Parallel(n_jobs=4)]: Using backend ThreadingBackend with 4 concurrent workers.\n",
      "[Parallel(n_jobs=4)]: Done   5 tasks      | elapsed:    0.0s\n",
      "[Parallel(n_jobs=4)]: Done  10 tasks      | elapsed:    0.0s\n",
      "[Parallel(n_jobs=4)]: Done  17 tasks      | elapsed:    0.1s\n",
      "[Parallel(n_jobs=4)]: Done  24 tasks      | elapsed:    0.1s\n",
      "[Parallel(n_jobs=4)]: Done  33 tasks      | elapsed:    0.1s\n",
      "[Parallel(n_jobs=4)]: Done  42 tasks      | elapsed:    0.2s\n",
      "[Parallel(n_jobs=4)]: Done  53 tasks      | elapsed:    0.2s\n",
      "[Parallel(n_jobs=4)]: Done  64 tasks      | elapsed:    0.3s\n",
      "[Parallel(n_jobs=4)]: Done  77 tasks      | elapsed:    0.4s\n",
      "[Parallel(n_jobs=4)]: Done  90 tasks      | elapsed:    0.4s\n",
      "[Parallel(n_jobs=4)]: Done 105 tasks      | elapsed:    0.5s\n",
      "[Parallel(n_jobs=4)]: Done 120 tasks      | elapsed:    0.6s\n",
      "[Parallel(n_jobs=4)]: Done 137 tasks      | elapsed:    0.7s\n",
      "[Parallel(n_jobs=4)]: Done 154 tasks      | elapsed:    0.7s\n",
      "[Parallel(n_jobs=4)]: Done 173 tasks      | elapsed:    0.8s\n",
      "[Parallel(n_jobs=4)]: Done 192 tasks      | elapsed:    0.9s\n",
      "[Parallel(n_jobs=4)]: Done 213 tasks      | elapsed:    1.0s\n",
      "[Parallel(n_jobs=4)]: Done 234 tasks      | elapsed:    1.1s\n",
      "[Parallel(n_jobs=4)]: Done 250 out of 250 | elapsed:    1.2s finished\n",
      "[Parallel(n_jobs=4)]: Using backend ThreadingBackend with 4 concurrent workers.\n",
      "[Parallel(n_jobs=4)]: Done   5 tasks      | elapsed:    0.0s\n",
      "[Parallel(n_jobs=4)]: Done  10 tasks      | elapsed:    0.0s\n",
      "[Parallel(n_jobs=4)]: Done  17 tasks      | elapsed:    0.1s\n",
      "[Parallel(n_jobs=4)]: Done  24 tasks      | elapsed:    0.1s\n",
      "[Parallel(n_jobs=4)]: Done  33 tasks      | elapsed:    0.1s\n",
      "[Parallel(n_jobs=4)]: Done  42 tasks      | elapsed:    0.2s\n",
      "[Parallel(n_jobs=4)]: Done  53 tasks      | elapsed:    0.2s\n",
      "[Parallel(n_jobs=4)]: Done  64 tasks      | elapsed:    0.3s\n",
      "[Parallel(n_jobs=4)]: Done  77 tasks      | elapsed:    0.3s\n",
      "[Parallel(n_jobs=4)]: Done  90 tasks      | elapsed:    0.4s\n",
      "[Parallel(n_jobs=4)]: Done 105 tasks      | elapsed:    0.5s\n",
      "[Parallel(n_jobs=4)]: Done 120 tasks      | elapsed:    0.5s\n",
      "[Parallel(n_jobs=4)]: Done 137 tasks      | elapsed:    0.6s\n",
      "[Parallel(n_jobs=4)]: Done 154 tasks      | elapsed:    0.7s\n",
      "[Parallel(n_jobs=4)]: Done 173 tasks      | elapsed:    0.8s\n",
      "[Parallel(n_jobs=4)]: Done 192 tasks      | elapsed:    0.9s\n",
      "[Parallel(n_jobs=4)]: Done 213 tasks      | elapsed:    1.0s\n",
      "[Parallel(n_jobs=4)]: Done 234 tasks      | elapsed:    1.1s\n",
      "[Parallel(n_jobs=4)]: Done 250 out of 250 | elapsed:    1.1s finished\n"
     ]
    },
    {
     "name": "stdout",
     "output_type": "stream",
     "text": [
      "RandomForestClassifier\n",
      "Accuracy Score: 0.7934848484848485\n",
      "F1 Score: 0.772256639138132\n",
      "Confusion Matrix:\n",
      "                       Predicted Functional  Predicted Needs Repair  \\\n",
      "Actual Functional                     30675                     101   \n",
      "Actual Needs Repair                    3133                     560   \n",
      "Actual Non-Functional                  6854                      72   \n",
      "\n",
      "                       Predicted Non-Functional  \n",
      "Actual Functional                          1483  \n",
      "Actual Needs Repair                         624  \n",
      "Actual Non-Functional                     15898  \n"
     ]
    }
   ],
   "source": [
    "classification_metrics(model, processed_train, target['status_group'])"
   ]
  },
  {
   "cell_type": "markdown",
   "metadata": {},
   "source": [
    "## XGBoost"
   ]
  },
  {
   "cell_type": "code",
   "execution_count": 316,
   "metadata": {},
   "outputs": [],
   "source": [
    "from xgboost import XGBClassifier\n",
    "import os\n",
    "os.environ['KMP_DUPLICATE_LIB_OK']='True'"
   ]
  },
  {
   "cell_type": "code",
   "execution_count": 375,
   "metadata": {},
   "outputs": [
    {
     "data": {
      "text/plain": [
       "XGBClassifier(base_score=0.5, booster='dart', colsample_bylevel=1,\n",
       "              colsample_bytree=1, gamma=0, learning_rate=0.07, max_delta_step=0,\n",
       "              max_depth=5, min_child_weight=1, missing=None, n_estimators=250,\n",
       "              n_jobs=-1, nthread=None, objective='binary:logistic',\n",
       "              random_state=0, reg_alpha=0, reg_lambda=1, scale_pos_weight=1,\n",
       "              seed=None, silent=False, subsample=1)"
      ]
     },
     "execution_count": 375,
     "metadata": {},
     "output_type": "execute_result"
    }
   ],
   "source": [
    "grboost = XGBClassifier(n_estimators=250,\n",
    "                        booster='dart',\n",
    "                        max_depth=5,\n",
    "                        learning_rate=0.07,\n",
    "                        silent=False,\n",
    "                        n_jobs=-1,\n",
    ")\n",
    "\n",
    "# param = {'booster': 'dart',\n",
    "#          'max_depth': 5, 'learning_rate': 0.07,\n",
    "#          'objective': 'binary:logistic', 'silent': False,\n",
    "#          'sample_type': 'uniform',\n",
    "#          'normalize_type': 'tree', 'n_jobs':-1,\n",
    "#          'rate_drop': 0.1,\n",
    "#          'skip_drop': 0.5}\n",
    "\n",
    "grboost.fit(processed_train, target['encoded'])"
   ]
  },
  {
   "cell_type": "code",
   "execution_count": 376,
   "metadata": {},
   "outputs": [],
   "source": [
    "y_train_pred_boost= grboost.predict(processed_train)"
   ]
  },
  {
   "cell_type": "code",
   "execution_count": 377,
   "metadata": {},
   "outputs": [],
   "source": [
    "y_test_pred_boost = grboost.predict(processed_test, ntree_limit=50)"
   ]
  },
  {
   "cell_type": "code",
   "execution_count": 378,
   "metadata": {},
   "outputs": [
    {
     "data": {
      "text/plain": [
       "0.824023569023569"
      ]
     },
     "execution_count": 378,
     "metadata": {},
     "output_type": "execute_result"
    }
   ],
   "source": [
    "accuracy_score(target['encoded'], y_train_pred_boost)"
   ]
  },
  {
   "cell_type": "code",
   "execution_count": 339,
   "metadata": {},
   "outputs": [
    {
     "name": "stdout",
     "output_type": "stream",
     "text": [
      "SubmissionsMB_2019-05-22_20:26:28.csv\n"
     ]
    }
   ],
   "source": [
    "create_submission(y_test_pred_boost)"
   ]
  },
  {
   "cell_type": "code",
   "execution_count": 100,
   "metadata": {},
   "outputs": [],
   "source": [
    "y_test_pred_boost = grboost.predict_proba(processed_test)"
   ]
  },
  {
   "cell_type": "markdown",
   "metadata": {},
   "source": [
    "### AdaBoostClassifier "
   ]
  },
  {
   "cell_type": "code",
   "execution_count": 108,
   "metadata": {},
   "outputs": [
    {
     "name": "stderr",
     "output_type": "stream",
     "text": [
      "[Parallel(n_jobs=-1)]: Using backend LokyBackend with 4 concurrent workers.\n",
      "[Parallel(n_jobs=-1)]: Done   3 out of   3 | elapsed:  2.7min remaining:    0.0s\n",
      "[Parallel(n_jobs=-1)]: Done   3 out of   3 | elapsed:  2.7min finished\n"
     ]
    }
   ],
   "source": [
    "from sklearn.ensemble import AdaBoostClassifier\n",
    "\n",
    "ada = AdaBoostClassifier(n_estimators=100)\n",
    "\n",
    "search = cross_validate(ada, \n",
    "                        processed_train, \n",
    "                        target['status_group'], \n",
    "                        return_train_score=True,\n",
    "                        return_estimator=True,\n",
    "                        scoring='accuracy', \n",
    "                        n_jobs=-1,\n",
    "                        verbose=10,\n",
    "                        cv=3)"
   ]
  },
  {
   "cell_type": "code",
   "execution_count": 109,
   "metadata": {},
   "outputs": [
    {
     "data": {
      "text/html": [
       "<div>\n",
       "<style scoped>\n",
       "    .dataframe tbody tr th:only-of-type {\n",
       "        vertical-align: middle;\n",
       "    }\n",
       "\n",
       "    .dataframe tbody tr th {\n",
       "        vertical-align: top;\n",
       "    }\n",
       "\n",
       "    .dataframe thead th {\n",
       "        text-align: right;\n",
       "    }\n",
       "</style>\n",
       "<table border=\"1\" class=\"dataframe\">\n",
       "  <thead>\n",
       "    <tr style=\"text-align: right;\">\n",
       "      <th></th>\n",
       "      <th>fit_time</th>\n",
       "      <th>score_time</th>\n",
       "      <th>estimator</th>\n",
       "      <th>test_score</th>\n",
       "      <th>train_score</th>\n",
       "    </tr>\n",
       "  </thead>\n",
       "  <tbody>\n",
       "    <tr>\n",
       "      <th>0</th>\n",
       "      <td>101.621589</td>\n",
       "      <td>17.280218</td>\n",
       "      <td>(DecisionTreeClassifier(class_weight=None, cri...</td>\n",
       "      <td>0.742071</td>\n",
       "      <td>0.742071</td>\n",
       "    </tr>\n",
       "    <tr>\n",
       "      <th>1</th>\n",
       "      <td>100.635195</td>\n",
       "      <td>17.111658</td>\n",
       "      <td>(DecisionTreeClassifier(class_weight=None, cri...</td>\n",
       "      <td>0.739596</td>\n",
       "      <td>0.741995</td>\n",
       "    </tr>\n",
       "    <tr>\n",
       "      <th>2</th>\n",
       "      <td>100.662782</td>\n",
       "      <td>17.122066</td>\n",
       "      <td>(DecisionTreeClassifier(class_weight=None, cri...</td>\n",
       "      <td>0.741212</td>\n",
       "      <td>0.742551</td>\n",
       "    </tr>\n",
       "  </tbody>\n",
       "</table>\n",
       "</div>"
      ],
      "text/plain": [
       "     fit_time  score_time                                          estimator  \\\n",
       "0  101.621589   17.280218  (DecisionTreeClassifier(class_weight=None, cri...   \n",
       "1  100.635195   17.111658  (DecisionTreeClassifier(class_weight=None, cri...   \n",
       "2  100.662782   17.122066  (DecisionTreeClassifier(class_weight=None, cri...   \n",
       "\n",
       "   test_score  train_score  \n",
       "0    0.742071     0.742071  \n",
       "1    0.739596     0.741995  \n",
       "2    0.741212     0.742551  "
      ]
     },
     "execution_count": 109,
     "metadata": {},
     "output_type": "execute_result"
    }
   ],
   "source": [
    "pd.DataFrame( search )"
   ]
  },
  {
   "cell_type": "markdown",
   "metadata": {},
   "source": [
    "### Voting Classifier"
   ]
  },
  {
   "cell_type": "code",
   "execution_count": 121,
   "metadata": {},
   "outputs": [],
   "source": [
    "from sklearn.ensemble import VotingClassifier\n",
    "\n",
    "estimators = [\n",
    "    ('rf', model),\n",
    "    ('grboost', grboost),\n",
    "]\n",
    "\n",
    "ensemble = VotingClassifier(estimators, n_jobs=-1, voting='soft', weights=[1, 1])"
   ]
  },
  {
   "cell_type": "code",
   "execution_count": 122,
   "metadata": {},
   "outputs": [
    {
     "data": {
      "text/plain": [
       "VotingClassifier(estimators=[('rf',\n",
       "                              RandomForestClassifier(bootstrap=True,\n",
       "                                                     class_weight=None,\n",
       "                                                     criterion='gini',\n",
       "                                                     max_depth=12,\n",
       "                                                     max_features='auto',\n",
       "                                                     max_leaf_nodes=None,\n",
       "                                                     min_impurity_decrease=0.0,\n",
       "                                                     min_impurity_split=None,\n",
       "                                                     min_samples_leaf=1,\n",
       "                                                     min_samples_split=2,\n",
       "                                                     min_weight_fraction_leaf=0.0,\n",
       "                                                     n_estimators=400,\n",
       "                                                     n_jobs=-1, oob_score=False,\n",
       "                                                     random_state=None,\n",
       "                                                     verbose=10...\n",
       "                                            colsample_bylevel=1,\n",
       "                                            colsample_bytree=1, gamma=0,\n",
       "                                            learning_rate=0.07,\n",
       "                                            max_delta_step=0, max_depth=6,\n",
       "                                            min_child_weight=1, missing=None,\n",
       "                                            n_estimators=300, n_jobs=-1,\n",
       "                                            nthread=None,\n",
       "                                            objective='multi:softprob',\n",
       "                                            random_state=0, reg_alpha=0,\n",
       "                                            reg_lambda=1, scale_pos_weight=1,\n",
       "                                            seed=None, silent=False,\n",
       "                                            subsample=1))],\n",
       "                 flatten_transform=True, n_jobs=-1, voting='soft',\n",
       "                 weights=[1, 1])"
      ]
     },
     "execution_count": 122,
     "metadata": {},
     "output_type": "execute_result"
    }
   ],
   "source": [
    "ensemble.fit(processed_train, target['status_group'])"
   ]
  },
  {
   "cell_type": "code",
   "execution_count": 123,
   "metadata": {},
   "outputs": [
    {
     "name": "stderr",
     "output_type": "stream",
     "text": [
      "[Parallel(n_jobs=4)]: Using backend ThreadingBackend with 4 concurrent workers.\n",
      "[Parallel(n_jobs=4)]: Done   5 tasks      | elapsed:    0.1s\n",
      "[Parallel(n_jobs=4)]: Done  10 tasks      | elapsed:    0.1s\n",
      "[Parallel(n_jobs=4)]: Done  17 tasks      | elapsed:    0.2s\n",
      "[Parallel(n_jobs=4)]: Done  24 tasks      | elapsed:    0.2s\n",
      "[Parallel(n_jobs=4)]: Done  33 tasks      | elapsed:    0.3s\n",
      "[Parallel(n_jobs=4)]: Done  42 tasks      | elapsed:    0.4s\n",
      "[Parallel(n_jobs=4)]: Done  53 tasks      | elapsed:    0.5s\n",
      "[Parallel(n_jobs=4)]: Done  64 tasks      | elapsed:    0.6s\n",
      "[Parallel(n_jobs=4)]: Done  77 tasks      | elapsed:    0.7s\n",
      "[Parallel(n_jobs=4)]: Done  90 tasks      | elapsed:    0.8s\n",
      "[Parallel(n_jobs=4)]: Done 105 tasks      | elapsed:    0.9s\n",
      "[Parallel(n_jobs=4)]: Done 120 tasks      | elapsed:    1.0s\n",
      "[Parallel(n_jobs=4)]: Done 137 tasks      | elapsed:    1.2s\n",
      "[Parallel(n_jobs=4)]: Done 154 tasks      | elapsed:    1.3s\n",
      "[Parallel(n_jobs=4)]: Done 173 tasks      | elapsed:    1.5s\n",
      "[Parallel(n_jobs=4)]: Done 192 tasks      | elapsed:    1.6s\n",
      "[Parallel(n_jobs=4)]: Done 213 tasks      | elapsed:    1.8s\n",
      "[Parallel(n_jobs=4)]: Done 234 tasks      | elapsed:    2.1s\n",
      "[Parallel(n_jobs=4)]: Done 257 tasks      | elapsed:    2.4s\n",
      "[Parallel(n_jobs=4)]: Done 280 tasks      | elapsed:    2.6s\n",
      "[Parallel(n_jobs=4)]: Done 305 tasks      | elapsed:    2.8s\n",
      "[Parallel(n_jobs=4)]: Done 330 tasks      | elapsed:    3.0s\n",
      "[Parallel(n_jobs=4)]: Done 357 tasks      | elapsed:    3.2s\n",
      "[Parallel(n_jobs=4)]: Done 384 tasks      | elapsed:    3.4s\n",
      "[Parallel(n_jobs=4)]: Done 400 out of 400 | elapsed:    3.5s finished\n"
     ]
    }
   ],
   "source": [
    "ensemble_train_predict = ensemble.predict(processed_train)"
   ]
  },
  {
   "cell_type": "code",
   "execution_count": 114,
   "metadata": {},
   "outputs": [
    {
     "name": "stderr",
     "output_type": "stream",
     "text": [
      "[Parallel(n_jobs=4)]: Using backend ThreadingBackend with 4 concurrent workers.\n",
      "[Parallel(n_jobs=4)]: Done   5 tasks      | elapsed:    0.0s\n",
      "[Parallel(n_jobs=4)]: Done  10 tasks      | elapsed:    0.1s\n",
      "[Parallel(n_jobs=4)]: Done  17 tasks      | elapsed:    0.1s\n",
      "[Parallel(n_jobs=4)]: Done  24 tasks      | elapsed:    0.1s\n",
      "[Parallel(n_jobs=4)]: Done  33 tasks      | elapsed:    0.1s\n",
      "[Parallel(n_jobs=4)]: Done  42 tasks      | elapsed:    0.1s\n",
      "[Parallel(n_jobs=4)]: Done  53 tasks      | elapsed:    0.2s\n",
      "[Parallel(n_jobs=4)]: Done  64 tasks      | elapsed:    0.2s\n",
      "[Parallel(n_jobs=4)]: Done  77 tasks      | elapsed:    0.2s\n",
      "[Parallel(n_jobs=4)]: Done  90 tasks      | elapsed:    0.3s\n",
      "[Parallel(n_jobs=4)]: Done 105 tasks      | elapsed:    0.3s\n",
      "[Parallel(n_jobs=4)]: Done 120 tasks      | elapsed:    0.3s\n",
      "[Parallel(n_jobs=4)]: Done 137 tasks      | elapsed:    0.4s\n",
      "[Parallel(n_jobs=4)]: Done 154 tasks      | elapsed:    0.4s\n",
      "[Parallel(n_jobs=4)]: Done 173 tasks      | elapsed:    0.5s\n",
      "[Parallel(n_jobs=4)]: Done 192 tasks      | elapsed:    0.5s\n",
      "[Parallel(n_jobs=4)]: Done 213 tasks      | elapsed:    0.6s\n",
      "[Parallel(n_jobs=4)]: Done 234 tasks      | elapsed:    0.7s\n",
      "[Parallel(n_jobs=4)]: Done 257 tasks      | elapsed:    0.8s\n",
      "[Parallel(n_jobs=4)]: Done 280 tasks      | elapsed:    0.8s\n",
      "[Parallel(n_jobs=4)]: Done 305 tasks      | elapsed:    0.9s\n",
      "[Parallel(n_jobs=4)]: Done 330 tasks      | elapsed:    1.0s\n",
      "[Parallel(n_jobs=4)]: Done 357 tasks      | elapsed:    1.2s\n",
      "[Parallel(n_jobs=4)]: Done 384 tasks      | elapsed:    1.3s\n",
      "[Parallel(n_jobs=4)]: Done 400 out of 400 | elapsed:    1.4s finished\n"
     ]
    }
   ],
   "source": [
    "ensemble_test_predict = ensemble.predict(processed_test)"
   ]
  },
  {
   "cell_type": "code",
   "execution_count": 115,
   "metadata": {},
   "outputs": [
    {
     "data": {
      "text/plain": [
       "array(['functional', 'functional', 'functional', ..., 'functional',\n",
       "       'functional', 'non functional'], dtype=object)"
      ]
     },
     "execution_count": 115,
     "metadata": {},
     "output_type": "execute_result"
    }
   ],
   "source": [
    "ensemble_test_predict"
   ]
  },
  {
   "cell_type": "code",
   "execution_count": 124,
   "metadata": {},
   "outputs": [
    {
     "data": {
      "text/plain": [
       "0.8261447811447812"
      ]
     },
     "execution_count": 124,
     "metadata": {},
     "output_type": "execute_result"
    }
   ],
   "source": [
    "accuracy_score(target['status_group'], ensemble_train_predict)"
   ]
  },
  {
   "cell_type": "code",
   "execution_count": 118,
   "metadata": {},
   "outputs": [],
   "source": [
    "create_submission(ensemble_test_predict)"
   ]
  }
 ],
 "metadata": {
  "kernelspec": {
   "display_name": "Python 3",
   "language": "python",
   "name": "python3"
  },
  "language_info": {
   "codemirror_mode": {
    "name": "ipython",
    "version": 3
   },
   "file_extension": ".py",
   "mimetype": "text/x-python",
   "name": "python",
   "nbconvert_exporter": "python",
   "pygments_lexer": "ipython3",
   "version": "3.6.8"
  }
 },
 "nbformat": 4,
 "nbformat_minor": 2
}
